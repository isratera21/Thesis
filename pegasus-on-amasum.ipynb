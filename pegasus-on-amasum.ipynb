{
 "cells": [
  {
   "cell_type": "code",
   "execution_count": null,
   "metadata": {
    "_cell_guid": "b1076dfc-b9ad-4769-8c92-a6c4dae69d19",
    "_uuid": "8f2839f25d086af736a60e9eeb907d3b93b6e0e5",
    "execution": {
     "iopub.status.busy": "2025-04-14T09:44:52.233328Z",
     "iopub.status.idle": "2025-04-14T09:44:52.233600Z",
     "shell.execute_reply": "2025-04-14T09:44:52.233489Z"
    },
    "trusted": true
   },
   "outputs": [],
   "source": [
    "import zipfile\n",
    "import json\n",
    "import io\n",
    "import os"
   ]
  },
  {
   "cell_type": "code",
   "execution_count": null,
   "metadata": {
    "execution": {
     "iopub.status.busy": "2025-04-14T09:44:52.234801Z",
     "iopub.status.idle": "2025-04-14T09:44:52.235133Z",
     "shell.execute_reply": "2025-04-14T09:44:52.235015Z"
    },
    "trusted": true
   },
   "outputs": [],
   "source": [
    "def read_json_from_folder(folder_path):\n",
    "    data = {}\n",
    "    json_files = [f for f in os.listdir(folder_path) if f.endswith('.json')]\n",
    "\n",
    "    for json_file in json_files:\n",
    "        file_path = os.path.join(folder_path, json_file)\n",
    "        with open(file_path, 'r', encoding='utf-8') as f:\n",
    "            data[json_file] = json.load(f)\n",
    "    \n",
    "    return data\n"
   ]
  },
  {
   "cell_type": "code",
   "execution_count": null,
   "metadata": {
    "execution": {
     "iopub.status.busy": "2025-04-14T09:44:52.235887Z",
     "iopub.status.idle": "2025-04-14T09:44:52.236223Z",
     "shell.execute_reply": "2025-04-14T09:44:52.236086Z"
    },
    "trusted": true
   },
   "outputs": [],
   "source": [
    "dataset_path = \"/kaggle/input/amasum/min_10_max_100_revs_filt_complete\"\n",
    "\n",
    "train_path = os.path.join(dataset_path, \"train\")\n",
    "test_path = os.path.join(dataset_path, \"test\")\n",
    "valid_path = os.path.join(dataset_path, \"valid\")\n"
   ]
  },
  {
   "cell_type": "code",
   "execution_count": null,
   "metadata": {
    "execution": {
     "iopub.status.busy": "2025-04-14T09:44:52.237306Z",
     "iopub.status.idle": "2025-04-14T09:44:52.237641Z",
     "shell.execute_reply": "2025-04-14T09:44:52.237519Z"
    },
    "trusted": true
   },
   "outputs": [],
   "source": [
    "train_data = read_json_from_folder(train_path)\n",
    "test_data = read_json_from_folder(test_path)\n",
    "valid_data = read_json_from_folder(valid_path)\n",
    "\n",
    "# Print a sample JSON file\n",
    "sample_file = list(train_data.keys())[0]\n",
    "#print(f\"Sample file: {sample_file}\\nData:\\n\", train_data[sample_file])"
   ]
  },
  {
   "cell_type": "code",
   "execution_count": 2,
   "metadata": {
    "execution": {
     "iopub.execute_input": "2025-04-14T09:44:52.947420Z",
     "iopub.status.busy": "2025-04-14T09:44:52.947139Z",
     "iopub.status.idle": "2025-04-14T09:49:00.552284Z",
     "shell.execute_reply": "2025-04-14T09:49:00.551591Z",
     "shell.execute_reply.started": "2025-04-14T09:44:52.947397Z"
    },
    "trusted": true
   },
   "outputs": [
    {
     "name": "stderr",
     "output_type": "stream",
     "text": [
      "Processing /kaggle/input/amasum/min_10_max_100_revs_filt_complete/train: 100%|██████████| 25203/25203 [03:05<00:00, 136.21it/s]\n",
      "Processing /kaggle/input/amasum/min_10_max_100_revs_filt_complete/valid: 100%|██████████| 3114/3114 [00:22<00:00, 137.99it/s]\n",
      "Processing /kaggle/input/amasum/min_10_max_100_revs_filt_complete/test: 100%|██████████| 3166/3166 [00:23<00:00, 132.01it/s]\n"
     ]
    }
   ],
   "source": [
    "import os\n",
    "import json\n",
    "import pandas as pd\n",
    "from tqdm import tqdm\n",
    "\n",
    "def prepare_dataset(folder_path):\n",
    "    \"\"\"Reads JSON files and prepares data for summarization, including pros and cons.\"\"\"\n",
    "    data_list = []\n",
    "    json_files = [f for f in os.listdir(folder_path) if f.endswith('.json')]\n",
    "\n",
    "    for json_file in tqdm(json_files, desc=f\"Processing {folder_path}\"):\n",
    "        file_path = os.path.join(folder_path, json_file)\n",
    "        with open(file_path, 'r', encoding='utf-8') as f:\n",
    "            data = json.load(f)\n",
    "\n",
    "            # Extract all customer reviews\n",
    "            reviews = []\n",
    "            if \"customer_reviews\" in data:\n",
    "                for review in data[\"customer_reviews\"]:\n",
    "                    reviews.append(review.get(\"text\", \"\"))\n",
    "\n",
    "            # Extract summary, pros, and cons\n",
    "            if \"website_summaries\" in data:\n",
    "                summary_data = data[\"website_summaries\"][0]  # First summary\n",
    "                summary = summary_data.get(\"verdict\", \"\")\n",
    "                pros = \", \".join(summary_data.get(\"pros\", []))  # Convert list to string\n",
    "                cons = \", \".join(summary_data.get(\"cons\", []))  # Convert list to string\n",
    "\n",
    "                if reviews and summary:\n",
    "                    combined_reviews = \" \".join(reviews)  # Merge all reviews\n",
    "                    data_list.append({\n",
    "                        \"reviews\": combined_reviews,\n",
    "                        \"pros\": pros,\n",
    "                        \"cons\": cons,\n",
    "                        \"summary\": summary\n",
    "                    })\n",
    "\n",
    "    return pd.DataFrame(data_list)\n",
    "\n",
    "# Define dataset paths\n",
    "dataset_path = \"/kaggle/input/amasum/min_10_max_100_revs_filt_complete\"\n",
    "\n",
    "# Prepare Train, Validation, and Test Data\n",
    "train_df = prepare_dataset(os.path.join(dataset_path, \"train\"))\n",
    "valid_df = prepare_dataset(os.path.join(dataset_path, \"valid\"))\n",
    "test_df = prepare_dataset(os.path.join(dataset_path, \"test\"))\n",
    "\n",
    "# Save to CSV for later use\n",
    "train_df.to_csv(\"pegasus_train_data.csv\", index=False)\n",
    "valid_df.to_csv(\"pegasus_valid_data.csv\", index=False)\n",
    "test_df.to_csv(\"pegasus_test_data.csv\", index=False)\n",
    "\n",
    "\n"
   ]
  },
  {
   "cell_type": "code",
   "execution_count": 3,
   "metadata": {
    "execution": {
     "iopub.execute_input": "2025-04-14T09:49:23.125944Z",
     "iopub.status.busy": "2025-04-14T09:49:23.125597Z",
     "iopub.status.idle": "2025-04-14T09:49:23.136412Z",
     "shell.execute_reply": "2025-04-14T09:49:23.135597Z",
     "shell.execute_reply.started": "2025-04-14T09:49:23.125914Z"
    },
    "trusted": true
   },
   "outputs": [
    {
     "name": "stdout",
     "output_type": "stream",
     "text": [
      "Train Data Sample:\n",
      "As long as this is still available, this is the absolute best phone for the money in my opinion. I researched seemingly forever for a low priced full-featured phone, and this fits the bill. The Windows O.S. is seamless and easy to customize and navigate. I just bought two more for my wife and daughter, who were always \"borrowing\" mine. I just have to chuckle when I see everyone swooning over the latest exhorbitantly priced Apple phones, and paying the equvalent of a car payment to do the same things this phone does. And my $30/ month plan is adequate for my business calling, email checking and file sending needs, which is all I need it for. Effective July 31 2017 Microsoft no longer supports software on this phone. It took two hours at At&t to get contacts from old phone to this one. Only buy if you have a way to transfer your contacts and are a very knowledgeable Windows user. Design is poor as edges of screen are widest part of phone and not Gorilla glass, so any drops without a substantial case will result in cracked screen. I bought this for an older friend whose screen cracked and who had never used an Android phone and didn't want to learn a new operating system. Other reviewers have indicated that this phone can't be returned unless damaged in Shipping. Buyer beware! This is the second of this model phone I have owned and the first one (had it for three years and ended up physically breaking) was so much better. I suspect that even though it is listed as new it is a remanufactured phone. this phone does not have the sms option to block calls or texts. also on this particular phone the screen locks and the only way to unlock it is to reboot the phone. I would return this but since I have put personal information on it I do not trust sending it back to the seller even after being reset. I bought these a couple times when I was on a budget and I think I'm allowed to say they were pretty decent even tho the OS didn't have much Apps to offer. Seemed like it was going well on their path... I was mistaken. Windows Phone OS died. Nevertheless they should be decent phones for kids who'd use them for calls and texts and YouTube mostly. They are quick enough to response and are made of tough materials. This is a really great phone for the price. It does much of what any smartphone can do without having to pay hundreds of dollars. One thing that I really like is you can use it to facebook, scroll, google, load and read articles and it does not close the app out on you, something that drove me crazy with my old iphone! If you don't mind not having as big a selection of apps as google or apple and if your fine with no selfie camera, this phone is a great choice. The camera quality is good, thread messaging and calling sounds crystal clear. volume is good as far as ringtone sound and call quality. My wife and I have been using \"dumb\" phones until recently. I like purchasing the Go Phones for the simple reason that if you break one, all you have to do is throw your SIM card into a back up one and you're up and running again. I keep extras on hand. I've found the basic features to be user friendly and useful. I accidentally dropped this phone approximately 30 feet onto concrete. The back flew off, but the screen remained intact and the phone was still on when I got down it. A+. A year-and-a-half after purchasing, I FINALLY found the right settings so I can send and receive MMS messages! AT&T was NO help at all, even after more than two hours on the phone, but here are the CORRECT settings so you, too, can fully utilize your phone! [...] Very easy to use, would have received full marks if it hadn't taken so long, and tons of Internet trolling, to fix the stupid issue. Oh, and if you like selfies, this doesn't have a backward facing camera, but you can use the free Lumia Selfie app to take pics. WOO-HOO!!!!!! This phone cost about $20 more than the avail 2, and some other phones. The quality of this is like going from a regular car to a Cadillac.It works so easy,and has far more features,than one would want,and more than you'd expect from a phone at this price.Try it, you might like it! bougfht 2 for college age daughters who 'needed' (according to current trends, not my daughter's themselves) smart phones for college; SO MUCH cheaper than iPhones ( and we tend to be Mac people) and fewer glitches, according to my oldest girl who has an iPhone..... reasonable price, performs as needed. Awesome phone, very fast performance for the price. Phone is notably more responsive and faster than the newer Lumia 640. Minimal menu has kept me from switching to convoluted and confusing Android simply because I don't want to bother getting used to their interface. Only downside is the lack of snapchat and other popular games and apps. If you want to play games with your friends then stick to Android. You can download maps to this phone using Wi-Fi and view them any time for when you don't have service, data, or GPS. You can also insert a micro SDXC card to expand the built in memory and just jam it full of music or take tons of video. The basic features work great, including the GPS driving directions. The display is good but dim at medium brightest and has no auto-adjust. Turning up the brightness would make that better, but I did not test it. The is no front camera and the rear camera is mediocre. All the software works great. The OS is very fast and has lots of features. Battery life is great. The no-contract price was a completely unbelievable $30. The OS and all the basic software like MS Office and maps take up less that 4 Gigabytes. That leaves 4 Gigabytes for music making this the best value MP3 player ever. If you need more space, you can add any SD FLASH card made. For $50.00...this phone is pretty darn awesome...I don't care what anyone else writes about this phone. It's perfect for 90% of any one who purchased. Runs great, pretty fast, simple, inexpensive...it's a Nokia...and you can unlock before activation to use on T-Mobile, AT&T and Cricket without a hitch. Bought this phone for my mom and she loves it and she is horrible with technology. Get this phone! It's worth it for $50.00 even though it's been discontinued. Only bummer is no Front facing selfie camera. Plus...it's upgradeable to Windows Phone 10 when it comes out. Bought one of these in Oct. 2015 and it finally gave up the ghost a couple days ago. Just ordered a new one because it appears to be the cheapest alternative to the rest of the ones I have researched except for the fact that a year and a half ago it was $35 compared to the $58 price now. that sucks! I bought this phone for the Bluetooth as that feature on my Lumia 1520 has stopped connecting with several of my devices. I thought I could use this phone to fill in for music, fitness band, etc. But this phone is having the same problem as my 1520 -- pairing, but not staying connected, so it's useless to me. It might be a recent software update because I've had my 1520 almost two years and just started having this particular problem. When searching the problem online, I see it's a pretty widespread problem. If Bluetooth is not important to you, aside from the phone getting hot quickly, it's a good deal. Better than the 520, but not without its issues. This review is in direct comparison to the ATT Nokia 520. Pros Longer battery life. Larger screen Volume levels better. Bluetooth devices (earpiece/portable speaker) noticeably louder. Direct connect earbuds/head phones (3.5 mm jack) noticeably louder. Camera noticeably better. Con, Still no flash. Faster boot up/processing speed Cons Still somewhat buggy. Can lag when opening apps. Takes somewhat longer to charge. Pretty much a tradeoff for longer battery life. Microsoft still lacking in apps compared to Android/Google. A nice cheap Windows smartphone. Better than the 520 because it came preloaded with Windows 8.1 (previous one was upgraded), and so I seem to have fewer issues with the battery running down, etc... Has been quite reliable so far. I also like the lit up search, back, and home buttons (again, unlike the 520). This does all make the phone slightly bigger than the 520 (although the same amount of information is shown on the screen) One thing missing is a shutter button (on the 520, this could bring up the camera application without having to type in your pin). Sadly, this feature isn't there on the 635. For the price paid, I can't really complain much at all! It's a great product. I use this as a tablet, a media player and a personal navigation device. My 128 GB SD holds all the 800+ hours of mp3 music, 42 movies and thousands of photos. Great stuff for peanuts when compared to other phones. Awesome screen and very fast. It does take a long, long time to index the huge media library at first though. After that first time it works great. its getting me by ive had it for a few months definitely a huge downgrade, apps suck, web browser sucks(always crashing) idk i wouldn't recommend this to anyone, not even for a low budget find a better one. long live android! *Update: 6 months and its decided to take a dump. Never dropped it, kept it clean, kept it charged, stayed away from bad downloads, and never flooded the memory. Hopefully it's true that Windows won't make any more phone operating systems. Besides that companies never support Windows because they never listen to what the people want. I bought two. Replaced my 520 with one and keeping other as spare if my wife's 635 were to die (she must think phones love to swim). Seems as fast as my older broken 920, but of course the photo's are not as great, but the SD card slot works wonders! Some apps in the new Win8.1 after the updates can install to the SD card, others refuse to...but overall that will save me a lot of space on the phone. Glass smudges, but doesn't feel like the cheaper glass on a 520, but not as nice as the 920 screen was before I shattered it. Bought this for my son and it came with a free trial of phone time. The phone has great capability and he loves it. It does not have a forward facing camera and the picture quality is not that good but he barely ever has a desire to take pics so no big deal. He has all the games and apps he wants and we found a great case to protect it. Over all I would say this is a wonderful phone for the price and if he loses it or breaks it, we aren't out a buncha money and can replace it easily. This is a really great phone for the price. My flagship phablet broke so I picked one of these up until the Next Best Thing gets released. There are a few things that the 625 doesn't have that I am used to on other windows phones: front camera, LED flash, physical camera button. But for $50 it's hard to beat. The UI is still fluid, and the SD card slot resolves any storage issues. Maybe the 512mb RAM is a weak point, but I'm not a big phone gamer so that's not an issue for me. I caught this phone on sale for $30! I snapped it up since my family needed a second phone. I was a little skeptical since it got some bad reviews, but for $30 I couldn't pass it up. It's sturdy, has great sound, takes really awesome action pictures (Almost like a gif) with the built in app and we've had absolutely none of the issues that I was worried about. It took a little bit to get used to a Windows phone since we previously had other brands of OS. We also love the way the gophone service is set up. It's affordable and we can pay right from the phone itself. Bought a bunch of the 635 & 640's for people that work for me. Some adjustment to windows; about a day or two. Great screen, nice camera, FAST phone, good sound quality (IN & OUT). Long battery life. Seems to hold up a long time (I put simple cover on it, no screen guard). If you require certain games or apps, always check because some don't work on windows. I have been very happy with this phone for the price. I was using an unlocked Tmobile phone on att and had spotty reception after purchasing this phone it has improved significantly. I just transferred my sim card and the phone worked right away. This is my first time using a windows phone and so far I am happy (used for about 1 month now). I am not very tech savy and use my phone mainly for basic tasks (call, text, email, some internet use) and this phone has worked very well so far. This is the most user friendly phone Ever!!! It actually does almost everything for you. You can even speak your text messages! It has a microphone almost every where and a very helpful sidekick \"Cortana\" that takes your voice commands And Talks to you, making sure that your commands are correct. This is an unbelievable handheld computer, not just a cell phone!!! Operated by Microsoft Windows. Replacing a ZTE Maven - possibly the worst cell phone, ever -. There's no instructions, however, I discovered instructions on line. I had it a week and lost it! So new, I don't know the sound of the ring... AT&T subscriber for 20 years. It's very light. Has CORTANA. I'd like to know what phones have 'CORTANA\", I find the Google app not as user-friendly. I'm very pleased w/ this device, and still not believe in what I was able to get for the price I paid ($57.09 on 01/05/2015). For me the only drawback w/ this device is not have a front face camera (I love make selfies!). The Nokia Lumia 635 is my first Windows Smart Phone, and I'm kind of disappointed w/ the lack of apps available, however I'm really happy to be able to use some other features that windows operational system has to offer. I totally recommend the Nokia Lumia 635 Windows Smart Phone! I still miss my aged-out iPhone, but it had stopped syncing with my Windows desktop PC. This phone is fine. Still learning how to use its capabilities -- love the One-Note app -- and looking for more apps to cover the missing touchpoints. My only quibble: the camera. I don't care about selfies, but I do care about megapixels, and this camera's pretty weak-kneed compared to what I was used to. That being said, the price is right, and it functions well in all other ways. Not a heavy smart phone user--it fact I hardly ever use it as a phone, though it worked great the couple times I did. The screen is bright and clear, the sound is surprisingly loud and clear. The touch screen is very easy to use. Windows 8.1 is very well designed, intuitive and easy to use. The battery lasts all day easily. I downloaded a couple of e-reader apps from the Windows store, and now using it as a reader is the main thing I do with it. It's more than satisfactory for me, and a bargain at the price. this is the first smart phone I've owned and I have to say it's been a real struggle. it's been so hard to find anything-the little icons at the very bottom do not tell you which one you might want to get you to the right place. I do not enjoy searching and searching. I'm sure the actual phone works fine it's just the mechanics of how to work it. I'm just about to chuck it and go back to my simple but easy to use phone-and the screen isn't all gross with one touch. So, unless you've already experienced att smart phones, there might be a more user friendly one out there. I love windows phones and I had no issues with the Lumia 520; I just bought this one in December because I wanted a bigger phone. My mom had the typical restart issues with her 635 but I didn't however, in May my phone started sapping chargers left and right. I have been buying replacement chargers every two weeks. I'm feeling a little irate because I haven't even had this phone for a year. I don't know if anyone else is having the same issue? Don't forget to check out youtube videos for this one or any other phone. You can watch tons of videos to feel more comfortable with whatever phone you buy and how to use it. For this phone i entered in the search box, \"nokia lumia 635 how to\" .. and you'll get tons of choices to view. I think watching these helps me feel more comfortable with a new product I'm buying or viewing how-to for dummies. Also use  . A simple phone for simple needs. This phone has what my sister needs...a way to make phone calls, read emails and texts, and the basic needs of a product like this. It is cute and handy, although it is not up to date with the \"selfie world\". Lacking the front camera makes it less attractive for younger people, but luckily...my sister is not that young anymore, so no problem. I have had this phone for nearly a year now and really like it. I was able to upgrade from Windows 8.0 to 8.1 earlier this year, with no problems. The tiles are easy to customize and use. The camera works really well, though doesn't have a flash. Occasionally emails take a while to be delivered, though that hasn't been a problem. I use the radio a lot and appreciate the sound quality from this device. Overall, this phone is a good bargain for the price, and is easy to use. I recommend it. This phone is GREAT. Let us get the cons out the way. No front facing camera, and no flash. Also the rear camera is so-so. Now for the Goods. Removable battery and SD storage! Made by Nokia, so it is virtually indestructible. 4glte!! IT IS A 4G PHONE!! FOR 50$!!! No contract. I use it with h20 / cricket prepaid and it works GREAT. Great low price pre-paid phone. Slick little phone. Bought it to install Windows 10 preview. Camera not bad for 5M. Faster than my Nokia 1020. Will take an SD card, think I put a 16Gig in it. Have not installed a sim, just using as a mini-tablet and GPS. Too bad Windows Phones do not make the headlines. But, hey I was using cassettes while my schoolmates had 8 tracks. Cracked my iPhone 4s and had to find a replacement. I bought this phone and got it hooked up to straight talk. I believe this to be on par with the 4s- as long as app selection and selfies aren't topping your list of must-have phone elements. Got it for $55 unlocked, and I pay $46 a month for unlimited everything. I'm not sure you're going to find a better deal. This is a GREAT phone for the money, it does everything. I don't know how they can sell it soooo cheap, it's a pc in your pocket. The only bad thing is no front camera or flash and and doesn't blink as the Z998 does when you have any activity on the phone. I had a Nokia 520 and that was a great phone too, I still use it once in a while. I miss the tap screen the 520 had and the 635 doesn't. I guess for the money they can't give you everything on the 635. If you want a great buy for the money try the Nokia 635, you won't be sorry. A great phone for very little money. This, and a few other devices that have hit the market recently (like the Moto E 2nd Gen), have the power of \"Good Enough\". This phone can do everything you need, plus keep a few hundred dollars in your pocket (approximately $600 for a new iPhone). You are also not beholden to a wireless carrier for a contract or set number of payments (probably the best feature). The only drawback to this phone (and the Moto E) is the camera - both are just OK/average (and have no flash). Surprised how much I like this phone. Longtime blackberry (including Torch) and iPhone (4S, 5S) user, and I think I actually like the Windows operating system better. Really the only downside to this phone is that there are far fewer apps available; the biggies are here, but suggest you check the windows store if there's an app you must have (Uber has Windows app, Lyft doesn't, for example). Long battery life. Does take quite a while to fully charge if you're getting low (hint: put in airplane mode to have it charge at least twice as fast). crap! no support, app store is a joke, bing crashes constantly in mid search and resumes to original search results. Blocked numbers still get through, email is sometimes missing. If you don't care about that, phone quality is good, battery life long. Overall functions are adequate. There are just enough little things that I would not recomend it. No flash? I know it's a known fact so why hold it against them....who doesn't use their phone as a flash light from time to time anymore. I can't imagine that adding an led to the back would cost that much. The auto volume to 13/30 was annoying. I used it as an iPod and at random intervals it would drop the volume, and always when I was driving. I wish I could turn that off. Phone seems nice but watch out if you don't want to use it as a Smart Phone. I tried to just transfer my SIM card to a new phone but ATT requires a data plan if the phone is capable of one (even if you don't use it). I wanted this to replace a basic phone for our son that he uses for emergencies only. Not happy with forced data plan. Asked them to take it off or block it, but they won't. The phone works. It doesn't have a lot of apps you can install for an Iphone or Android since it's on the Windows platform. Surprisingly, there is no front facing camera so you can't take selfies, which is something my daughters pointed out to me. I would not buy this phone again or recommend to anyone. It's simple, light, and despite a newish case it still holds up to Nokia toughness, kinda...I've dropped it plenty of times and it keeps going. Problems thought...most of the time watching youtube videos don't work out too well. When listening to visual voice mail you can't stop it or delete it til it's done playing all the way through unless you lock your phone and open it back up and delete it that way. Other than that...good phone for 60 bucks. Windows 8.1 is a delight to use. Cortana also provides lots of local news. Getting a choice of which news to review is also a nice touch. The phone works well as a phone. There are tons of apps (more than I will ever need). The camera does a good job and the pics that you take are presented as a slide show in one of the windows on the screen. Keyboard is a bit tight for big fingers, but the erase key is handy for the goofs. Couldn't resist the price. Switched the whole family to these phones and we absolutely love them. There is not a better smartphone for the price anywhere in the Northern Hemisphere! Easy to set up and transfer from our old iPhones and a million times the battery life! Wow, what a phone. Simple to use and it does everything we need a smartphone to do. It was a good phone at $119.00 when they first brought them out, but now? Boy what 40 bucks will get you these days. Great phone; could not be happier! This is a great phone if you have network access at home with a decent security company that cleans the system for you. There are some cookies that can hurt the phone but if you have a respectable internet security company and clear the cookies out on a regular basis. You can get away with going with out a network for at least 3 months without worrying about malware, spyware, and all the bad things the internet has to offer. Stay away from windows 10 build 10536!!! Very nice for a cheap phone. I think it's a cheap phone because the Windows store isn't that great, but if you primarily use your phone for a phone or a GPS or something-- don't have your face in an app constantly--this is really a decent phone. It doesn't have a data feature, so if you care and need it occasionally, you can get a little Straight Talk unit from Wmt with a data plan cost of about $15/mo.and up. It's great except I was under the impression that it was capable of upgrading this version of windows to Win 10 immediately. 8.1 is not owned by google so we are good. No contract att phones work anywhere with wi fi all the time. You don't even have to activate it. Open package, insert sim card, and log on to internet at your fav wifi hotspot for free using an interface that you're already used to. Nothing beats Windows. This is my first 4G smart phone. I purchased this on Amazon Warehouse deals as used like new . When I opened the Amazon box, the phone was packaged as though it was brand new. I have activated it, and love, love, love it. Great product and awesome price point. I can hardly believe how much quality I am getting for my money! Windows 8.1 works beautifully! I have always used a contract Android cell phone, tired of the contracts, tired of the supposedly great deals on the contract phones, do the math and your paying dearly for those phones, ( last contract phone I had was a Galaxy S3 ) this phone works great and I'm so glad I bought it! Not hard to switch from Android to 8.1 windows, same OS as your home PC. Try one you will be happy you did.. I am not big into phones, but for the price this phone is fantastic. It does what I need, email, web browsing, and calling folks. The camera is better than I expected. Just don't expect Iphone quality pics. The battery is the longest lasting I have ever used. While I like android OS, Windows 8.1 is very easy to use. Their app store is limited, but I really don't care. I have my Google tablets for that stuff. Overall, it does what I need and would buy again. This is a great phone, I use it while travelling. Nokia offline maps are amazing when you dont want to use data in another country. It's got points of interests, walking and driving directions, estimated time and everything else you could ask for. Works great as a backup phone too! At first this phone worked okay, but it then got where I could not hear people when they called me, if I put it on speaker phone I could barely hear them. To me this phone is a paperweight now. I will be purchasing an android phone to replace it. I did a little research online to try to fix the problem, but found a lot of folks having the same problem with this phone. This is one of the worst phones I ever owned. The charger died less than 24 hrs after I set up the phone, Battery life is horrible drains rapidly even in airplane mode, phone charges very slowly when hooked up to Windows 10 PC via usb 2.0 and 3.0 ports. AT&T service is good and reasonably priced but I am going back to android. Microsoft needs to get there act together or this phone will fade from existence. Bought this phone for overseas visitors. Works great, took 10 minutes to set up phone with included mini SIMs card. Fast, responsive. Never had a windows 8 phone. Easy. The windows OS has similar issues to iOs. GPS doesn't require data service availability. Very nice phone ... and for <$50 ... insane! The reasonable service costs for this phone costs $45 per month (unlimited calls, texts and 1.5 GB data service bandwidth @ 4G LTE I have only had this phone about 5 hours and it's already so much better than the Motorola atrix 2 I have been dealing with for almost a year. Some glitches with my windows login info but after that got straightened out(forgot my password lol) just downloading apps I use is so much faster!!! I look forward to further customizing it!! If you have a net10 bring your own number sum card(dual is best with this phone since it takes the mini SIM card) the att go phones work best with it! I am SO happy with this phone!! haha ok Microsoft. so i got this phone on its arrival date connected it to wifi and made simple updates....... so i thought.!! I updated the lumia 635 to windows 10 and it was slow and laggy and got a crazy error and then phone wouldn't work at all. I downloaded a recovery tool from via Microsoft and ran the downgrade program and nothing lumia 635 is now back to windows 8 but cant boot up its damaged. This is a fantastic phone for such a low, entry-level price point. I have enjoyed using this phone so far. It runs very smoothly, and both images and text look sharp on it. I would have preferred a flash for the camera -- even a basic flash -- but I don't take photos nearly enough to dock a point for it. At $79.98 shipped to your door, this is an easy buy. I bought this phone for my mother after having the old Nokia lumina and she loves it.She's 58 and this phone is very simple for her to use.Big buttons and large screen.We wi stick to the windows phones for her because they are very easy to navigate.No crazy apps or settings.I would reccomend this for a reliable, durable simple phone.The screen is also very crisp and large This phone is not unlocked... only works with ATT with their plans....After much calling of sales people... Do not expect to insert sim card and start calling.. This deceptive advertising... I bought this to use as a Bluetooth MP3 player and it turned out to be so much more. I did not activate it. It comes with a sim card but I didn't want a cell phone. It also works great as a stand alone GPS navigation system once you have the maps downloaded. It was very easy to access the memory card I added to it too. (unlike my Dell tablet) It is a great phone to talk on. you can install and change out the battery. Very durable. Get phone if you don't care for a contract. You can go to a go phone or conventinal billing if let be. The phone takes descent pictures and videos, especially outside. You can put a giant mini SD card in this phone and store memorys for years. It is great if you are a bang for your buck kinda person. Go for it. I bought this phone for my son and he loves it. It has Windows so he can sync things with our laptops. The camera takes amazing photos; the color is outstanding with amazing clarity. The only negative is no front facing camera but you can download an app that works very well. this is the end all be all of affordable phones! It does everything you need it to do and does it well. the only thing it lacks is a front facing camera, to me that's no big deal. with the gophone no contract deal it's a no brainer, no contract, att fast speeds. Dont hesitate get one. works great, my 1020 got bricked by win10 and I got this until the 940xl comes out... just put my standard sim in it and it worked no problem, you don't have to activate the prepaid sim and pay all that extra money, just put you standard sim in it and it works fine it's got a different build of 8.1 than the 102 and works great, ultra cheap at $40 for a 4.5 inch screen and decent camera.... great deal Amazing phone for this amount of money. Device is working fast, so far with no lagging. Phone ringer is loud as soon as you will peel off protective film from the back cover. Screen resolution is not bad. On negative side, there is no front (self) camera and the rear one is pretty bad especially in the low light condition. Windows store lucks even basic applications paid or free ones that available for Android and Apple phones. No app for chromecast stick. Yet for this amount of money is Okay, except luck of front camera. Would buy it again and would recommend to a friend. Works perfectly with Consumer Cellular. All I had to do was to insert the SIM card from my old phone and added the \"Consumer Cell\" to the \"Cellular+SIM\" settings. My Windows \"NEST\" thermostat app doesn't work as well as it did on the Android phone but I can manage it well enough. It takes great pictures and great videos as well. Battery lasts for two full days (unlike any Android phone I ever had). jewel of a phone and only $49.99. why would anyone pay $600 or $700 for anything else. I've got a video/photo camera, unlimited talk/ text and internet with oodles of apps, games and cloud storage. only $35 monthly auto pay for all this .YES, I'M AS ECSTATIC AS I SOUND. I must admit I was somewhat skeptical at first but now I love this phone. It's extremely fast and loud just the way I like it. Call quality is excellent and the speaker phone feature works exceptional. I'm use this phone daily and not my Samsung galaxy note 2. The phone size is just larger than the IPhone 5s. The battery is good all day even with heavy usage. It's the best cheap phone I've ever purchased!!!! Awesome phone have it synced with my windows 10 computer with one drive easy to share photos videos ect. It's pretty fast the video quality is great. Windows doesn't have as many apps as android but has enough for me. The battery life is good, Camera works great. Over all best phone under $100. Has a quadcore processor. I can read books watch movies/shows surf the web play games all fine. Call quality is fine same with texts. I recommend it. For the price, quality is excellent. My first smart phone, so I'm still figuring things out. So far I'm happy with my purchase, especially love the camera. Haven't had any issues with the lack of flash. Biggest issue is AT&T's customer service to help switch from a basic messenger phone to the smartphone sim card, but that is no fault of Amazon's. Would buy this phone again and I do recommend it. This is a step up from my 520. I bought two and my dad bought two. We are all having great luck with them. The screen is really clear and easy to see. There is more apps available than ever but once in a while I still find something where one is not available. The windows program is very easy to use and my elderly parents are running them easy as a first smart phone. It works great with my computer and hot mail. The only issue we have is the SD card slot in my wife's phone is not working. It was well worth the money and we all keep finding new things on them. my ipod touch bit the dust and i didnt want to spend $400 on new one. This one syncs with itunes, plays music as well as an ipod (I actually like the music app better) and costs only $40. Another $50 for a 128 gig microsd card and i saved $300. dont need to activate, other than message abut a missing sim when it boots up it doesnt need to be connected to a phone network. I really love my phone. When I ordered mine at such a great price, my husband wanted me to order him one also. We needed to replace our other phones and found this one to be just what we needed. Facebook and email or easy and quick to get to as well as other apps. The reviews I read before making the purchases were very helpful in making my decision to purchase the phone. First Windows phone, bought as an mp3 player, but after how well the phone works, and how good of a price it was, I have been convincing people to give it a go too. The phone itself is smooth, and comes with great software to really make it user friendly. WP may be replacing my android as a next main phone. I am a Windows guy, I love the syncing with my computers and all the common apps that cross platforms (PC - Phone). This is why I went to a smartphone cause the ease of using and getting to know it fast. WILL NEVER BE a i phone or android guy, YES! ... Update 2016... I am now an android guy... Winphones not supported by my hobby stuff, so... bye bye win phone hello LG G Flex 2! I bought this phone for $40 no-contract during the time up to Xmas and it's been great. The performance is snappy, the screen clear, the sound crisp and loud and feels durable and solid. I like it better than my Nokia 920. The camera is of lower quality as you would expect for an entry level phone but get's the job done. This is the cheapest smart phone available. I switch to this after breaking a blackberry, loosing an iPhone and frustrated by the high prices of Google phones. There are few apps missing but there are substitutes. The ability to insert an SD card is hue, you instantly get 32GB. The browser is a bit strange, you can always go back but it doesn't give you the ability to go forward easily. Nevertheless great smart phone for $40. I am using it with ATT. THIS IS NOT A GO-PHONE ONLY YOU CAN USE IT WITH YOUR FAMILY PLAN. I love this phone. It does everything I want it to do. Surf the web, take pictures, play music, and waste time on Facebook. Recommend this phone to anyone who isn't silly enough to pay $$$ for an expensive phone and the GoPhone rates are great and super cheap! No contracts! Wow I really love this phone! I'm new to smart phones but this seems easy to use because I'm used to computers. I'm 58 and don't like messing with phones, but I must say this was much easier than I ever thought. It seems to be a very good phone, hope this helps. I love everything about this phone! Its FAST, it has so much memory with room for more. It sports a nice big screen with slim design. Its easy to use, easy to update and fit with hundreds of apps. This phone is replacing a google phone which I cant wait to smash into a million pieces when I finally get my service transferred over! There needs to be more transparency with the items - the back falls off...I would be able to make a better-informed decision when purchasing the item. This is used as a replacement phone for the landline with H2O pay as you go $10 plan. To my surprise, I actually like it. As a phone, it gets better sound quality than my HTC M8 and verizon fios landline. The UI is really nice and intuitive. I will seriously consider a WP when the current contract is over. Great phone, does everything I can think of. It has gps for road travel without using data, fantastic apps, sound quality is great. I have owned this phone about a year with no problems Like it for the most part, my first smartphone, but has its faults: screen rotation very schizy; best not to count on it at all. Speakerphone doesn't have enough volume headroom. Fragile; it can shatter if dropped on a hard surface- my first one did. Order a flip cover with it. Decent for the price. So far so GOOD! I have had trouble with cellphones in the past so I don't want to get too happy. This is the best Windows phone I have ever owned, I had other brands of Windows phones but I guess there is no substitute for the real thing and Nokia is the REAL DEAL. If you are looking for a phone that is compatible with Straight Talk then this one is for you. I purchased in 2014, but abandoned in 2018 for lack of support of apps and Microsoft stopped updates. Otherwise, it was an excellent phone with basic support and still I'm using this for browsing at home and can give it to kids when we go outside with Mobile Hotspot connection for browsing while in shopping at stores. Its ok but having problem with texting / messaging. No user manual was included. Going on-line you were directed to AT&T's page which had nothing. The seller / manufacturer merely quipped to \"read the manual\". Going to try to see if people in the AT&T store can help but so far disappointed. I know cheaper phones will have less bells and whistles, but simple texting between 2 people should not be so difficult. I am very happy with this phone. I like it simple, and this one has a simple layout and is very easy to use, compared to the other phones in my family. I had it for about a year and no problems with it, despite one accident which destroyed the screen protector but not the phone. This is my second Lumia phone. I am personally a whole hearted windows lover and this phone is everything I could ever want. I love dropping it around my friends with android and iPhones and then indicating to everyone \"oh look. The screen didn't crack. Oops. Did it again. Hmm...still works.\" They clutch their glass screened phones in their protective cases with discontent. It's fun. Actually, my last windows phone survived a dog chewing on it, multiple drops on concrete and tile, and a plunge in the toilet. Good luck iPhones! I look forward to seeing what my new windows phone survives. It’s a Windows phone. You either love it or hate it. Build quality is ok, but a little thick. The sound and picture sucks, so don’t expect much. The phone is just as described, shipped fast in excellent condition when it arrived. Took me a little time to get used to the phone but that is just a user problem nothing to do with the phone! I still haven't got used to all the features yet but my teenaged kids love it and would like to have one just like it. I use my Go Phone mostly only as a phone. It should do everything I need for quite some time. Beautiful low cost phone. Bought this for my husband as his first touchscreen smartphone. It was a bit of a learning curve for him, but he's picked it up quickly and has begun adding his favorite apps easily. You don't have to have a phone plan for it at all, just use it on wifi for the apps/ease of access/mobility features. Hello I bought Nokia and I was pleased with it the shipping was fast and the phone was very worth the money. If your trying to spent less on a phone the gophone is right for you. I have 250 minutes and unlimited text for 25 a month. I gave it a four star because it doesn't have a front camera. Great phone! I can't believe it's only $99. I ordered just to play around with the new Windows 8.1 and Cortana, but it has turned into my daily driver. Size is very similar to the iPhone 5, but it feels better in the hand. Pros: battery life is great so far. Screen is very good. Phone reception is great and speaker is very loud and clear. The only Con that I can find is that the screen doesn't seem to repel oil as much as I would like. Overall I am very impressed. I am buying two more for friends and family. One of the best phones I have ever owned and the prices were great. I'm not a smartphone user really, but I decided to go with this phone being that it was one of the cheapest phones I could find to replace my defective phone which actually happened to be a flip phone that costed almost the same price. I am VERY happy with my purchase so far. It has all of the options I need plus some. Great phone for the money. Screen is good, performance is good, call quality is great. Other than App store, which everybody knows by now how it is, I have no complains. Good things are the Nokia built quality, very good battery life and for me the ideal phone size. Not too small and not too big. Camera is actually not that bad honestly. All in all it is a great deal as of now.\n",
      "\n",
      "Validation Data Sample:\n",
      "If you are looking for an organic peanut butter with good taste and low salt, try this option.\n",
      "\n",
      "Test Data Sample:\n",
      "Set of 5 cars designed after the members of the Justice League: Superman, Batman, Cyborg, Aquaman, and Wonder Woman, High-end Hot Wheels cars, Great value\n"
     ]
    }
   ],
   "source": [
    "# Display sample\n",
    "print(\"Train Data Sample:\")\n",
    "print(train_df['reviews'][0])\n",
    "print(\"\\nValidation Data Sample:\")\n",
    "print(valid_df['summary'][0])\n",
    "print(\"\\nTest Data Sample:\")\n",
    "print(test_df['pros'][0])"
   ]
  },
  {
   "cell_type": "code",
   "execution_count": 8,
   "metadata": {
    "execution": {
     "iopub.execute_input": "2025-04-06T11:23:05.954495Z",
     "iopub.status.busy": "2025-04-06T11:23:05.954151Z",
     "iopub.status.idle": "2025-04-06T11:23:14.545884Z",
     "shell.execute_reply": "2025-04-06T11:23:14.545255Z",
     "shell.execute_reply.started": "2025-04-06T11:23:05.954459Z"
    },
    "trusted": true
   },
   "outputs": [],
   "source": [
    "import pandas as pd\n",
    "a = pd.read_csv(\"pegasus_train_data.csv\")\n"
   ]
  },
  {
   "cell_type": "code",
   "execution_count": 9,
   "metadata": {
    "execution": {
     "iopub.execute_input": "2025-04-06T11:23:14.548865Z",
     "iopub.status.busy": "2025-04-06T11:23:14.548646Z",
     "iopub.status.idle": "2025-04-06T11:23:14.554263Z",
     "shell.execute_reply": "2025-04-06T11:23:14.553442Z",
     "shell.execute_reply.started": "2025-04-06T11:23:14.548847Z"
    },
    "trusted": true
   },
   "outputs": [
    {
     "data": {
      "text/plain": [
       "(25203, 4)"
      ]
     },
     "execution_count": 9,
     "metadata": {},
     "output_type": "execute_result"
    }
   ],
   "source": [
    "a.shape"
   ]
  },
  {
   "cell_type": "code",
   "execution_count": null,
   "metadata": {
    "trusted": true
   },
   "outputs": [],
   "source": []
  },
  {
   "cell_type": "code",
   "execution_count": 4,
   "metadata": {
    "execution": {
     "iopub.execute_input": "2025-04-14T09:49:34.394084Z",
     "iopub.status.busy": "2025-04-14T09:49:34.393760Z",
     "iopub.status.idle": "2025-04-14T09:54:05.766962Z",
     "shell.execute_reply": "2025-04-14T09:54:05.766154Z",
     "shell.execute_reply.started": "2025-04-14T09:49:34.394060Z"
    },
    "trusted": true
   },
   "outputs": [
    {
     "data": {
      "application/vnd.jupyter.widget-view+json": {
       "model_id": "6707dd0147de4e1789b8f863f5ac222b",
       "version_major": 2,
       "version_minor": 0
      },
      "text/plain": [
       "tokenizer_config.json:   0%|          | 0.00/87.0 [00:00<?, ?B/s]"
      ]
     },
     "metadata": {},
     "output_type": "display_data"
    },
    {
     "data": {
      "application/vnd.jupyter.widget-view+json": {
       "model_id": "e119b27dcc534f1e85916496a21ca232",
       "version_major": 2,
       "version_minor": 0
      },
      "text/plain": [
       "spiece.model:   0%|          | 0.00/1.91M [00:00<?, ?B/s]"
      ]
     },
     "metadata": {},
     "output_type": "display_data"
    },
    {
     "data": {
      "application/vnd.jupyter.widget-view+json": {
       "model_id": "deda96fea5ec401aa751d9dc21a38447",
       "version_major": 2,
       "version_minor": 0
      },
      "text/plain": [
       "special_tokens_map.json:   0%|          | 0.00/65.0 [00:00<?, ?B/s]"
      ]
     },
     "metadata": {},
     "output_type": "display_data"
    },
    {
     "data": {
      "application/vnd.jupyter.widget-view+json": {
       "model_id": "b96678dfbea04c3ca4f9e771bbc768c0",
       "version_major": 2,
       "version_minor": 0
      },
      "text/plain": [
       "tokenizer.json:   0%|          | 0.00/3.52M [00:00<?, ?B/s]"
      ]
     },
     "metadata": {},
     "output_type": "display_data"
    },
    {
     "data": {
      "application/vnd.jupyter.widget-view+json": {
       "model_id": "6b4ac994da1b4ebda554a03172fd54d3",
       "version_major": 2,
       "version_minor": 0
      },
      "text/plain": [
       "config.json:   0%|          | 0.00/1.39k [00:00<?, ?B/s]"
      ]
     },
     "metadata": {},
     "output_type": "display_data"
    },
    {
     "data": {
      "application/vnd.jupyter.widget-view+json": {
       "model_id": "d6587c06316e4d3ca609db05f2d55440",
       "version_major": 2,
       "version_minor": 0
      },
      "text/plain": [
       "Map:   0%|          | 0/10000 [00:00<?, ? examples/s]"
      ]
     },
     "metadata": {},
     "output_type": "display_data"
    },
    {
     "data": {
      "application/vnd.jupyter.widget-view+json": {
       "model_id": "cc46f578b9ee499ebb897620ffb255a0",
       "version_major": 2,
       "version_minor": 0
      },
      "text/plain": [
       "Map:   0%|          | 0/2500 [00:00<?, ? examples/s]"
      ]
     },
     "metadata": {},
     "output_type": "display_data"
    },
    {
     "data": {
      "application/vnd.jupyter.widget-view+json": {
       "model_id": "b6672310cf644f02bd6cff4be32b1588",
       "version_major": 2,
       "version_minor": 0
      },
      "text/plain": [
       "Saving the dataset (0/1 shards):   0%|          | 0/10000 [00:00<?, ? examples/s]"
      ]
     },
     "metadata": {},
     "output_type": "display_data"
    },
    {
     "data": {
      "application/vnd.jupyter.widget-view+json": {
       "model_id": "84b86be264fe4e8ea8de0bb3240dee6b",
       "version_major": 2,
       "version_minor": 0
      },
      "text/plain": [
       "Saving the dataset (0/1 shards):   0%|          | 0/2500 [00:00<?, ? examples/s]"
      ]
     },
     "metadata": {},
     "output_type": "display_data"
    },
    {
     "name": "stdout",
     "output_type": "stream",
     "text": [
      "{'reviews': 'If you have to deal with numbers, you need this pad for your laptop. Simple to use, just plug it into your usb port and go. I take the time to review purchases because I know that I rely on them myself and I like to try to help others make informed decisions. If my review was helpful to you, please click the \"Helpful\" button. Descent external 9 key keyboard, however it does not have a \"delete\" button (don\\'t get fooled by the \"Back Space\" button) which is why I really wanted the external keypad. It is a little thicker than expected. I returned it because it didn\\'t have a delete button. This keypad replaced a Belkin wireless keypad, which required a battery. I found that the battery was usually \"dead\" when I wanted to use it because it would turn on when a key was pressed. This was handy when preparing to use it, but a problem when traveling with it in a suitcase! The Satechi keypad plugs into my computer, so there\\'ll be no problem with dead batteries. I\\'ve only used it once with a spreadsheet on my MacBook pro, and it was very easy to use. I plugged it in, and began to work. The length of the cord is perfect--I attached it to my computer on the left side, and I\\'m right handed. I am not saying that this is a bad calculator or number pad but I did return it because I want a little bit more and a number pad. So I am planning to spend more money and buy one of the more expensive ones. But this is a very basic number pad which will serve you well if you are tired of entering numbers across the top of the keyboard in a straight line which I find very annoying. I just wanted more. My MacBookPro 2012 did not recognize this, but it allowed me to use it. Numbers seem to enter fine, so it will work for me. The tab takes you to the cell below the one you just typed and the bk sp, erases what you just typed. I had a bluetooth Satechi that also had a forward and backup (not erase) keys, but it sometimes worked and sometimes didn\\'t. That is why I bought this one with USB. 5 stars despite the plasticky built (which was openly disclosed, but the price matches that, so it deserves full rating). It has a nifty switch on the back for selecting the right mode (PC or Mac) which I have scotch-taped over since I only use it for Mac. I use this only when traveling and stationary, so it gets gentle and little use, thus my review is not based on hardcore use. 5 stars because it fits the price and fulfills its promises to me. Price wise, this thing is excellent. The quality is definitely slightly lacking. But for what you paid, it is what it is. Obviously this is not a aluminum casing as you might have dreamed of getting it for this cheap. The buttons aren\\'t as smooth as the macbook air I have. However, price, price, price!! You have to put in a consideration that this is a budget 10 key. I myself is very happy with it as it does what it is supposed to do. It\\'s ok. The picture shown does not show that it doesn\\'t match the real iMac keyboard. This number pad is taller and the prints on each number is much lighter than that on my iMac keyboard. And since it dont line up because its not the same size/height I can use the connect bar to attach it together as one looking unit. I wouldn\\'t have purchased it if I knew that.. But it works so I took off one star for being a little deceiving. I absolutely LOVE this! I really needed it for quicker data entry. The reason for the loss of one star - it\\'s annoying that the MacBook wants to set it up as a full keyboard every time you plug it in, but you can ignore that and it still works. Also, the little bump on the 5 is too subtle for my tastes. I bought some cheap adhesive gems for my daughter and used one to put in the middle of the 5 button and it works great. I bought this because I needed an extended keyboard to set up shortcuts within InDesign. Unfortunately this number pad won\\'t work because there is no number lock. Annoyingly there is no clear button either. Which would be helpful if you are using it as a calculator. The packaging was really tough to get into, I had to cut through the plastic to get it out. So I can\\'t return it. It was easy to set up with my MAC and as other reviewers said is plastic not aluminum. Amazon and Satechi helped resolve my issue, great work team, upgrading to 5 stars I really wanted to like this but the buttons stick. I tried \"mashing\" them a little to try and get them un-stuck but no luck. I threw away the packaging so I am out of luck from a return perspective. I would keep looking This keyboard is a great companion to the Apple keyboard that does not have the numeric keys on the side.......IF you are plugging it into your MacBook directly. I use a thunderbolt display and plug the usb directly into the Thunderbolt display. The keypad works initally, then will not work at all. I tested it by plugging directly to my MacBook Pro and it worked flawlessly. However, if you use a Thunderbolt display, you use that as a docking station and plug all your accessories there. Unfortunately, this keypad does not work in that fashion. Back it goes. I am a college student who is going into Accounting. I purchased this to use with my Mac computer. I really like the keypad and it works great for school. I wish that the numbers were black instead of grey, but that is okay. I can see them okay, they just seem a little faded. I\\'ve had no problems with the keypad so far, although I have not used it a whole lot yet. Ok, so last November, after having Windows and Linux laptops, I decided to seek out the \"Dark Side\" and try an Apple Mac Book Pro. While I really like the laptop, I was missing the numeric keypad that I had on both the other laptops. When doing any type of numeric data entry, this is a MUST! It is well-constructed yet lightweight and I wish I hadn\\'t waited so long to get this. I wasn\\'t sure when purchasing but decided to give it a try as I missed my side number keys that weren\\'t on my new laptop. It works great! The only thing I can\\'t figure out how to turn off the key sounds, they are very annoying. I’m so glad I googled for something I thought it didn’t even exist and found this amazing object. It literally takes me 20 minutes less to finish my math homework and it spares me the anger I incour in every time I had to use the linear number keyboard of my MacPro While not being finished off between the housing and the keys with the tight tolerances of a genuine Apple product this keypad looks right at home sitting next to my iMac and it works well. I have it plugged into my Anker usb hub and it has alway worked. The price was right and I would buy it again. I love this keyboard! I do my financials on my laptop and I hated not having a number pad. My first keypad popped the \"enter\" key about ten days after I received it, so I contacted the company. They sent me a replacement and a label to return the first one. I\\'m very happy with it and would buy it again. Nice but feels a little mushy after a few months of use. I think the coating on the keys wears off a little fast but they just don\\'t feel as nice as they did when they were new. I think this is a common thing for all products that aren\\'t the big L brand. Four stars because I had to change some computer settings before it worked, but now it\\'s working just fine. For Mac users: check your accessibility settings to make sure Sticky Keys is turned off and you have unchecked the \"ignore built-in trackpad when mouse or wireless trackpad is present.\" This number key pad is really nice. I had another one for years, and I got tired of the clunky feel - big keys that are hard and noisy to press. This one has a really nice touch. I\\'m glad I found it. Nice 10 key. The buttons are the perfect size for someone with larger hands. I\\'ve purchased others that were smaller and had a hard time just hitting one button. This works perfect for me. I go with the usb cord because I\\'ve had several problems with others that are wireless when connecting to my mac. This thing you just plug and go. No set up. Though this product was received in a timely manner and appeared to be a good product, after opening and hooking it up to my MacBook Pro it was apparent I had made a mistake in ordering and had to return. (Thanks Amazon for your great return policy.) If you\\'re like me and are looking for an \"accounting/calculator type keypad this is not it. There are no memory function, mode, send or clear keys. It is strictly a basic numeric keypad with only backspace/delete and tab key. A more appropriate option maybe the Satechi Bluetooth Wireless Smart Keypad for iMac, MacBook Air, MacBook Pro, MacBook, and Mac Mini. This certainly gets the job done, and looks nicer than the standard thick black keypad, but it is painted plastic and the keys differ slightly from a standard Apple keypad (double check if this is important to you). Best numeric keypad I have owned. I purchased a cheap one prior and it was a piece of junk. Not only does this one match the look and height of my iMac keyboard, the touch also matches. I tend to slide it away from the keyboard until I am doing numeric entry. Better than I had expected. In fact, I have purchase another identical keyboard to use at school with my Macbook Air. UPDATE: One of my two went bad. Outside of warranty. Contacted Satechi and they replaced it anyway (I had to ship the bad one back). Well bought this last year for school and never used it. Decided to use it and the dang number 1 key won’t work after 3 days of use. Disappointed It matches the Apple keyboard exactly in appearance. It worked immediately as soon as it was plugged in with no install procedure needed. The key press feeling is positive and a little longer throw than the alpha keyboard, which I like in a number key pad. I received it on the promised date. All told, an excellent value for the money. I have no reservation in recommending this key pad and I would feel good about ordering other products from Satechi. I bought this about 2 months ago, when I started working from home. I use a 10 key every day for work, but my laptop did not have one. This plugs into my USB port on my laptop. I really liked the sleek design, which would match my Macbook very well. It lays at an angle, which I prefer. However, after 2 months of use, the 1 is starting to rub off on the key itself. The key still works fine, but the finish is rubbing off. This is the reason I did not give it 5 starts Works great. However, I returned it and bought a wireless one that doubles as a calculator that i really love. Has the feel of the wireless keyboard. What I like is the \"enter\" key (return) on lower right - easier than Apple \"return\" key, especially since I use a PC with \"enter\" key part of the time. Good for us who \"hunt and peck\". I like this keypad for the most part but it doesn\\'t have a CLEAR button, so when I try to use it with my computer\\'s calculator, I have to move my hand back to the key board if I want to clear what I typed. The UNDO button doesn\\'t work with the calculator. I am using it with a MacBook Pro laptop. It was also a hassle trying to get my Macbook to recognize it using bluetooth. Part of the trick was simply to ignore some of the things the bluetooth menu said. I found the way to do it somewhere online but I don\\'t remember the web site. Sorry. Like the design, dislike the quality of the 10-key. It takes some effort to type each number: I have to press TWICE for some numbers to print. Wanted a silver keypad. Had better & more reliable ones (but those were black), and my laptop is silver... Still works for me. The only reason it doesn\\'t get 5 stars is because it is on the cheap side of quality and don\\'t know how long it will actually work. This review was asked for only 2 days after arrival. I normally like to offer a review a month after purchase for the obvious reasons. So far it is everything I expected and a great solution for a numeric keypad when on a tight budget. I am a librarian at a public high school and this has made my job so much easier. When you get 30 loud teenagers in a room and try to hear them to look up their names, it can be a challenge. With our library program, you can look up a student by their ID number. I have this on my desk and the kids can enter in their ID number. I then verify their name and scan the book they are checking out. Best $15 I have spent! Got this because my Mac doesn\\'t have a number pad next to the regular keyboard. Since I use Excel frequently, it got to be quite a nuisance using the number keys on top of the keyboard. This was just the thing I needed! Super easy, just plug in and it works like a charm! The buttons feel great, it works seamlessly, and it\\'s nice having the long-ish cord so I can place it wherever is convenient while I have other things laid out on the desk. Only have had it for a few weeks or so, but right now I couldn\\'t be happier. This pad is great. The only quirk is the “-“ is lower than it normally is on a 10-key and in the space where it normally is, there is a backspace key. So many times when entering data, I hit backspace rather than “-“. Otherwise it would be 5 stars. works great with my MacBook air. I do a lot of spreadsheet work and simply couldn\\'t go without a number keypad. Would give a 5 star. But a couple of the keys are sticky. If they loosen up a bit I\\'ll update my review. Bought this for my wife\\'s laptop. It stopped working after just a handful of uses. When plugged in it outputs random keys and is completely unusable. Took it apart to check if it was a loose connection, but that was not the case. Deserves 5 stars but I spent many hours trying to get it to work on my PC. No where in the documentation did it say there was a tiny switch on the bottom of the unit to set it to PC or MAC. Had I known that it would have set up a lot easier because it came set to MAC. On a laptop without a NumLock Key you still might have a little work to do. Other than that it deserves 5 stars. I purchased this 10-key pad to use with Pro Tools 12. It does respond when entering numbers; however, it does not respond when modifier keys (Like Command) are required in conjunction with a number. Seems very nice so far. I\\'m using this for a left hand keypad for Sibelius on an iMac, so I can use the mouse with my right, and I had to remap the top row of keys, since they don\\'t correspond exactly to the keys on a standard Macintosh keyboard. However, Karabiner was able to remap the keys without trouble. Otherwise, looks nice, feels solid, and works well. I have a Mac laptop, which does not have the ten key on the right. I really miss that when working with a lot of figures. It was hard to find an external 10 key that was comparable with the mac. This one is perfect. It arrived on time, and was a simple plug and play. It works great, sits at a slight angle, with the top being a bit higher than the bottom. Easy to keep up a good speed by feel. Works like it should. I really like that it matches my Apple keyboard so well. Looks like they could have been packaged together. Wish it had cost a little less! Arrived promptly, well packaged and exactly as presented. It functions great and matches up cosmetically well with my other aluminum finished accessories. I chose the corded version for the simplicity of the keyboard. I just did not need the other features of the Bluetooth offerings and wanted a minimal footprint. I use it for music notation input giving me numeric keypad options now at either end of my QWERTY keyboard so either hand can be on the midi keyboard. This is a great number pad and extremely easy set up. All I did was plug it in and began typing. I will recommend this product to anyone in need of a number pad. Really happy with this product. I plugged it in and it works perfectly. Of course, would be nice to have it wireless, but from what I saw on other reviews, wired works better. The look is not the same as the apple wireless keyboard, but close enough to look nice next to it (slightly less angled, key numbers are a lighter gray, slightly clunkier). But to add this functionality, at this price, I\\'m happy. Works great! My Macbook kept saying it doesn\\'t recognize the keyboard but i just ignored it and opened up a word document and it worked immediately. The only thing I wish I would have noticed is that it doesn\\'t have an equal (=) sign. As an Accounting major, it would have been nice to notice that to begin with but if you don\\'t mind jumping back and forth between this and the keyboard - it is excellent. Other than that - I am very happy with it. Good value for the price. The description says in addition to working with Macs that it also works with Windows Vista, 7 and 8. I mistakenly assumed it would work with Windows 10. It does work with my MacBookAir, but will not work with my Windows 10 HP laptop, and that is where I have Quicken and wanted to use it. Too bad. This number keypad is a very good product. Looks and feels very similar the the original Apple keyboard. The aluminum body feels very good. The keys are a bit taller and stiffer than in the original Apple full size usb keyboard, but not bad. Great number keypad if you have a Macbook and work a lot inputing numbers. It\\'s good, does its job. Pure plastic, the stainless steel look is fake. I like this product because it does the job. The keys are a little sticky, especially the “0” key. I actually have to take time to push down the key instead of just seamlessly pushing it. Bought this keypad to go with my new iMac - this is not a perfect match on the height of the new keyboards but it works well and it certainly looks a lot better than a black or white plastic. It would be nice if this keypad was backlit, if it were I would not hesitate to get it a 5 star review. Hooked right up to my Macbook Air. It\\'s really nice looking, and the keys are better than I thought. I thought they would be really soft, and hard to tell if you pressed them. They\\'re not. It\\'s extremely easy to tell when you\\'re pressing a button. So far, it\\'s perfect. I like how well it matches my Mac, but the only thing I don\\'t like about it is that I don\\'t think the key connections are very good. Sometimes I type some numbers and it doesn\\'t register that I\\'ve hit them so I have to go back and punch them in pretty hard. Does what it supposed to do, seems good quality, I like that it doesn’t need a battery or to be charged This is a great value. However, though in the pictures it looks like it will complement the Apple keyboard, it is not level. Also, it is made of plastic. It works great though. My Mac computer doesn’t have a 10 key so I ordered this. It works great and while it doesn’t exactly match my Mac keyboard, it’s close enough and the price was good. Overall, it\\'s a good product and works as expected. However, I find the \"enter\" key to be annoying. On my computer keys, the \"enter/return\" key will return to the beginning of the first cell that was initially selected in EXCEL, however when hitting the \"enter\" key on the numeric keypad, it only goes to the cell below it. I find this annoying when trying to enter several values in multiple columns in one row and need to do the same in the following row. As advertised. Works like a charm. Has good feel and looks like it came with my brand new iMac. Easy to hook up; pretty much, just plug it in. I can\\'t function without a 9 keypad, and my new apple magic keyboard doesn\\'t have one. I ordered this one and it has speeded me up on my input. I would have like it 5 stars except the size of the keys are larger than \"normal\" and that take a little off, but it works just great. I have just switched from a pc to a Macbook Pro. The Mac doesn\\'t come with a 10-key pad, so I bought this one. I kept books for many years and missed having a 10-key built into the laptop. Now, with this one, entering numbers is easy again. I\\'m very happy with it! (And it matches my Mac.) It\\'s a normal USB numeric keyboard that looks good next to your mac. But, once again, the buyer is subject to the \"mac tax\" because of it. It\\'s plastic. It\\'s not metal. In my opinion, it\\'s not worth the price. But it looks good... Love it. Arrived quickly and on time. The only complaint I have is that I can\\'t figure out how to turn the noises off! I have a Lenovo yoga and it\\'s great but every time I plug it in and go to type up a lab report, I get these annoying beeps when I press the keys. User error probably but it\\'s still annoying. Seems like a quality keypad. No num lock button which is great for me. This numpad solves the problem of Apple\\'s fool decision to remove numpad functionality from newer MacBook models. It works flawlessly and the typing feel is very similar to your MacBook keyboard, so it feels very natural. This is a great option for those not wanting to spring for a good BT model. I like that the keys have the same touch as my Mac keyboard (same pressure required to press the keys). It sits slightly higher than my keyboard, but not noticibly so; as far as use. It does look slightly different due to the difference in size. I know it seems silly, but with all the number crunching I have to do, my wirelss apple keyboard just doesnt cut it. Solidly built & works as expected. Easy to install, and it does what I need it to. I mainly use it for quickbooks and spreadsheets. Such a life saver! As an accountant (using a client\\'s Mac) this helped me speed up my work. Great quality. Just got it today. Plugged into Mac and started working perfectly right away I am a lefty and one makes a key pad on the left side. so now i can move it anywhere. love it, wished it would of been wireless, next one i get it will. Thanks you for a great product Viewed support forums and help online, and can\\'t make the \".\" point key work. It puts an \",\" instead. Very frustrating because the math operations don\\'t give correct results. My mac, which is only one month old had difficulty recognizing this keyboard. It kept confusing it with a lettered keyboard. Not sure how I did it, but after about 30 minutes of playing with the settings, I was able to get the computer to differentiate between the two keyboards. It is very nice in that it matches the other hardware. VERY fast shipping. Thank you! Works well with my 15\" 2016 MacBook Pro, and was ready to go as soon as I plugged it into the laptop. It requires an adapter to convert to USB C for the new MacBook Pros, but this doesn\\'t seem to interfere with functionality. I\\'m also happy with the tab button feature, which helps with shifting cells when using Microsoft Excel. Nice sleek keypad. Great size and the buttons press nicely. Did not work on my desktop running Chrome OS, though. Another comment confirms it didn\\'t work on their Chromebook either. I need a 10key to do my Accounting job. and when I was working from home on a laptop, I was very slow on the number keys. This product works really nicely and is good looking to boot. Would definitely recommend. I got this keypad for my Mac because I only have the small wireless keyboard that came with it. I\\'m an accounting major, so I needed it for homework. Bought this for my son (8) so he can type numbers in faster for his math exercises. The big buttons all in one location are helpful for his little hands. My job is the accounting, and I feel that now I can type numbers faster! Love this numeric keypad! I wanted something light, easy to use and compact. This keypad did the trick. It was super easy to set up (just plug in the usb) and worked great. If you are looking for a non complicated numeric keypad..... this is the one. “Yes, it is plastic and the keys feel different than an Apple keyboard but it does everything I want. It is inexpensive, connects automatically when I plug it in and speeds up entering grades. While it is taller than a wireless keyboard I have mine attached to my track pad with a MeshWe and it is exactly the same height.” It works perfect with my mac. I so needed this when adding numbers, it just much easier. Would definitely order again. Works great. Was easy to get up and running. Only wish it had arrow keys and that it was wireless but, for the price, it is awesome. Makes life a lot easier than hunting and pecking for number keys. As an ex-accountant, I missed my ten key. Works perfectly with my MAC. Works great. I previously had a \\'LMP Bluetooth Keypad WKP-1314\\' and it was awful, never stayed connected. Love that this one connects via USB, so easy to use, I don\\'t have to worry about it losing connection, or changing the batteries! This numeric keypad is easy to use and works very well. I\\'m using it with a MacBook Pro and I\\'m very satisfied with it. I have a laptop that I use for Quickbooks entry. What a pain that the keyboard doesn\\'t have a numeric keypad! But with this item I can fly through my work with ease. And it\\'s attractive at the same time. A good fit with my Apple keyboard and trackpad. It would fit better if it were a little thinner. Bluetooth would be even better... When I plugged it in my computer thought it was a letter keyboard, but just hit delete and it works great. The keypad plugs easily into any computer. I have a MacBook Pro with OS X Yosemite and it recognized the keypad immediately; I also use the keypad on Surface Tablets with Windows 8 at University and the keypad has no trouble switching between the two different operating systems. The buttons press very similarly to that of an Apple Keyboard. I have a glass desk in my room, and even when I am inputting entire financial documents for class, the keypad does not budge which is something I greatly appreciate. My only issue is that the keypad is only slightly more elevated than the Wireless Apple Keyboard that I use. Good value and looks good. Works well but for me the keys slightly higher and stiffer than I would like. Perhaps over time that will get better. Others may find it feels great to them. This does not work with a Mac when it is using Boot Camp. The description that says it works with Windows 7. The number keys do not work when you are using 7 on Boot Camp. Love it!! It works so well and the buttons are slightly raised so your fingers glide so easily over them. Great buy!! Works great the second you plug it in! No problems yet! keys were relatively sticky and did not mimic the quality of my macbook. it felt like i had to really push hard to use them after the flow of apple keys This works great on my Mac, and I also use it when I access my Microsoft remote server from my Pac. I had one problem with the Num lock turning on in my remote environment, but the tech support team was very responsive and helpful, and the issue was resolved in no time! Nice keypad. Plugged it in and it worked right off the bat. Have had no problems with it. Would definitely buy again. Worked fine, a bit sluggish after a time and takes some getting used to, but makes data entry so much faster... I will be returning this product. For some reason it would not work with my MacPro. I gave it three stars since the company reached out to try to reach a solution. Cable WAY too short to be used on a desk top. It works. Mine has to \"+\" signs on it but the top one was actually a \"-\" sign. I kept it because it worked & there was no need to send it back.', 'pros': 'Boasts easy set up via 36-inch USB cord, allowing users to use this 18-key device, Has handy bottom switch to indicate use with a “PC” or “Mac.” Works with myriad of operating systems', 'cons': 'May be taller than your standard Mac keyboard, No equal or clear keys', 'summary': 'Reliable numeric keypad that works with Macs and PCs. Easy to use, ideal for anyone who wants a keyboard with style.', 'target': 'Boasts easy set up via 36-inch USB cord, allowing users to use this 18-key device, Has handy bottom switch to indicate use with a “PC” or “Mac.” Works with myriad of operating systems. May be taller than your standard Mac keyboard, No equal or clear keys', 'input_ids': [240, 119, 133, 112, 818, 122, 1586, 108, 119, 217, 136, 6960, 118, 128, 3813, 107, 6179, 112, 207, 108, 188, 4800, 126, 190, 128, 23418, 3154, 111, 275, 107, 125, 248, 109, 166, 112, 933, 5067, 262, 125, 235, 120, 125, 3739, 124, 183, 1150, 111, 125, 172, 112, 508, 112, 225, 536, 193, 2976, 1993, 107, 240, 161, 933, 140, 1908, 112, 119, 108, 528, 901, 109, 198, 74675, 194, 1475, 107, 72751, 2900, 950, 662, 5561, 108, 802, 126, 358, 146, 133, 114, 198, 50373, 194, 1475, 143, 4637, 131, 144, 179, 27397, 141, 109, 198, 7287, 4108, 194, 1475, 158, 162, 117, 447, 125, 288, 869, 109, 2900, 30830, 107, 168, 117, 114, 332, 14168, 197, 1214, 107, 125, 2491, 126, 262, 126, 595, 131, 144, 133, 114, 5698, 1475, 107, 182, 30830, 3530, 114, 82693, 3873, 30830, 108, 162, 656, 114, 2221, 107, 125, 374, 120, 109, 2221, 140, 832, 198, 27396, 194, 173, 125, 869, 112, 207, 126, 262, 126, 192, 795, 124, 173, 114, 662, 140, 9668, 107, 182, 140, 5016, 173, 3946, 112, 207, 126, 108, 155, 114, 575, 173, 3797, 122, 126, 115, 114, 23220, 147, 139, 520, 4883, 7268, 30830, 17048, 190, 161, 958, 108, 167, 186, 131, 267, 129, 220, 575, 122, 2609, 5545, 107, 125, 131, 261, 209, 263, 126, 559, 122, 114, 15511, 124, 161, 15888, 2717, 108, 111, 126, 140, 221, 400, 112, 207, 107, 125, 17777, 126, 115, 108, 111, 1219, 112, 201, 107, 139, 2072, 113, 109, 6689, 117, 512, 121, 121, 187, 3182, 126, 112, 161, 958, 124, 109, 518, 477, 108, 111, 125, 131, 208, 268, 7455, 107, 125, 346, 146, 1609, 120, 136, 117, 114, 1025, 11097, 132, 344, 6960, 155, 125, 368, 935, 126, 262, 125, 245, 114, 332, 588, 154, 111, 114, 344, 6960, 107, 412, 125, 346, 1062, 112, 1178, 154, 408, 111, 631, 156, 113, 109, 154, 1931, 1304, 107, 343, 136, 117, 114, 221, 1412, 344, 6960, 162, 138, 1278, 119, 210, 175, 119, 127, 4633, 113, 4219, 1586, 482, 109, 349, 113, 109, 5561, 115, 114, 1870, 540, 162, 125, 258, 221, 8237, 107, 125, 188, 869, 154, 107, 600, 15888, 5988, 2246, 368, 146, 3326, 136, 108, 155, 126, 1608, 213, 112, 207, 126, 107, 18122, 1334, 112, 1646, 1226, 108, 167, 126, 138, 201, 118, 213, 107, 139, 4057, 839, 119, 112, 109, 2201, 487, 109, 156, 119, 188, 23937, 111, 109, 110, 50879, 13790, 108, 17383, 116, 180, 119, 188, 23937, 107, 125, 196, 114, 26395, 520, 4883, 7268, 120, 163, 196, 114, 782, 111, 5010, 143, 2957, 17383, 158, 4589, 108, 155, 126, 1254, 947, 111, 1254, 595, 131, 144, 107, 485, 117, 447, 125, 2020, 136, 156, 122, 3851, 107, 371, 3061, 2409, 109, 1938, 10379, 836, 143, 2532, 140, 12996, 11907, 108, 155, 109, 469, 3637, 120, 108, 167, 126, 8068, 357, 3407, 250, 168, 148, 114, 28981, 2514, 124, 109, 247, 118, 5234, 109, 268, 2531, 143, 9747, 132, 2603, 158, 162, 125, 133, 51571, 121, 24454, 316, 204, 1], 'attention_mask': [1, 1, 1, 1, 1, 1, 1, 1, 1, 1, 1, 1, 1, 1, 1, 1, 1, 1, 1, 1, 1, 1, 1, 1, 1, 1, 1, 1, 1, 1, 1, 1, 1, 1, 1, 1, 1, 1, 1, 1, 1, 1, 1, 1, 1, 1, 1, 1, 1, 1, 1, 1, 1, 1, 1, 1, 1, 1, 1, 1, 1, 1, 1, 1, 1, 1, 1, 1, 1, 1, 1, 1, 1, 1, 1, 1, 1, 1, 1, 1, 1, 1, 1, 1, 1, 1, 1, 1, 1, 1, 1, 1, 1, 1, 1, 1, 1, 1, 1, 1, 1, 1, 1, 1, 1, 1, 1, 1, 1, 1, 1, 1, 1, 1, 1, 1, 1, 1, 1, 1, 1, 1, 1, 1, 1, 1, 1, 1, 1, 1, 1, 1, 1, 1, 1, 1, 1, 1, 1, 1, 1, 1, 1, 1, 1, 1, 1, 1, 1, 1, 1, 1, 1, 1, 1, 1, 1, 1, 1, 1, 1, 1, 1, 1, 1, 1, 1, 1, 1, 1, 1, 1, 1, 1, 1, 1, 1, 1, 1, 1, 1, 1, 1, 1, 1, 1, 1, 1, 1, 1, 1, 1, 1, 1, 1, 1, 1, 1, 1, 1, 1, 1, 1, 1, 1, 1, 1, 1, 1, 1, 1, 1, 1, 1, 1, 1, 1, 1, 1, 1, 1, 1, 1, 1, 1, 1, 1, 1, 1, 1, 1, 1, 1, 1, 1, 1, 1, 1, 1, 1, 1, 1, 1, 1, 1, 1, 1, 1, 1, 1, 1, 1, 1, 1, 1, 1, 1, 1, 1, 1, 1, 1, 1, 1, 1, 1, 1, 1, 1, 1, 1, 1, 1, 1, 1, 1, 1, 1, 1, 1, 1, 1, 1, 1, 1, 1, 1, 1, 1, 1, 1, 1, 1, 1, 1, 1, 1, 1, 1, 1, 1, 1, 1, 1, 1, 1, 1, 1, 1, 1, 1, 1, 1, 1, 1, 1, 1, 1, 1, 1, 1, 1, 1, 1, 1, 1, 1, 1, 1, 1, 1, 1, 1, 1, 1, 1, 1, 1, 1, 1, 1, 1, 1, 1, 1, 1, 1, 1, 1, 1, 1, 1, 1, 1, 1, 1, 1, 1, 1, 1, 1, 1, 1, 1, 1, 1, 1, 1, 1, 1, 1, 1, 1, 1, 1, 1, 1, 1, 1, 1, 1, 1, 1, 1, 1, 1, 1, 1, 1, 1, 1, 1, 1, 1, 1, 1, 1, 1, 1, 1, 1, 1, 1, 1, 1, 1, 1, 1, 1, 1, 1, 1, 1, 1, 1, 1, 1, 1, 1, 1, 1, 1, 1, 1, 1, 1, 1, 1, 1, 1, 1, 1, 1, 1, 1, 1, 1, 1, 1, 1, 1, 1, 1, 1, 1, 1, 1, 1, 1, 1, 1, 1, 1, 1, 1, 1, 1, 1, 1, 1, 1, 1, 1, 1, 1, 1, 1, 1, 1, 1, 1, 1, 1, 1, 1, 1, 1, 1, 1, 1, 1, 1, 1, 1, 1, 1, 1, 1, 1, 1, 1, 1, 1, 1, 1, 1, 1, 1, 1, 1, 1, 1, 1, 1, 1, 1, 1, 1, 1, 1, 1, 1], 'labels': [48619, 116, 400, 323, 164, 879, 34890, 4106, 3851, 6689, 108, 2063, 780, 112, 207, 136, 12127, 7606, 1128, 108, 5841, 5016, 1472, 2514, 112, 4298, 207, 122, 114, 185, 9747, 227, 132, 185, 12791, 1181, 6815, 122, 12190, 113, 1901, 747, 107, 913, 129, 17916, 197, 128, 971, 2603, 5561, 108, 566, 3294, 132, 786, 4589, 1, 0, 0, 0, 0, 0, 0, 0, 0, 0, 0, 0, 0, 0, 0, 0, 0, 0, 0, 0, 0, 0, 0, 0, 0, 0, 0, 0, 0, 0, 0, 0, 0, 0, 0, 0, 0, 0, 0, 0, 0, 0, 0, 0, 0, 0, 0, 0, 0, 0, 0, 0, 0, 0, 0, 0, 0, 0, 0, 0, 0, 0, 0, 0, 0, 0, 0, 0, 0, 0, 0, 0, 0, 0, 0, 0, 0, 0, 0, 0, 0, 0, 0, 0, 0, 0, 0, 0, 0, 0, 0, 0, 0, 0, 0, 0, 0, 0, 0, 0, 0, 0, 0, 0, 0, 0, 0, 0, 0, 0, 0, 0, 0, 0, 0, 0, 0, 0, 0, 0, 0, 0, 0, 0, 0, 0, 0, 0, 0, 0, 0, 0, 0, 0, 0, 0, 0, 0, 0, 0, 0, 0, 0, 0, 0, 0, 0, 0, 0, 0, 0, 0, 0, 0, 0, 0, 0, 0, 0, 0, 0, 0, 0, 0, 0, 0, 0, 0, 0, 0, 0, 0, 0, 0, 0, 0, 0, 0, 0, 0, 0, 0, 0, 0, 0, 0, 0, 0, 0, 0, 0, 0, 0, 0, 0, 0, 0, 0, 0]}\n"
     ]
    }
   ],
   "source": [
    "import pandas as pd\n",
    "from datasets import Dataset\n",
    "from transformers import PegasusTokenizer\n",
    "from tqdm import tqdm\n",
    "\n",
    "# Load CSV data with controlled size\n",
    "def load_data(file_path, num_samples):\n",
    "    df = pd.read_csv(file_path)\n",
    "    df = df.sample(n=num_samples, random_state=42).reset_index(drop=True)  # Shuffle and take subset\n",
    "    df[\"target\"] = df[\"pros\"] + \". \" + df[\"cons\"]\n",
    "    return Dataset.from_pandas(df)\n",
    "\n",
    "# Load dataset paths\n",
    "train_path = \"pegasus_train_data.csv\"\n",
    "valid_path = \"pegasus_valid_data.csv\"\n",
    "\n",
    "# Load specific number of samples\n",
    "train_dataset = load_data(train_path, 10000)  # Take 10,000 training samples\n",
    "valid_dataset = load_data(valid_path, 2500)   # Take 2,500 validation samples\n",
    "\n",
    "# Load Pegasus tokenizer\n",
    "model_name = \"google/pegasus-xsum\"\n",
    "tokenizer = PegasusTokenizer.from_pretrained(model_name)\n",
    "\n",
    "# Tokenization function\n",
    "def tokenize_function(examples):\n",
    "    model_inputs = tokenizer(\n",
    "        examples[\"reviews\"], padding=\"max_length\", truncation=True, max_length=512, return_tensors=\"pt\"\n",
    "    )\n",
    "    labels = tokenizer(\n",
    "        examples[\"target\"], padding=\"max_length\", truncation=True, max_length=256, return_tensors=\"pt\"\n",
    "    )[\"input_ids\"]\n",
    "    model_inputs[\"labels\"] = labels\n",
    "    return model_inputs\n",
    "\n",
    "# Tokenizing datasets\n",
    "train_dataset = train_dataset.map(tokenize_function, batched=True)\n",
    "valid_dataset = valid_dataset.map(tokenize_function, batched=True)\n",
    "\n",
    "# Save tokenized datasets to disk\n",
    "train_dataset.save_to_disk(\"tokenized_train_dataset\")\n",
    "valid_dataset.save_to_disk(\"tokenized_valid_dataset\")\n",
    "\n",
    "# Print first sample to verify\n",
    "print(train_dataset[0])\n"
   ]
  },
  {
   "cell_type": "code",
   "execution_count": 11,
   "metadata": {
    "execution": {
     "iopub.execute_input": "2025-04-06T11:27:36.165537Z",
     "iopub.status.busy": "2025-04-06T11:27:36.165261Z",
     "iopub.status.idle": "2025-04-06T11:27:36.170418Z",
     "shell.execute_reply": "2025-04-06T11:27:36.169462Z",
     "shell.execute_reply.started": "2025-04-06T11:27:36.165501Z"
    },
    "trusted": true
   },
   "outputs": [
    {
     "data": {
      "text/plain": [
       "(2500, 8)"
      ]
     },
     "execution_count": 11,
     "metadata": {},
     "output_type": "execute_result"
    }
   ],
   "source": [
    "train_dataset.shape\n",
    "valid_dataset.shape"
   ]
  },
  {
   "cell_type": "code",
   "execution_count": 5,
   "metadata": {
    "execution": {
     "iopub.execute_input": "2025-04-14T09:56:34.524624Z",
     "iopub.status.busy": "2025-04-14T09:56:34.524237Z",
     "iopub.status.idle": "2025-04-14T09:56:34.656489Z",
     "shell.execute_reply": "2025-04-14T09:56:34.655642Z",
     "shell.execute_reply.started": "2025-04-14T09:56:34.524595Z"
    },
    "trusted": true
   },
   "outputs": [
    {
     "name": "stdout",
     "output_type": "stream",
     "text": [
      "True\n",
      "2\n",
      "Tesla T4\n",
      "0.0 GB Allocated\n",
      "0.0 GB Reserved\n"
     ]
    }
   ],
   "source": [
    "import torch\n",
    "print(torch.cuda.is_available())  # Should return True if GPU is detected\n",
    "print(torch.cuda.device_count())  # Number of GPUs available\n",
    "print(torch.cuda.get_device_name(0))  # Name of the GPU\n",
    "print(torch.cuda.memory_allocated() / 1024**3, \"GB Allocated\")  # Memory used\n",
    "print(torch.cuda.memory_reserved() / 1024**3, \"GB Reserved\")  # Memory reserved\n"
   ]
  },
  {
   "cell_type": "code",
   "execution_count": 13,
   "metadata": {
    "execution": {
     "iopub.execute_input": "2025-04-06T11:27:36.301925Z",
     "iopub.status.busy": "2025-04-06T11:27:36.301616Z",
     "iopub.status.idle": "2025-04-06T11:27:36.305322Z",
     "shell.execute_reply": "2025-04-06T11:27:36.304536Z",
     "shell.execute_reply.started": "2025-04-06T11:27:36.301893Z"
    },
    "trusted": true
   },
   "outputs": [],
   "source": [
    "import torch\n",
    "torch.cuda.empty_cache()\n"
   ]
  },
  {
   "cell_type": "code",
   "execution_count": 14,
   "metadata": {
    "execution": {
     "iopub.execute_input": "2025-04-06T11:27:36.306421Z",
     "iopub.status.busy": "2025-04-06T11:27:36.306028Z",
     "iopub.status.idle": "2025-04-06T11:27:36.731042Z",
     "shell.execute_reply": "2025-04-06T11:27:36.730295Z",
     "shell.execute_reply.started": "2025-04-06T11:27:36.306394Z"
    },
    "trusted": true
   },
   "outputs": [],
   "source": [
    "import gc\n",
    "gc.collect()\n",
    "torch.cuda.empty_cache()\n"
   ]
  },
  {
   "cell_type": "code",
   "execution_count": null,
   "metadata": {
    "execution": {
     "iopub.execute_input": "2025-04-14T09:56:42.884855Z",
     "iopub.status.busy": "2025-04-14T09:56:42.884464Z"
    },
    "trusted": true
   },
   "outputs": [
    {
     "data": {
      "application/vnd.jupyter.widget-view+json": {
       "model_id": "257ebf955607458e8842995e51654b35",
       "version_major": 2,
       "version_minor": 0
      },
      "text/plain": [
       "pytorch_model.bin:   0%|          | 0.00/2.28G [00:00<?, ?B/s]"
      ]
     },
     "metadata": {},
     "output_type": "display_data"
    },
    {
     "name": "stderr",
     "output_type": "stream",
     "text": [
      "Some weights of PegasusForConditionalGeneration were not initialized from the model checkpoint at google/pegasus-xsum and are newly initialized: ['model.decoder.embed_positions.weight', 'model.encoder.embed_positions.weight']\n",
      "You should probably TRAIN this model on a down-stream task to be able to use it for predictions and inference.\n"
     ]
    },
    {
     "data": {
      "application/vnd.jupyter.widget-view+json": {
       "model_id": "424f1c2ec87d4231b2f0279fe25bc2a5",
       "version_major": 2,
       "version_minor": 0
      },
      "text/plain": [
       "generation_config.json:   0%|          | 0.00/259 [00:00<?, ?B/s]"
      ]
     },
     "metadata": {},
     "output_type": "display_data"
    },
    {
     "name": "stderr",
     "output_type": "stream",
     "text": [
      "/usr/local/lib/python3.10/dist-packages/transformers/optimization.py:591: FutureWarning: This implementation of AdamW is deprecated and will be removed in a future version. Use the PyTorch implementation torch.optim.AdamW instead, or set `no_deprecation_warning=True` to disable this warning\n",
      "  warnings.warn(\n",
      "Epoch 1: 100%|██████████| 5000/5000 [1:26:39<00:00,  1.04s/it, loss=0.797]\n"
     ]
    },
    {
     "name": "stdout",
     "output_type": "stream",
     "text": [
      "Epoch 1 Train Loss: 1.2051\n"
     ]
    },
    {
     "name": "stderr",
     "output_type": "stream",
     "text": [
      "Validating: 100%|██████████| 1250/1250 [06:32<00:00,  3.18it/s]\n"
     ]
    },
    {
     "name": "stdout",
     "output_type": "stream",
     "text": [
      "Epoch 1 Validation Loss: 0.8189\n"
     ]
    },
    {
     "name": "stderr",
     "output_type": "stream",
     "text": [
      "Epoch 2: 100%|██████████| 5000/5000 [1:26:51<00:00,  1.04s/it, loss=0.761]\n"
     ]
    },
    {
     "name": "stdout",
     "output_type": "stream",
     "text": [
      "Epoch 2 Train Loss: 0.8197\n"
     ]
    },
    {
     "name": "stderr",
     "output_type": "stream",
     "text": [
      "Validating: 100%|██████████| 1250/1250 [06:35<00:00,  3.16it/s]\n"
     ]
    },
    {
     "name": "stdout",
     "output_type": "stream",
     "text": [
      "Epoch 2 Validation Loss: 0.7989\n"
     ]
    },
    {
     "name": "stderr",
     "output_type": "stream",
     "text": [
      "Epoch 3: 100%|██████████| 5000/5000 [1:26:53<00:00,  1.04s/it, loss=0.949]\n"
     ]
    },
    {
     "name": "stdout",
     "output_type": "stream",
     "text": [
      "Epoch 3 Train Loss: 0.7884\n"
     ]
    },
    {
     "name": "stderr",
     "output_type": "stream",
     "text": [
      "Validating:  59%|█████▊    | 734/1250 [03:52<02:43,  3.16it/s]"
     ]
    }
   ],
   "source": [
    "from datasets import load_from_disk\n",
    "from transformers import PegasusForConditionalGeneration, PegasusTokenizer\n",
    "from transformers import Trainer, TrainingArguments, DataCollatorForSeq2Seq\n",
    "\n",
    "# Load tokenized datasets from disk\n",
    "train_dataset = load_from_disk(\"tokenized_train_dataset\")\n",
    "valid_dataset = load_from_disk(\"tokenized_valid_dataset\")\n",
    "\n",
    "# Load model and tokenizer\n",
    "model = PegasusForConditionalGeneration.from_pretrained(\"google/pegasus-xsum\")\n",
    "tokenizer = PegasusTokenizer.from_pretrained(\"google/pegasus-xsum\")\n",
    "\n",
    "# Define data collator for padding dynamically\n",
    "data_collator = DataCollatorForSeq2Seq(tokenizer=tokenizer, model=model)\n",
    "\n",
    "# Define training arguments\n",
    "training_args = TrainingArguments(\n",
    "    output_dir=\"./pegasus_finetuned\",\n",
    "    evaluation_strategy=\"epoch\",\n",
    "    save_strategy=\"epoch\",\n",
    "    learning_rate=5e-5,\n",
    "    per_device_train_batch_size=2,\n",
    "    per_device_eval_batch_size=2,\n",
    "    num_train_epochs=3,\n",
    "    weight_decay=0.01,\n",
    "    logging_dir=\"./logs\",\n",
    "    logging_strategy=\"steps\",\n",
    "    logging_steps=10,\n",
    "    save_total_limit=2,\n",
    "    load_best_model_at_end=True,\n",
    "    metric_for_best_model=\"eval_loss\",\n",
    ")\n",
    "\n",
    "# Create Trainer\n",
    "trainer = Trainer(\n",
    "    model=model,\n",
    "    args=training_args,\n",
    "    train_dataset=train_dataset,\n",
    "    eval_dataset=valid_dataset,\n",
    "    tokenizer=tokenizer,\n",
    "    data_collator=data_collator,\n",
    ")\n",
    "\n",
    "# Train and evaluate\n",
    "trainer.train()\n",
    "\n",
    "# Save final model\n",
    "trainer.save_model(\"pegasus_finetuned\")\n",
    "tokenizer.save_pretrained(\"pegasus_finetuned\")\n",
    "\n",
    "print(\"Training & Validation complete! Model saved.\")"
   ]
  },
  {
   "cell_type": "code",
   "execution_count": 7,
   "metadata": {
    "execution": {
     "iopub.execute_input": "2025-04-14T14:44:12.757441Z",
     "iopub.status.busy": "2025-04-14T14:44:12.756917Z",
     "iopub.status.idle": "2025-04-14T14:44:16.587748Z",
     "shell.execute_reply": "2025-04-14T14:44:16.586822Z",
     "shell.execute_reply.started": "2025-04-14T14:44:12.757395Z"
    },
    "trusted": true
   },
   "outputs": [
    {
     "data": {
      "text/plain": [
       "PegasusForConditionalGeneration(\n",
       "  (model): PegasusModel(\n",
       "    (shared): Embedding(96103, 1024, padding_idx=0)\n",
       "    (encoder): PegasusEncoder(\n",
       "      (embed_tokens): Embedding(96103, 1024, padding_idx=0)\n",
       "      (embed_positions): PegasusSinusoidalPositionalEmbedding(512, 1024)\n",
       "      (layers): ModuleList(\n",
       "        (0-15): 16 x PegasusEncoderLayer(\n",
       "          (self_attn): PegasusAttention(\n",
       "            (k_proj): Linear(in_features=1024, out_features=1024, bias=True)\n",
       "            (v_proj): Linear(in_features=1024, out_features=1024, bias=True)\n",
       "            (q_proj): Linear(in_features=1024, out_features=1024, bias=True)\n",
       "            (out_proj): Linear(in_features=1024, out_features=1024, bias=True)\n",
       "          )\n",
       "          (self_attn_layer_norm): LayerNorm((1024,), eps=1e-05, elementwise_affine=True)\n",
       "          (activation_fn): ReLU()\n",
       "          (fc1): Linear(in_features=1024, out_features=4096, bias=True)\n",
       "          (fc2): Linear(in_features=4096, out_features=1024, bias=True)\n",
       "          (final_layer_norm): LayerNorm((1024,), eps=1e-05, elementwise_affine=True)\n",
       "        )\n",
       "      )\n",
       "      (layer_norm): LayerNorm((1024,), eps=1e-05, elementwise_affine=True)\n",
       "    )\n",
       "    (decoder): PegasusDecoder(\n",
       "      (embed_tokens): Embedding(96103, 1024, padding_idx=0)\n",
       "      (embed_positions): PegasusSinusoidalPositionalEmbedding(512, 1024)\n",
       "      (layers): ModuleList(\n",
       "        (0-15): 16 x PegasusDecoderLayer(\n",
       "          (self_attn): PegasusAttention(\n",
       "            (k_proj): Linear(in_features=1024, out_features=1024, bias=True)\n",
       "            (v_proj): Linear(in_features=1024, out_features=1024, bias=True)\n",
       "            (q_proj): Linear(in_features=1024, out_features=1024, bias=True)\n",
       "            (out_proj): Linear(in_features=1024, out_features=1024, bias=True)\n",
       "          )\n",
       "          (activation_fn): ReLU()\n",
       "          (self_attn_layer_norm): LayerNorm((1024,), eps=1e-05, elementwise_affine=True)\n",
       "          (encoder_attn): PegasusAttention(\n",
       "            (k_proj): Linear(in_features=1024, out_features=1024, bias=True)\n",
       "            (v_proj): Linear(in_features=1024, out_features=1024, bias=True)\n",
       "            (q_proj): Linear(in_features=1024, out_features=1024, bias=True)\n",
       "            (out_proj): Linear(in_features=1024, out_features=1024, bias=True)\n",
       "          )\n",
       "          (encoder_attn_layer_norm): LayerNorm((1024,), eps=1e-05, elementwise_affine=True)\n",
       "          (fc1): Linear(in_features=1024, out_features=4096, bias=True)\n",
       "          (fc2): Linear(in_features=4096, out_features=1024, bias=True)\n",
       "          (final_layer_norm): LayerNorm((1024,), eps=1e-05, elementwise_affine=True)\n",
       "        )\n",
       "      )\n",
       "      (layer_norm): LayerNorm((1024,), eps=1e-05, elementwise_affine=True)\n",
       "    )\n",
       "  )\n",
       "  (lm_head): Linear(in_features=1024, out_features=96103, bias=False)\n",
       ")"
      ]
     },
     "execution_count": 7,
     "metadata": {},
     "output_type": "execute_result"
    }
   ],
   "source": [
    "from transformers import PegasusTokenizer, PegasusForConditionalGeneration\n",
    "import torch\n",
    "\n",
    "# Load trained model and tokenizer\n",
    "model_name = \"/kaggle/working/pegasus_finetuned\"  # Path where you saved the model\n",
    "tokenizer = PegasusTokenizer.from_pretrained(model_name)\n",
    "model = PegasusForConditionalGeneration.from_pretrained(model_name)\n",
    "\n",
    "# Move model to GPU if available\n",
    "device = torch.device(\"cuda\" if torch.cuda.is_available() else \"cpu\")\n",
    "model.to(device)\n"
   ]
  },
  {
   "cell_type": "code",
   "execution_count": 17,
   "metadata": {
    "execution": {
     "iopub.execute_input": "2025-04-06T16:47:09.407739Z",
     "iopub.status.busy": "2025-04-06T16:47:09.407416Z",
     "iopub.status.idle": "2025-04-06T16:47:10.300499Z",
     "shell.execute_reply": "2025-04-06T16:47:10.299834Z",
     "shell.execute_reply.started": "2025-04-06T16:47:09.407708Z"
    },
    "trusted": true
   },
   "outputs": [],
   "source": [
    "import pandas as pd\n",
    "from datasets import Dataset\n",
    "\n",
    "# Load test dataset CSV\n",
    "test_path = \"pegasus_test_data.csv\"  # Replace with your actual test file\n",
    "df_test = pd.read_csv(test_path)\n",
    "\n",
    "# Select 500 random samples for testing\n",
    "df_test = df_test.sample(n=500, random_state=42).reset_index(drop=True)\n",
    "\n",
    "# Convert to Hugging Face dataset format\n",
    "test_dataset = Dataset.from_pandas(df_test)\n"
   ]
  },
  {
   "cell_type": "code",
   "execution_count": 18,
   "metadata": {
    "execution": {
     "iopub.execute_input": "2025-04-06T16:47:10.301562Z",
     "iopub.status.busy": "2025-04-06T16:47:10.301284Z",
     "iopub.status.idle": "2025-04-06T16:47:12.810858Z",
     "shell.execute_reply": "2025-04-06T16:47:12.810004Z",
     "shell.execute_reply.started": "2025-04-06T16:47:10.301533Z"
    },
    "trusted": true
   },
   "outputs": [
    {
     "data": {
      "text/plain": [
       "(500, 4)"
      ]
     },
     "execution_count": 18,
     "metadata": {},
     "output_type": "execute_result"
    }
   ],
   "source": [
    "test_dataset.shape"
   ]
  },
  {
   "cell_type": "code",
   "execution_count": 19,
   "metadata": {
    "execution": {
     "iopub.execute_input": "2025-04-06T16:47:12.812185Z",
     "iopub.status.busy": "2025-04-06T16:47:12.811906Z",
     "iopub.status.idle": "2025-04-06T16:47:15.248870Z",
     "shell.execute_reply": "2025-04-06T16:47:15.248090Z",
     "shell.execute_reply.started": "2025-04-06T16:47:12.812163Z"
    },
    "trusted": true
   },
   "outputs": [],
   "source": [
    "def generate_summary(review_text):\n",
    "    inputs = tokenizer(review_text, return_tensors=\"pt\", truncation=True, padding=\"max_length\", max_length=512)\n",
    "    inputs = {key: value.to(device) for key, value in inputs.items()}  # Move to GPU/CPU\n",
    "    summary_ids = model.generate(**inputs, max_length=256, num_beams=5, early_stopping=True)\n",
    "    summary = tokenizer.decode(summary_ids[0], skip_special_tokens=True)\n",
    "    return summary\n"
   ]
  },
  {
   "cell_type": "code",
   "execution_count": 20,
   "metadata": {
    "execution": {
     "iopub.execute_input": "2025-04-06T16:47:15.250047Z",
     "iopub.status.busy": "2025-04-06T16:47:15.249709Z",
     "iopub.status.idle": "2025-04-06T17:03:57.827670Z",
     "shell.execute_reply": "2025-04-06T17:03:57.826575Z",
     "shell.execute_reply.started": "2025-04-06T16:47:15.250007Z"
    },
    "trusted": true
   },
   "outputs": [
    {
     "name": "stdout",
     "output_type": "stream",
     "text": [
      "                                             reviews  \\\n",
      "0  Planned to try use it at the small gym locker ...   \n",
      "1  I'm not an expert on olive oil, and I wasn't h...   \n",
      "2  We went on a family trip to the zoo with our 3...   \n",
      "3  I originally purchased this cleanser from Seph...   \n",
      "4  Bought this for my FIL to replace his that flo...   \n",
      "\n",
      "                                   generated_summary  \n",
      "0  Easy to set up and use, Works well as a luggag...  \n",
      "1  This oil is made from 100% Spanish olive oil, ...  \n",
      "2  Made from 100% polyester, This towel is lightw...  \n",
      "3  Formulated to be gentle on sensitive skin, Gen...  \n",
      "4  This mattress is made with a combination of me...  \n"
     ]
    }
   ],
   "source": [
    "# Generate summaries for all test reviews\n",
    "df_test[\"generated_summary\"] = df_test[\"reviews\"].apply(generate_summary)\n",
    "\n",
    "# Save results\n",
    "df_test.to_csv(\"pegasus_test_results.csv\", index=False)\n",
    "\n",
    "# Display a few examples\n",
    "print(df_test[[\"reviews\", \"generated_summary\"]].head())\n"
   ]
  },
  {
   "cell_type": "code",
   "execution_count": 21,
   "metadata": {
    "execution": {
     "iopub.execute_input": "2025-04-06T17:03:57.829158Z",
     "iopub.status.busy": "2025-04-06T17:03:57.828862Z",
     "iopub.status.idle": "2025-04-06T17:03:57.834801Z",
     "shell.execute_reply": "2025-04-06T17:03:57.834092Z",
     "shell.execute_reply.started": "2025-04-06T17:03:57.829128Z"
    },
    "trusted": true
   },
   "outputs": [
    {
     "name": "stdout",
     "output_type": "stream",
     "text": [
      "These locks are a little larger than others and hold up better.\n",
      "Well-made locks, Work well on zippers and small lockers, Company is responsive if you have problems with the locks, Locks come in orange or black\n",
      "Setting the combination can be a little difficult, Some people have a hard time reopening their locks\n",
      "Easy to set up and use, Works well as a luggage lock, but can also be used as a door lock, Easy to open and close, Works well as a door lock, but can also be used as a luggage lock, Works well as a door lock, but can also be used as a door lock, Works well as a luggage lock, Works well as a door lock, but can also be used as a door lock, Works well as a luggage lock, Works well as a door lock, but can also be used as a door lock, Works well as a luggage lock, Works well as a door lock, but can also be used as a door lock, Works well as a luggage lock, Works well as a door lock, Works well as a luggage lock, Works well as a door lock, Works well as a door lock, Works well as a door lock, Works well as a door lock, Works well as a door lock, Works well as a door lock, Works well as a door lock, Works well as a door lock, Works well as a door lock, Works well as a door lock, Works well as a door lock, Works well as a door lock, Works well as a door lock, Works well as a door lock\n"
     ]
    }
   ],
   "source": [
    "print(df_test['summary'][0])\n",
    "print(df_test['pros'][0])\n",
    "print(df_test['cons'][0])\n",
    "print(df_test['generated_summary'][0])"
   ]
  },
  {
   "cell_type": "code",
   "execution_count": 22,
   "metadata": {
    "execution": {
     "iopub.execute_input": "2025-04-06T17:03:57.835818Z",
     "iopub.status.busy": "2025-04-06T17:03:57.835561Z",
     "iopub.status.idle": "2025-04-06T17:04:13.229447Z",
     "shell.execute_reply": "2025-04-06T17:04:13.228537Z",
     "shell.execute_reply.started": "2025-04-06T17:03:57.835787Z"
    },
    "trusted": true
   },
   "outputs": [
    {
     "name": "stdout",
     "output_type": "stream",
     "text": [
      "Collecting rouge-score\n",
      "  Downloading rouge_score-0.1.2.tar.gz (17 kB)\n",
      "  Preparing metadata (setup.py) ... \u001b[?25l\u001b[?25hdone\n",
      "Requirement already satisfied: absl-py in /usr/local/lib/python3.10/dist-packages (from rouge-score) (1.4.0)\n",
      "Requirement already satisfied: nltk in /usr/local/lib/python3.10/dist-packages (from rouge-score) (3.2.4)\n",
      "Requirement already satisfied: numpy in /usr/local/lib/python3.10/dist-packages (from rouge-score) (1.26.4)\n",
      "Requirement already satisfied: six>=1.14.0 in /usr/local/lib/python3.10/dist-packages (from rouge-score) (1.17.0)\n",
      "Requirement already satisfied: mkl_fft in /usr/local/lib/python3.10/dist-packages (from numpy->rouge-score) (1.3.8)\n",
      "Requirement already satisfied: mkl_random in /usr/local/lib/python3.10/dist-packages (from numpy->rouge-score) (1.2.4)\n",
      "Requirement already satisfied: mkl_umath in /usr/local/lib/python3.10/dist-packages (from numpy->rouge-score) (0.1.1)\n",
      "Requirement already satisfied: mkl in /usr/local/lib/python3.10/dist-packages (from numpy->rouge-score) (2025.0.1)\n",
      "Requirement already satisfied: tbb4py in /usr/local/lib/python3.10/dist-packages (from numpy->rouge-score) (2022.0.0)\n",
      "Requirement already satisfied: mkl-service in /usr/local/lib/python3.10/dist-packages (from numpy->rouge-score) (2.4.1)\n",
      "Requirement already satisfied: intel-openmp>=2024 in /usr/local/lib/python3.10/dist-packages (from mkl->numpy->rouge-score) (2024.2.0)\n",
      "Requirement already satisfied: tbb==2022.* in /usr/local/lib/python3.10/dist-packages (from mkl->numpy->rouge-score) (2022.0.0)\n",
      "Requirement already satisfied: tcmlib==1.* in /usr/local/lib/python3.10/dist-packages (from tbb==2022.*->mkl->numpy->rouge-score) (1.2.0)\n",
      "Requirement already satisfied: intel-cmplr-lib-rt in /usr/local/lib/python3.10/dist-packages (from mkl_umath->numpy->rouge-score) (2024.2.0)\n",
      "Requirement already satisfied: intel-cmplr-lib-ur==2024.2.0 in /usr/local/lib/python3.10/dist-packages (from intel-openmp>=2024->mkl->numpy->rouge-score) (2024.2.0)\n",
      "Building wheels for collected packages: rouge-score\n",
      "  Building wheel for rouge-score (setup.py) ... \u001b[?25l\u001b[?25hdone\n",
      "  Created wheel for rouge-score: filename=rouge_score-0.1.2-py3-none-any.whl size=24935 sha256=5a9535675fec38475e6fcd888b0e8bfbbb521017e71914a743565c748df5d0e8\n",
      "  Stored in directory: /root/.cache/pip/wheels/5f/dd/89/461065a73be61a532ff8599a28e9beef17985c9e9c31e541b4\n",
      "Successfully built rouge-score\n",
      "Installing collected packages: rouge-score\n",
      "Successfully installed rouge-score-0.1.2\n",
      "Note: you may need to restart the kernel to use updated packages.\n"
     ]
    }
   ],
   "source": [
    "pip install rouge-score\n"
   ]
  },
  {
   "cell_type": "code",
   "execution_count": 23,
   "metadata": {
    "execution": {
     "iopub.execute_input": "2025-04-06T17:04:13.230941Z",
     "iopub.status.busy": "2025-04-06T17:04:13.230592Z",
     "iopub.status.idle": "2025-04-06T17:04:14.716328Z",
     "shell.execute_reply": "2025-04-06T17:04:14.715628Z",
     "shell.execute_reply.started": "2025-04-06T17:04:13.230906Z"
    },
    "trusted": true
   },
   "outputs": [
    {
     "name": "stdout",
     "output_type": "stream",
     "text": [
      "ROUGE-1: 0.1580, ROUGE-2: 0.0199, ROUGE-L: 0.1153\n"
     ]
    }
   ],
   "source": [
    "from rouge_score import rouge_scorer\n",
    "\n",
    "scorer = rouge_scorer.RougeScorer([\"rouge1\", \"rouge2\", \"rougeL\"], use_stemmer=True)\n",
    "\n",
    "def compute_rouge_scores(target, prediction):\n",
    "    scores = scorer.score(target, prediction)\n",
    "    return scores\n",
    "\n",
    "# Evaluate ROUGE on the test set\n",
    "rouge_scores = df_test.apply(lambda row: compute_rouge_scores(row[\"summary\"], row[\"generated_summary\"]), axis=1)\n",
    "\n",
    "# Extract average ROUGE scores\n",
    "rouge_1 = sum([score[\"rouge1\"].fmeasure for score in rouge_scores]) / len(rouge_scores)\n",
    "rouge_2 = sum([score[\"rouge2\"].fmeasure for score in rouge_scores]) / len(rouge_scores)\n",
    "rouge_L = sum([score[\"rougeL\"].fmeasure for score in rouge_scores]) / len(rouge_scores)\n",
    "\n",
    "print(f\"ROUGE-1: {rouge_1:.4f}, ROUGE-2: {rouge_2:.4f}, ROUGE-L: {rouge_L:.4f}\")\n"
   ]
  },
  {
   "cell_type": "code",
   "execution_count": 15,
   "metadata": {
    "execution": {
     "iopub.execute_input": "2025-04-14T08:29:02.142689Z",
     "iopub.status.busy": "2025-04-14T08:29:02.142313Z",
     "iopub.status.idle": "2025-04-14T08:29:02.479572Z",
     "shell.execute_reply": "2025-04-14T08:29:02.478734Z",
     "shell.execute_reply.started": "2025-04-14T08:29:02.142659Z"
    },
    "trusted": true
   },
   "outputs": [],
   "source": [
    "mooc_df = pd.read_csv(\"/kaggle/input/mooc-dataset/mooc_coursera_dataset.csv\")"
   ]
  },
  {
   "cell_type": "code",
   "execution_count": 16,
   "metadata": {
    "execution": {
     "iopub.execute_input": "2025-04-14T08:29:05.543732Z",
     "iopub.status.busy": "2025-04-14T08:29:05.543453Z",
     "iopub.status.idle": "2025-04-14T08:29:05.548743Z",
     "shell.execute_reply": "2025-04-14T08:29:05.547924Z",
     "shell.execute_reply.started": "2025-04-14T08:29:05.543712Z"
    },
    "trusted": true
   },
   "outputs": [
    {
     "data": {
      "text/plain": [
       "(45096, 6)"
      ]
     },
     "execution_count": 16,
     "metadata": {},
     "output_type": "execute_result"
    }
   ],
   "source": [
    "mooc_df.shape"
   ]
  },
  {
   "cell_type": "code",
   "execution_count": 17,
   "metadata": {
    "execution": {
     "iopub.execute_input": "2025-04-14T08:29:08.600606Z",
     "iopub.status.busy": "2025-04-14T08:29:08.600300Z",
     "iopub.status.idle": "2025-04-14T08:29:08.633252Z",
     "shell.execute_reply": "2025-04-14T08:29:08.632403Z",
     "shell.execute_reply.started": "2025-04-14T08:29:08.600579Z"
    },
    "trusted": true
   },
   "outputs": [],
   "source": [
    "mooc_df = mooc_df.drop_duplicates()"
   ]
  },
  {
   "cell_type": "code",
   "execution_count": 18,
   "metadata": {
    "execution": {
     "iopub.execute_input": "2025-04-14T08:29:11.527448Z",
     "iopub.status.busy": "2025-04-14T08:29:11.527127Z",
     "iopub.status.idle": "2025-04-14T08:29:11.540556Z",
     "shell.execute_reply": "2025-04-14T08:29:11.539415Z",
     "shell.execute_reply.started": "2025-04-14T08:29:11.527421Z"
    },
    "trusted": true
   },
   "outputs": [],
   "source": [
    "mooc_df = mooc_df.dropna(subset=[\"reviews\"])"
   ]
  },
  {
   "cell_type": "code",
   "execution_count": 19,
   "metadata": {
    "execution": {
     "iopub.execute_input": "2025-04-14T08:29:14.441922Z",
     "iopub.status.busy": "2025-04-14T08:29:14.441579Z",
     "iopub.status.idle": "2025-04-14T08:29:14.446676Z",
     "shell.execute_reply": "2025-04-14T08:29:14.445965Z",
     "shell.execute_reply.started": "2025-04-14T08:29:14.441894Z"
    },
    "trusted": true
   },
   "outputs": [
    {
     "data": {
      "text/plain": [
       "(17417, 6)"
      ]
     },
     "execution_count": 19,
     "metadata": {},
     "output_type": "execute_result"
    }
   ],
   "source": [
    "mooc_df.shape"
   ]
  },
  {
   "cell_type": "code",
   "execution_count": 20,
   "metadata": {
    "execution": {
     "iopub.execute_input": "2025-04-14T08:29:17.324800Z",
     "iopub.status.busy": "2025-04-14T08:29:17.324424Z",
     "iopub.status.idle": "2025-04-14T08:29:17.346850Z",
     "shell.execute_reply": "2025-04-14T08:29:17.346096Z",
     "shell.execute_reply.started": "2025-04-14T08:29:17.324763Z"
    },
    "trusted": true
   },
   "outputs": [
    {
     "name": "stdout",
     "output_type": "stream",
     "text": [
      "Agile with Atlassian Jira 807\n",
      "Become a CBRS Certified Professional Installer by Google 51\n",
      "Building Scalable Java Microservices with Spring Boot and Spring Cloud 206\n",
      "Business Metrics for Data-Driven Companies 273\n",
      "Data Analysis with Python 1474\n",
      "Data Science Methodology 1182\n",
      "Databases and SQL for Data Science 587\n",
      "Fundamentals of Project Planning and Management 1160\n",
      "Google Cloud Platform Big Data and Machine Learning Fundamentals 397\n",
      "Introduction to Data Science in Python 5052\n",
      "Introduction to User Experience Design 889\n",
      "Natural Language Processing in TensorFlow 707\n",
      "Operating Systems and You: Becoming a Power User 2631\n",
      "Programming Foundations with JavaScript, HTML and CSS 573\n",
      "Site Reliability Engineering: Measuring and Managing Reliability 163\n",
      "Supply Chain Principles 351\n",
      "The Social Context of Mental Health and Illness 92\n",
      "Visual Elements of User Interface Design 822\n"
     ]
    }
   ],
   "source": [
    "course_reviews_dict = mooc_df.groupby(\"course_title\")[\"reviews\"].apply(list).to_dict()\n",
    "for key,value in course_reviews_dict.items():\n",
    "  print(key,len(value))"
   ]
  },
  {
   "cell_type": "code",
   "execution_count": null,
   "metadata": {},
   "outputs": [],
   "source": [
    "import re\n",
    "from bs4 import BeautifulSoup\n",
    "import nltk\n",
    "from nltk.corpus import words\n",
    "from nltk.tokenize import word_tokenize\n",
    "import string\n",
    "\n",
    "# Download English word list if not already present\n",
    "nltk.download('punkt')\n",
    "nltk.download('words')\n",
    "english_words = set(words.words())\n",
    "\n",
    "def clean_text(text):\n",
    "    # Remove HTML tags\n",
    "    text = BeautifulSoup(str(text), \"html.parser\").get_text()\n",
    "\n",
    "    # Normalize multiple punctuation marks (e.g., !!! becomes !)\n",
    "    text = re.sub(r'([!?.]){2,}', r'\\1', text)\n",
    "\n",
    "    # Lowercase the text\n",
    "    text = text.lower()\n",
    "\n",
    "    # Remove URLs and hyperlinks\n",
    "    text = re.sub(r\"http\\S+|www\\S+|https\\S+\", '', text)\n",
    "\n",
    "    # Remove numbers\n",
    "    text = re.sub(r'\\d+', '', text)\n",
    "\n",
    "    # Remove punctuation (except spaces)\n",
    "    text = re.sub(f\"[{re.escape(string.punctuation)}]\", '', text)\n",
    "\n",
    "    # Tokenize the text\n",
    "    tokens = word_tokenize(text)\n",
    "\n",
    "    # Keep only valid English words\n",
    "    tokens = [word for word in tokens if word in english_words]\n",
    "\n",
    "    # Re-join tokens and remove extra spaces\n",
    "    cleaned_text = ' '.join(tokens)\n",
    "    cleaned_text = re.sub(r'\\s+', ' ', cleaned_text).strip()\n",
    "\n",
    "    return cleaned_text\n"
   ]
  },
  {
   "cell_type": "code",
   "execution_count": null,
   "metadata": {
    "trusted": true
   },
   "outputs": [],
   "source": [
    "for key, values in course_reviews_dict.items():\n",
    "    cleaned_reviews = [clean_text(review) for review in values]\n",
    "    course_reviews_dict[key] = cleaned_reviews"
   ]
  },
  {
   "cell_type": "code",
   "execution_count": 21,
   "metadata": {
    "execution": {
     "iopub.execute_input": "2025-04-14T08:29:38.024038Z",
     "iopub.status.busy": "2025-04-14T08:29:38.023697Z",
     "iopub.status.idle": "2025-04-14T08:30:16.467189Z",
     "shell.execute_reply": "2025-04-14T08:30:16.466325Z",
     "shell.execute_reply.started": "2025-04-14T08:29:38.024009Z"
    },
    "trusted": true
   },
   "outputs": [
    {
     "name": "stdout",
     "output_type": "stream",
     "text": [
      "Agile with Atlassian Jira cmplt\n",
      "Become a CBRS Certified Professional Installer by Google cmplt\n",
      "Building Scalable Java Microservices with Spring Boot and Spring Cloud cmplt\n",
      "Business Metrics for Data-Driven Companies cmplt\n",
      "Data Analysis with Python cmplt\n",
      "Data Science Methodology cmplt\n",
      "Databases and SQL for Data Science cmplt\n",
      "Fundamentals of Project Planning and Management cmplt\n",
      "Google Cloud Platform Big Data and Machine Learning Fundamentals cmplt\n",
      "Introduction to Data Science in Python cmplt\n",
      "Introduction to User Experience Design cmplt\n",
      "Natural Language Processing in TensorFlow cmplt\n",
      "Operating Systems and You: Becoming a Power User cmplt\n",
      "Programming Foundations with JavaScript, HTML and CSS cmplt\n",
      "Site Reliability Engineering: Measuring and Managing Reliability cmplt\n",
      "Supply Chain Principles cmplt\n",
      "The Social Context of Mental Health and Illness cmplt\n",
      "Visual Elements of User Interface Design cmplt\n"
     ]
    }
   ],
   "source": [
    "import torch\n",
    "from transformers import PegasusTokenizer, PegasusForConditionalGeneration\n",
    "\n",
    "# Load Pegasus model and tokenizer\n",
    "model_path = \"/kaggle/working/pegasus_finetuned\"  # Your fine-tuned model directory\n",
    "tokenizer = PegasusTokenizer.from_pretrained(model_path)\n",
    "model = PegasusForConditionalGeneration.from_pretrained(model_path)\n",
    "\n",
    "# Move model to GPU/CPU\n",
    "device = torch.device(\"cuda\" if torch.cuda.is_available() else \"cpu\")\n",
    "model.to(device)\n",
    "\n",
    "# Function to generate summary\n",
    "def generate_summary(text):\n",
    "    inputs = tokenizer(text, return_tensors=\"pt\", truncation=True, padding=\"max_length\", max_length=512)\n",
    "    inputs = {key: value.to(device) for key, value in inputs.items()}  # Move to GPU/CPU\n",
    "    summary_ids = model.generate(\n",
    "    **inputs,\n",
    "    max_length=256,  # Limit summary length\n",
    "    num_beams=8,  # Beam search for better summaries\n",
    "    early_stopping=True,  # Stop once summary makes sense\n",
    "    no_repeat_ngram_size=3,  # Prevent repeating phrases\n",
    "    length_penalty=1.5,  # Encourage concise summaries\n",
    "    repetition_penalty=1.5  # Reduce excessive repetitions\n",
    ")\n",
    "\n",
    "    summary = tokenizer.decode(summary_ids[0], skip_special_tokens=True)\n",
    "    return summary\n",
    "\n",
    "# Generate summaries for all courses\n",
    "summary_dict = {}\n",
    "for key,values in course_reviews_dict.items():\n",
    "    course_name = key\n",
    "    original_text = course_reviews_dict[course_name]\n",
    "    original_text = \" \".join(original_text)\n",
    "    gen_summ = generate_summary(original_text)\n",
    "    summary_dict[course_name] = [gen_summ]\n",
    "    print(course_name, \"cmplt\")\n",
    "\n",
    "# Save the results\n",
    "#summary_df = pd.DataFrame(list(course_summaries.items()), columns=[\"course_id\", \"generated_summary\"])\n",
    "#summary_df.to_csv(\"mooc_summaries.csv\", index=False)\n",
    "\n",
    "# Display some results\n",
    "\n"
   ]
  },
  {
   "cell_type": "code",
   "execution_count": 22,
   "metadata": {
    "execution": {
     "iopub.execute_input": "2025-04-14T08:30:22.408139Z",
     "iopub.status.busy": "2025-04-14T08:30:22.407705Z",
     "iopub.status.idle": "2025-04-14T08:30:22.423618Z",
     "shell.execute_reply": "2025-04-14T08:30:22.422574Z",
     "shell.execute_reply.started": "2025-04-14T08:30:22.408101Z"
    },
    "trusted": true
   },
   "outputs": [
    {
     "name": "stdout",
     "output_type": "stream",
     "text": [
      "Agile with Atlassian Jira :\n",
      "[\"This course is designed for those who want to learn more about how to use Jira, but don't want to spend a lot of time learning the ins and outs of the software. You'll need to pay for this course if you want to earn a certificate\"] \n",
      "\n",
      "Become a CBRS Certified Professional Installer by Google :\n",
      "[\"This course is designed to help you prepare for the Certified Professional in Internet Security (CPI) exam, It's easy to follow and covers all of the information you need to know to pass the exam. Some of the questions on the final exam were not included in the course\"] \n",
      "\n",
      "Building Scalable Java Microservices with Spring Boot and Spring Cloud :\n",
      "[\"This course is designed for those who want to learn more about Google's cloud platform and how it works, The course covers the basics of Google Cloud Platform (GCP), as well as how to use it in your day-to-day work. The course doesn't provide much in the way of real-world examples, and some of the labs don't work as expected\"] \n",
      "\n",
      "Business Metrics for Data-Driven Companies :\n",
      "[\"This course is designed for those who want to learn more about the basics of Excel, but don't want to spend a lot of time learning how to use the program, The course is split into two parts, with each part covering a different aspect of the program. Some of the lectures are poorly written, and some of the quizzes aren't very challenging\"] \n",
      "\n",
      "Data Analysis with Python :\n",
      "[\"This course is designed for those who want to learn more about machine learning and artificial intelligence, It covers a wide range of topics, including statistical analysis, data mining, and machine learning, The course is well-written and well-paced, and it's easy to follow along with the lectures. The instructor doesn't provide much in the way of real-world examples or practical advice\"] \n",
      "\n",
      "Data Science Methodology :\n",
      "[\"This course is designed for people who already have a basic knowledge of data science, but want to learn more about how to apply it to real-world problems, The course covers a wide range of topics, including the basics of statistical analysis, data mining, and machine learning, It's also designed for those who want to get into data science quickly, but don't want to spend too much time in the classroom. The course doesn't provide much in the way of hands-on experience, so it's best if you already have some data science experience\"] \n",
      "\n",
      "Databases and SQL for Data Science :\n",
      "[\"This course is designed for those who want to learn how to use IBM's cloud computing platform, but don't want to spend a lot of time learning the ins and outs of the software. The course doesn't provide much in the way of real-world examples, so you may not be able to apply what you learn to your own work\"] \n",
      "\n",
      "Fundamentals of Project Planning and Management :\n",
      "[\"This course is designed for those who want to learn more about project management, but don't want to spend a lot of time on the subject, It's also a good way to get an idea of what it takes to be a successful project manager. The course doesn't include any real-world examples, so you'll have to do your own research\"] \n",
      "\n",
      "Google Cloud Platform Big Data and Machine Learning Fundamentals :\n",
      "[\"In this course, you'll learn about the Google Cloud Platform and how it works, You'll also learn how to use the platform to build your own apps. The course doesn't provide much in the way of real-world examples, It's more of an advertisement for Google's products\"] \n",
      "\n",
      "Introduction to Data Science in Python :\n",
      "[\"This course is designed for those who want to learn more about machine learning and artificial intelligence, It covers a wide range of topics, including statistical analysis, data mining, and machine learning, The course is well-written and well-paced, and it's easy to follow along with the lectures. The instructor doesn't provide much in the way of real-world examples or practical advice\"] \n",
      "\n",
      "Introduction to User Experience Design :\n",
      "[\"This course is designed for anyone who wants to learn more about user experience design and how it affects the way users interact with websites, apps, and other online services, It's also a great option for those who want to get started in the field. The course doesn't include any real-world examples, so you won't be able to apply what you learn to your own projects\"] \n",
      "\n",
      "Natural Language Processing in TensorFlow :\n",
      "[\"This four-week course is designed for those who want to learn the basics of programming, but don't want to spend a lot of time learning how to do it. The instructor doesn't provide much in the way of real-world examples or practical exercises\"] \n",
      "\n",
      "Operating Systems and You: Becoming a Power User :\n",
      "[\"This course is designed for those who want to learn more about Google's Chrome browser and how it works, It also includes a series of online labs that you must complete in order to earn a Google IT certificate. Some of the online labs don't seem to work as well as the real-world ones\"] \n",
      "\n",
      "Programming Foundations with JavaScript, HTML and CSS :\n",
      "[\"This course is designed for those who want to learn the basics of JavaScript, but don't want to spend a lot of time learning how to use the language, It also provides an overview of some of the more advanced features of the programming language. The course does not provide much in the way of real-world examples, and there are no real-life examples\"] \n",
      "\n",
      "Site Reliability Engineering: Measuring and Managing Reliability :\n",
      "[\"This course is designed for anyone who wants to learn how to use Google's search engine, but it's also useful for those who want to learn more about how the search engine works. The course is short and doesn't provide much in the way of real-world examples, It's not as comprehensive as some other courses\"] \n",
      "\n",
      "Supply Chain Principles :\n",
      "['This online course is designed for students who want to learn more about the laws and regulations of the United States, It covers a wide range of topics, including federal and state laws, rules, regulations, and codes, The course also includes an online exam that can be taken at any time. The online exam can be difficult for some students to complete'] \n",
      "\n",
      "The Social Context of Mental Health and Illness :\n",
      "['This course focuses on the social context of mental health and illness in Canada, with a focus on asylums and the DSM-5, The course is designed for students who are interested in learning more about mental health issues, but also those who want to learn more about the history of asylums in Canada. Some of the content is outdated, and some of the information is not up to date'] \n",
      "\n",
      "Visual Elements of User Interface Design :\n",
      "['This course is designed for those who already have a basic understanding of UI/UX design, but want to learn more about how to apply it in the real world, The course also provides an overview of some of the current trends in the field. The course does not provide much in the way of real-world examples, and there are no online resources'] \n",
      "\n"
     ]
    }
   ],
   "source": [
    "for key,values in summary_dict.items():\n",
    "    print(key,\":\")\n",
    "    print(values, \"\\n\")"
   ]
  },
  {
   "cell_type": "code",
   "execution_count": null,
   "metadata": {
    "execution": {
     "execution_failed": "2025-04-14T03:02:58.244Z"
    },
    "trusted": true
   },
   "outputs": [],
   "source": [
    "from sentence_transformers import SentenceTransformer\n",
    "from sklearn.metrics.pairwise import cosine_similarity\n",
    "\n",
    "def evaluate_semantic_similarity(original_text, generated_summary):\n",
    "    \"\"\"\n",
    "    Evaluates semantic similarity between the original text and the generated summary.\n",
    "\n",
    "    Args:\n",
    "    - original_text (str): The original input text.\n",
    "    - generated_summary (str): The generated summary.\n",
    "\n",
    "    Returns:\n",
    "    - float: Semantic similarity score (range 0 to 1).\n",
    "    \"\"\"\n",
    "    # Load pre-trained sentence transformer model\n",
    "    model = SentenceTransformer('all-MiniLM-L6-v2')\n",
    "\n",
    "    # Generate embeddings for original text and summary\n",
    "    embeddings = model.encode([original_text, generated_summary])\n",
    "\n",
    "    # Compute cosine similarity\n",
    "    similarity_score = cosine_similarity([embeddings[0]], [embeddings[1]])[0][0]\n",
    "    return similarity_score\n",
    "\n",
    "# Example Usage\n",
    "\n",
    "total_score = 0\n",
    "for key,values in course_reviews_dict.items():\n",
    "    \n",
    "    original_text = \" \".join(course_reviews_dict[key])\n",
    "    generated_summary = \" \".join(summary_dict[key])\n",
    "\n",
    "# Evaluate semantic similarity\n",
    "    similarity_score = evaluate_semantic_similarity(original_text, generated_summary)\n",
    "    total_score += similarity_score\n",
    "    print(f\"Semantic Similarity Score of :{key} is {similarity_score:.2f}\")\n",
    "    \n",
    "avg_score = total_score/len(course_reviews_dict)\n",
    "print(f\"Average Semantic Similarity Score: {avg_score:.2f}\")\n"
   ]
  },
  {
   "cell_type": "code",
   "execution_count": null,
   "metadata": {
    "execution": {
     "execution_failed": "2025-04-14T03:02:58.244Z"
    },
    "trusted": true
   },
   "outputs": [],
   "source": [
    "total_ratio_score = 0\n",
    "for key,values in course_reviews_dict.items():\n",
    "    original_text_len = \" \".join(course_reviews_dict[key])\n",
    "    summary_len = \" \".join(summary_dict[key]) \n",
    "    print(key)\n",
    "    print('Length of the Original Text:', len(original_text_len))\n",
    "\n",
    "    print(\"Length of the Summarized Text:\", len(summary_len))\n",
    "    ratio = (100*(len(summary_len))/(len(original_text_len)))\n",
    "    print(\"Summary Ratio:\", ratio, \"%\")\n",
    "    total_ratio_score += ratio\n",
    "avg = total_ratio_score/len(course_reviews_dict)\n",
    "print(avg, \"%\")    "
   ]
  },
  {
   "cell_type": "code",
   "execution_count": 8,
   "metadata": {
    "execution": {
     "iopub.execute_input": "2025-04-14T14:44:39.706761Z",
     "iopub.status.busy": "2025-04-14T14:44:39.706447Z",
     "iopub.status.idle": "2025-04-14T14:44:45.850158Z",
     "shell.execute_reply": "2025-04-14T14:44:45.849311Z",
     "shell.execute_reply.started": "2025-04-14T14:44:39.706734Z"
    },
    "trusted": true
   },
   "outputs": [
    {
     "data": {
      "text/plain": [
       "('pegasus_finetuned/tokenizer_config.json',\n",
       " 'pegasus_finetuned/special_tokens_map.json',\n",
       " 'pegasus_finetuned/spiece.model',\n",
       " 'pegasus_finetuned/added_tokens.json')"
      ]
     },
     "execution_count": 8,
     "metadata": {},
     "output_type": "execute_result"
    }
   ],
   "source": [
    "model.save_pretrained(\"pegasus_finetuned\")\n",
    "tokenizer.save_pretrained(\"pegasus_finetuned\")"
   ]
  },
  {
   "cell_type": "code",
   "execution_count": null,
   "metadata": {
    "trusted": true
   },
   "outputs": [],
   "source": [
    "import shutil\n",
    "\n",
    "# Zip the model directory\n",
    "shutil.make_archive(\"pegasus_finetuned\", 'zip', \"pegasus_finetuned\")"
   ]
  },
  {
   "cell_type": "code",
   "execution_count": null,
   "metadata": {
    "trusted": true
   },
   "outputs": [],
   "source": [
    "from IPython.display import FileLink\n",
    "\n",
    "FileLink(r'pegasus_finetuned.zip')"
   ]
  },
  {
   "cell_type": "code",
   "execution_count": null,
   "metadata": {
    "execution": {
     "execution_failed": "2025-04-14T03:02:58.244Z"
    },
    "trusted": true
   },
   "outputs": [],
   "source": [
    "from sentence_transformers import SentenceTransformer\n",
    "from sklearn.metrics.pairwise import cosine_similarity\n",
    "import numpy as np\n",
    "\n",
    "def evaluate_coherence(text):\n",
    "    \"\"\"\n",
    "    Evaluates coherence by computing cosine similarity between consecutive sentence embeddings.\n",
    "\n",
    "    Args:\n",
    "    - text (str): The input text to evaluate.\n",
    "\n",
    "    Returns:\n",
    "    - float: Average coherence score (range 0 to 1).\n",
    "    \"\"\"\n",
    "    model = SentenceTransformer('all-MiniLM-L6-v2')\n",
    "    sentences = text.split(\". \")  # Simple sentence segmentation\n",
    "    embeddings = model.encode(sentences)\n",
    "    \n",
    "    if len(embeddings) < 2:\n",
    "        return 1.0  # If only one sentence, coherence is perfect\n",
    "    \n",
    "    similarities = [cosine_similarity([embeddings[i]], [embeddings[i+1]])[0][0] \n",
    "                    for i in range(len(embeddings) - 1)]\n",
    "    \n",
    "    return np.mean(similarities)\n",
    "\n",
    "# Example Usage\n",
    "total_coherence = 0\n",
    "for key, values in summary_dict.items():\n",
    "    generated_summary = \" \".join(values)\n",
    "    coherence_score = evaluate_coherence(generated_summary)\n",
    "    total_coherence += coherence_score\n",
    "    print(f\"Coherence Score for {key}: {coherence_score:.2f}\")\n",
    "\n",
    "avg_coherence = total_coherence / len(summary_dict)\n",
    "print(f\"Average Coherence Score: {avg_coherence:.2f}\")\n"
   ]
  }
 ],
 "metadata": {
  "kaggle": {
   "accelerator": "nvidiaTeslaT4",
   "dataSources": [
    {
     "datasetId": 6873146,
     "sourceId": 11034977,
     "sourceType": "datasetVersion"
    },
    {
     "datasetId": 6877452,
     "sourceId": 11041086,
     "sourceType": "datasetVersion"
    }
   ],
   "dockerImageVersionId": 30919,
   "isGpuEnabled": true,
   "isInternetEnabled": true,
   "language": "python",
   "sourceType": "notebook"
  },
  "kernelspec": {
   "display_name": "Python 3",
   "language": "python",
   "name": "python3"
  },
  "language_info": {
   "codemirror_mode": {
    "name": "ipython",
    "version": 3
   },
   "file_extension": ".py",
   "mimetype": "text/x-python",
   "name": "python",
   "nbconvert_exporter": "python",
   "pygments_lexer": "ipython3",
   "version": "3.10.12"
  }
 },
 "nbformat": 4,
 "nbformat_minor": 4
}
