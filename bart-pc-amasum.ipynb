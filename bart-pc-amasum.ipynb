{
 "cells": [
  {
   "cell_type": "code",
   "execution_count": 2,
   "metadata": {
    "_cell_guid": "b1076dfc-b9ad-4769-8c92-a6c4dae69d19",
    "_uuid": "8f2839f25d086af736a60e9eeb907d3b93b6e0e5",
    "execution": {
     "iopub.execute_input": "2025-04-05T08:21:06.228003Z",
     "iopub.status.busy": "2025-04-05T08:21:06.227666Z",
     "iopub.status.idle": "2025-04-05T08:21:06.231526Z",
     "shell.execute_reply": "2025-04-05T08:21:06.230871Z",
     "shell.execute_reply.started": "2025-04-05T08:21:06.227974Z"
    },
    "trusted": true
   },
   "outputs": [],
   "source": [
    "import zipfile\n",
    "import json\n",
    "import io\n",
    "import os\n",
    "\n"
   ]
  },
  {
   "cell_type": "code",
   "execution_count": 3,
   "metadata": {
    "execution": {
     "iopub.execute_input": "2025-04-05T08:21:09.182826Z",
     "iopub.status.busy": "2025-04-05T08:21:09.182504Z",
     "iopub.status.idle": "2025-04-05T08:21:09.187398Z",
     "shell.execute_reply": "2025-04-05T08:21:09.186520Z",
     "shell.execute_reply.started": "2025-04-05T08:21:09.182799Z"
    },
    "trusted": true
   },
   "outputs": [],
   "source": [
    "def read_json_from_folder(folder_path):\n",
    "    data = {}\n",
    "    json_files = [f for f in os.listdir(folder_path) if f.endswith('.json')]\n",
    "\n",
    "    for json_file in json_files:\n",
    "        file_path = os.path.join(folder_path, json_file)\n",
    "        with open(file_path, 'r', encoding='utf-8') as f:\n",
    "            data[json_file] = json.load(f)\n",
    "    \n",
    "    return data\n"
   ]
  },
  {
   "cell_type": "code",
   "execution_count": 4,
   "metadata": {
    "execution": {
     "iopub.execute_input": "2025-04-05T08:21:13.687771Z",
     "iopub.status.busy": "2025-04-05T08:21:13.687407Z",
     "iopub.status.idle": "2025-04-05T08:21:13.692072Z",
     "shell.execute_reply": "2025-04-05T08:21:13.691102Z",
     "shell.execute_reply.started": "2025-04-05T08:21:13.687739Z"
    },
    "trusted": true
   },
   "outputs": [],
   "source": [
    "dataset_path = \"/kaggle/input/amaa-sum/min_10_max_100_revs_filt_complete\"\n",
    "\n",
    "train_path = os.path.join(dataset_path, \"train\")\n",
    "test_path = os.path.join(dataset_path, \"test\")\n",
    "valid_path = os.path.join(dataset_path, \"valid\")\n"
   ]
  },
  {
   "cell_type": "code",
   "execution_count": 5,
   "metadata": {
    "execution": {
     "iopub.execute_input": "2025-04-05T08:21:17.127717Z",
     "iopub.status.busy": "2025-04-05T08:21:17.127370Z",
     "iopub.status.idle": "2025-04-05T08:25:05.472038Z",
     "shell.execute_reply": "2025-04-05T08:25:05.471028Z",
     "shell.execute_reply.started": "2025-04-05T08:21:17.127660Z"
    },
    "trusted": true
   },
   "outputs": [
    {
     "name": "stdout",
     "output_type": "stream",
     "text": [
      "Sample file: B00LBFFSNM.json\n",
      "Data:\n",
      " {'website_summaries': [{'verdict': \"With its fun design and cheap price, the Lumia 635 is a decent option to consider if you're after 4G LTE on a budget. It's only marginally more expensive than its near-identical 3G-only Lumia 630 sibling, so you should certainly opt for the 635. If you want a better selection of apps however, the Motorola Moto G is still the 4G phone to go for.\", 'pros': ['The Nokia Lumia 635 has an affordable price, its interchangeable cases are colourful and attractive and it has 4G LTE'], 'cons': [\"Adding 4G LTE has meant the battery life has taken a hit, its screen resolution is unimpressive and its camera isn't really up to anything more than the odd Instagram snap\"], 'aspects': {'Design': 7.0, 'Features': 7.0, 'Performance': 5.0}, 'publication_date': 20140807, 'rating': 7.5, 'source': 'cnet'}], 'customer_reviews': [{'title': 'this is the absolute best phone for the money in my opinion', 'text': 'As long as this is still available, this is the absolute best phone for the money in my opinion. I researched seemingly forever for a low priced full-featured phone, and this fits the bill. The Windows O.S. is seamless and easy to customize and navigate. I just bought two more for my wife and daughter, who were always \"borrowing\" mine. I just have to chuckle when I see everyone swooning over the latest exhorbitantly priced Apple phones, and paying the equvalent of a car payment to do the same things this phone does. And my $30/ month plan is adequate for my business calling, email checking and file sending needs, which is all I need it for.', 'rating': 5.0, 'verified': True, 'author': 'Colonel Keds', 'helpful_votes': 0, 'publication_date': 20180127}, {'title': 'No Microsoft Support Buyer Beware', 'text': \"Effective July 31 2017 Microsoft no longer supports software on this phone. It took two hours at At&t to get contacts from old phone to this one. Only buy if you have a way to transfer your contacts and are a very knowledgeable Windows user. Design is poor as edges of screen are widest part of phone and not Gorilla glass, so any drops without a substantial case will result in cracked screen. I bought this for an older friend whose screen cracked and who had never used an Android phone and didn't want to learn a new operating system. Other reviewers have indicated that this phone can't be returned unless damaged in Shipping. Buyer beware!\", 'rating': 2.0, 'verified': True, 'author': 'sailormanTop Contributor: Watches', 'helpful_votes': 0, 'publication_date': 20170806}, {'title': 'is this a remanufactured phone ?  seems like it', 'text': 'This is the second of this model phone I have owned and the first one (had it for three years and ended up physically breaking) was so much better. I suspect that even though it is listed as new it is a remanufactured phone. this phone does not have the sms option to block calls or texts. also on this particular phone the screen locks and the only way to unlock it is to reboot the phone. I would return this but since I have put personal information on it I do not trust sending it back to the seller even after being reset.', 'rating': 1.0, 'verified': True, 'author': 'LOUIS LAWNICHAK', 'helpful_votes': 0, 'publication_date': 20180319}, {'title': 'Now just a kids phone', 'text': \"I bought these a couple times when I was on a budget and I think I'm allowed to say they were pretty decent even tho the OS didn't have much Apps to offer. Seemed like it was going well on their path... I was mistaken. Windows Phone OS died. Nevertheless they should be decent phones for kids who'd use them for calls and texts and YouTube mostly. They are quick enough to response and are made of tough materials.\", 'rating': 3.0, 'verified': True, 'author': 'Corrado', 'helpful_votes': 0, 'publication_date': 20200314}, {'title': 'Nokia 635', 'text': \"This is a really great phone for the price. It does much of what any smartphone can do without having to pay hundreds of dollars. One thing that I really like is you can use it to facebook, scroll, google, load and read articles and it does not close the app out on you, something that drove me crazy with my old iphone! If you don't mind not having as big a selection of apps as google or apple and if your fine with no selfie camera, this phone is a great choice. The camera quality is good, thread messaging and calling sounds crystal clear. volume is good as far as ringtone sound and call quality.\", 'rating': 5.0, 'verified': True, 'author': 'Amazon Customer', 'helpful_votes': 0, 'publication_date': 20160919}, {'title': \"Perfect phone if you're on a budget\", 'text': 'My wife and I have been using \"dumb\" phones until recently. I like purchasing the Go Phones for the simple reason that if you break one, all you have to do is throw your SIM card into a back up one and you\\'re up and running again. I keep extras on hand. I\\'ve found the basic features to be user friendly and useful. I accidentally dropped this phone approximately 30 feet onto concrete. The back flew off, but the screen remained intact and the phone was still on when I got down it. A+.', 'rating': 5.0, 'verified': True, 'author': 'JKrun', 'helpful_votes': 0, 'publication_date': 20160302}, {'title': 'FINALLY got my phone to fully function!', 'text': \"A year-and-a-half after purchasing, I FINALLY found the right settings so I can send and receive MMS messages! AT&T was NO help at all, even after more than two hours on the phone, but here are the CORRECT settings so you, too, can fully utilize your phone! [...] Very easy to use, would have received full marks if it hadn't taken so long, and tons of Internet trolling, to fix the stupid issue. Oh, and if you like selfies, this doesn't have a backward facing camera, but you can use the free Lumia Selfie app to take pics. WOO-HOO!!!!!!\", 'rating': 4.0, 'verified': True, 'author': 'Alicia S.', 'helpful_votes': 0, 'publication_date': 20161216}, {'title': 'you get what you pay for', 'text': \"This phone cost about $20 more than the avail 2, and some other phones. The quality of this is like going from a regular car to a Cadillac.It works so easy,and has far more features,than one would want,and more than you'd expect from a phone at this price.Try it, you might like it!\", 'rating': 4.0, 'verified': True, 'author': 'Anthony M.', 'helpful_votes': 6, 'publication_date': 20150114}, {'title': \"not my daughter's themselves) smart phones for college\", 'text': \"bougfht 2 for college age daughters who 'needed' (according to current trends, not my daughter's themselves) smart phones for college; SO MUCH cheaper than iPhones ( and we tend to be Mac people) and fewer glitches, according to my oldest girl who has an iPhone..... reasonable price, performs as needed.\", 'rating': 5.0, 'verified': True, 'author': 'momof4', 'helpful_votes': 5, 'publication_date': 20150121}, {'title': 'Great performance for such a low cost', 'text': \"Awesome phone, very fast performance for the price. Phone is notably more responsive and faster than the newer Lumia 640. Minimal menu has kept me from switching to convoluted and confusing Android simply because I don't want to bother getting used to their interface. Only downside is the lack of snapchat and other popular games and apps. If you want to play games with your friends then stick to Android. You can download maps to this phone using Wi-Fi and view them any time for when you don't have service, data, or GPS. You can also insert a micro SDXC card to expand the built in memory and just jam it full of music or take tons of video.\", 'rating': 5.0, 'verified': True, 'author': 'Aaron Nunez', 'helpful_votes': 0, 'publication_date': 20160110}, {'title': 'It was only $30.  Works great.', 'text': 'The basic features work great, including the GPS driving directions. The display is good but dim at medium brightest and has no auto-adjust. Turning up the brightness would make that better, but I did not test it. The is no front camera and the rear camera is mediocre. All the software works great. The OS is very fast and has lots of features. Battery life is great. The no-contract price was a completely unbelievable $30. The OS and all the basic software like MS Office and maps take up less that 4 Gigabytes. That leaves 4 Gigabytes for music making this the best value MP3 player ever. If you need more space, you can add any SD FLASH card made.', 'rating': 5.0, 'verified': True, 'author': 'Toms', 'helpful_votes': 0, 'publication_date': 20150522}, {'title': 'this phone is pretty darn awesome', 'text': \"For $50.00...this phone is pretty darn awesome...I don't care what anyone else writes about this phone. It's perfect for 90% of any one who purchased. Runs great, pretty fast, simple, inexpensive...it's a Nokia...and you can unlock before activation to use on T-Mobile, AT&T and Cricket without a hitch. Bought this phone for my mom and she loves it and she is horrible with technology. Get this phone! It's worth it for $50.00 even though it's been discontinued. Only bummer is no Front facing selfie camera. Plus...it's upgradeable to Windows Phone 10 when it comes out.\", 'rating': 5.0, 'verified': True, 'author': 'Dashriprocket', 'helpful_votes': 3, 'publication_date': 20150507}, {'title': '$35 1 1/2 year ago!!!', 'text': 'Bought one of these in Oct. 2015 and it finally gave up the ghost a couple days ago. Just ordered a new one because it appears to be the cheapest alternative to the rest of the ones I have researched except for the fact that a year and a half ago it was $35 compared to the $58 price now. that sucks!', 'rating': 3.0, 'verified': True, 'author': 'TennWalt', 'helpful_votes': 2, 'publication_date': 20170514}, {'title': 'Bluetooth woes', 'text': \"I bought this phone for the Bluetooth as that feature on my Lumia 1520 has stopped connecting with several of my devices. I thought I could use this phone to fill in for music, fitness band, etc. But this phone is having the same problem as my 1520 -- pairing, but not staying connected, so it's useless to me. It might be a recent software update because I've had my 1520 almost two years and just started having this particular problem. When searching the problem online, I see it's a pretty widespread problem. If Bluetooth is not important to you, aside from the phone getting hot quickly, it's a good deal.\", 'rating': 3.0, 'verified': True, 'author': 'JacqJacq', 'helpful_votes': 0, 'publication_date': 20151021}, {'title': 'Improved over 520', 'text': 'Better than the 520, but not without its issues. This review is in direct comparison to the ATT Nokia 520. Pros Longer battery life. Larger screen Volume levels better. Bluetooth devices (earpiece/portable speaker) noticeably louder. Direct connect earbuds/head phones (3.5 mm jack) noticeably louder. Camera noticeably better. Con, Still no flash. Faster boot up/processing speed Cons Still somewhat buggy. Can lag when opening apps. Takes somewhat longer to charge. Pretty much a tradeoff for longer battery life. Microsoft still lacking in apps compared to Android/Google.', 'rating': 4.0, 'verified': True, 'author': 'John H Mericle', 'helpful_votes': 0, 'publication_date': 20151119}, {'title': 'A nice cheap Windows smartphone', 'text': \"A nice cheap Windows smartphone. Better than the 520 because it came preloaded with Windows 8.1 (previous one was upgraded), and so I seem to have fewer issues with the battery running down, etc... Has been quite reliable so far. I also like the lit up search, back, and home buttons (again, unlike the 520). This does all make the phone slightly bigger than the 520 (although the same amount of information is shown on the screen) One thing missing is a shutter button (on the 520, this could bring up the camera application without having to type in your pin). Sadly, this feature isn't there on the 635. For the price paid, I can't really complain much at all!\", 'rating': 5.0, 'verified': True, 'author': 'ron_in_california', 'helpful_votes': 0, 'publication_date': 20151109}, {'title': '800+ hours of mp3 music, 42 movies and thousands of photos. Great stuff for peanuts....and a great phone too', 'text': \"It's a great product. I use this as a tablet, a media player and a personal navigation device. My 128 GB SD holds all the 800+ hours of mp3 music, 42 movies and thousands of photos. Great stuff for peanuts when compared to other phones. Awesome screen and very fast. It does take a long, long time to index the huge media library at first though. After that first time it works great.\", 'rating': 5.0, 'verified': True, 'author': 'Permanently Amazed', 'helpful_votes': 2, 'publication_date': 20150306}, {'title': 'Go through the next couple pages of reviews.', 'text': \"its getting me by ive had it for a few months definitely a huge downgrade, apps suck, web browser sucks(always crashing) idk i wouldn't recommend this to anyone, not even for a low budget find a better one. long live android! *Update: 6 months and its decided to take a dump. Never dropped it, kept it clean, kept it charged, stayed away from bad downloads, and never flooded the memory. Hopefully it's true that Windows won't make any more phone operating systems. Besides that companies never support Windows because they never listen to what the people want.\", 'rating': 2.0, 'verified': True, 'author': 'Blaine', 'helpful_votes': 0, 'publication_date': 20151203}, {'title': \"Replaced my 520 with one and keeping other as spare if my wife's 635 were to die (she must think phones love to swim)\", 'text': \"I bought two. Replaced my 520 with one and keeping other as spare if my wife's 635 were to die (she must think phones love to swim). Seems as fast as my older broken 920, but of course the photo's are not as great, but the SD card slot works wonders! Some apps in the new Win8.1 after the updates can install to the SD card, others refuse to...but overall that will save me a lot of space on the phone. Glass smudges, but doesn't feel like the cheaper glass on a 520, but not as nice as the 920 screen was before I shattered it.\", 'rating': 5.0, 'verified': True, 'author': 'J. Kingsbury', 'helpful_votes': 0, 'publication_date': 20150324}, {'title': 'Love this phone deal', 'text': \"Bought this for my son and it came with a free trial of phone time. The phone has great capability and he loves it. It does not have a forward facing camera and the picture quality is not that good but he barely ever has a desire to take pics so no big deal. He has all the games and apps he wants and we found a great case to protect it. Over all I would say this is a wonderful phone for the price and if he loses it or breaks it, we aren't out a buncha money and can replace it easily.\", 'rating': 5.0, 'verified': True, 'author': 'jason anderson', 'helpful_votes': 0, 'publication_date': 20160124}, {'title': 'Good cheap phone', 'text': \"This is a really great phone for the price. My flagship phablet broke so I picked one of these up until the Next Best Thing gets released. There are a few things that the 625 doesn't have that I am used to on other windows phones: front camera, LED flash, physical camera button. But for $50 it's hard to beat. The UI is still fluid, and the SD card slot resolves any storage issues. Maybe the 512mb RAM is a weak point, but I'm not a big phone gamer so that's not an issue for me.\", 'rating': 5.0, 'verified': True, 'author': 'The Internet', 'helpful_votes': 0, 'publication_date': 20150204}, {'title': 'Love it', 'text': \"I caught this phone on sale for $30! I snapped it up since my family needed a second phone. I was a little skeptical since it got some bad reviews, but for $30 I couldn't pass it up. It's sturdy, has great sound, takes really awesome action pictures (Almost like a gif) with the built in app and we've had absolutely none of the issues that I was worried about. It took a little bit to get used to a Windows phone since we previously had other brands of OS. We also love the way the gophone service is set up. It's affordable and we can pay right from the phone itself.\", 'rating': 5.0, 'verified': True, 'author': 'Alec', 'helpful_votes': 0, 'publication_date': 20150407}, {'title': 'Nokia, with windows, long battery life.', 'text': \"Bought a bunch of the 635 & 640's for people that work for me. Some adjustment to windows; about a day or two. Great screen, nice camera, FAST phone, good sound quality (IN & OUT). Long battery life. Seems to hold up a long time (I put simple cover on it, no screen guard). If you require certain games or apps, always check because some don't work on windows.\", 'rating': 5.0, 'verified': True, 'author': 'M1', 'helpful_votes': 0, 'publication_date': 20170521}, {'title': 'I have been very happy with this phone for the price', 'text': 'I have been very happy with this phone for the price. I was using an unlocked Tmobile phone on att and had spotty reception after purchasing this phone it has improved significantly. I just transferred my sim card and the phone worked right away. This is my first time using a windows phone and so far I am happy (used for about 1 month now). I am not very tech savy and use my phone mainly for basic tasks (call, text, email, some internet use) and this phone has worked very well so far.', 'rating': 5.0, 'verified': True, 'author': 'eyp', 'helpful_votes': 0, 'publication_date': 20150118}, {'title': 'No phone on the market can beat This One!!!', 'text': 'This is the most user friendly phone Ever!!! It actually does almost everything for you. You can even speak your text messages! It has a microphone almost every where and a very helpful sidekick \"Cortana\" that takes your voice commands And Talks to you, making sure that your commands are correct. This is an unbelievable handheld computer, not just a cell phone!!! Operated by Microsoft Windows.', 'rating': 5.0, 'verified': True, 'author': 'Bex', 'helpful_votes': 0, 'publication_date': 20150218}, {'title': \"Can't Beat the Price.\", 'text': 'Replacing a ZTE Maven - possibly the worst cell phone, ever -. There\\'s no instructions, however, I discovered instructions on line. I had it a week and lost it! So new, I don\\'t know the sound of the ring... AT&T subscriber for 20 years. It\\'s very light. Has CORTANA. I\\'d like to know what phones have \\'CORTANA\", I find the Google app not as user-friendly.', 'rating': 4.0, 'verified': True, 'author': 'Deary Lane', 'helpful_votes': 0, 'publication_date': 20170909}, {'title': 'Still not believe in what I was able to get for the price I paid!', 'text': \"I'm very pleased w/ this device, and still not believe in what I was able to get for the price I paid ($57.09 on 01/05/2015). For me the only drawback w/ this device is not have a front face camera (I love make selfies!). The Nokia Lumia 635 is my first Windows Smart Phone, and I'm kind of disappointed w/ the lack of apps available, however I'm really happy to be able to use some other features that windows operational system has to offer. I totally recommend the Nokia Lumia 635 Windows Smart Phone!\", 'rating': 4.0, 'verified': True, 'author': 'HelenRCO', 'helpful_votes': 2, 'publication_date': 20150108}, {'title': 'This phone is fine for what you pay', 'text': \"I still miss my aged-out iPhone, but it had stopped syncing with my Windows desktop PC. This phone is fine. Still learning how to use its capabilities -- love the One-Note app -- and looking for more apps to cover the missing touchpoints. My only quibble: the camera. I don't care about selfies, but I do care about megapixels, and this camera's pretty weak-kneed compared to what I was used to. That being said, the price is right, and it functions well in all other ways.\", 'rating': 4.0, 'verified': True, 'author': 'Upstate NY', 'helpful_votes': 0, 'publication_date': 20160625}, {'title': 'Not a heavy smart phone user--it fact I hardly ever use it as ...', 'text': \"Not a heavy smart phone user--it fact I hardly ever use it as a phone, though it worked great the couple times I did. The screen is bright and clear, the sound is surprisingly loud and clear. The touch screen is very easy to use. Windows 8.1 is very well designed, intuitive and easy to use. The battery lasts all day easily. I downloaded a couple of e-reader apps from the Windows store, and now using it as a reader is the main thing I do with it. It's more than satisfactory for me, and a bargain at the price.\", 'rating': 5.0, 'verified': True, 'author': 'Taranome', 'helpful_votes': 0, 'publication_date': 20150409}, {'title': 'not for the faint of heart.', 'text': \"this is the first smart phone I've owned and I have to say it's been a real struggle. it's been so hard to find anything-the little icons at the very bottom do not tell you which one you might want to get you to the right place. I do not enjoy searching and searching. I'm sure the actual phone works fine it's just the mechanics of how to work it. I'm just about to chuck it and go back to my simple but easy to use phone-and the screen isn't all gross with one touch. So, unless you've already experienced att smart phones, there might be a more user friendly one out there.\", 'rating': 3.0, 'verified': True, 'author': 'northcoast reader', 'helpful_votes': 0, 'publication_date': 20150326}, {'title': 'Going through chargers like crazy...', 'text': \"I love windows phones and I had no issues with the Lumia 520; I just bought this one in December because I wanted a bigger phone. My mom had the typical restart issues with her 635 but I didn't however, in May my phone started sapping chargers left and right. I have been buying replacement chargers every two weeks. I'm feeling a little irate because I haven't even had this phone for a year. I don't know if anyone else is having the same issue?\", 'rating': 3.0, 'verified': True, 'author': 'Jessie', 'helpful_votes': 0, 'publication_date': 20150711}, {'title': 'You can watch tons of videos to feel more comfortable with whatever phone you buy and how to use ...', 'text': 'Don\\'t forget to check out youtube videos for this one or any other phone. You can watch tons of videos to feel more comfortable with whatever phone you buy and how to use it. For this phone i entered in the search box, \"nokia lumia 635 how to\" .. and you\\'ll get tons of choices to view. I think watching these helps me feel more comfortable with a new product I\\'m buying or viewing how-to for dummies. Also use  .', 'rating': 5.0, 'verified': True, 'author': 'CherryM', 'helpful_votes': 0, 'publication_date': 20150506}, {'title': 'Nice phone for its price', 'text': 'A simple phone for simple needs. This phone has what my sister needs...a way to make phone calls, read emails and texts, and the basic needs of a product like this. It is cute and handy, although it is not up to date with the \"selfie world\". Lacking the front camera makes it less attractive for younger people, but luckily...my sister is not that young anymore, so no problem.', 'rating': 4.0, 'verified': True, 'author': 'Olga Ante', 'helpful_votes': 0, 'publication_date': 20141227}, {'title': 'Nice phone with a nice price', 'text': \"I have had this phone for nearly a year now and really like it. I was able to upgrade from Windows 8.0 to 8.1 earlier this year, with no problems. The tiles are easy to customize and use. The camera works really well, though doesn't have a flash. Occasionally emails take a while to be delivered, though that hasn't been a problem. I use the radio a lot and appreciate the sound quality from this device. Overall, this phone is a good bargain for the price, and is easy to use. I recommend it.\", 'rating': 4.0, 'verified': True, 'author': 'DeeD', 'helpful_votes': 0, 'publication_date': 20150821}, {'title': 'Cheap 4g LTE, Durable, sd card, serviceable battery, upgrade able to windows x.', 'text': 'This phone is GREAT. Let us get the cons out the way. No front facing camera, and no flash. Also the rear camera is so-so. Now for the Goods. Removable battery and SD storage! Made by Nokia, so it is virtually indestructible. 4glte!! IT IS A 4G PHONE!! FOR 50$!!! No contract. I use it with h20 / cricket prepaid and it works GREAT. Great low price pre-paid phone.', 'rating': 5.0, 'verified': True, 'author': 'Jeremy', 'helpful_votes': 2, 'publication_date': 20150617}, {'title': 'Bought it to install Windows 10 preview.', 'text': 'Slick little phone. Bought it to install Windows 10 preview. Camera not bad for 5M. Faster than my Nokia 1020. Will take an SD card, think I put a 16Gig in it. Have not installed a sim, just using as a mini-tablet and GPS. Too bad Windows Phones do not make the headlines. But, hey I was using cassettes while my schoolmates had 8 tracks.', 'rating': 4.0, 'verified': True, 'author': 'Rupert', 'helpful_votes': 2, 'publication_date': 20150430}, {'title': 'solid windows phone', 'text': \"Cracked my iPhone 4s and had to find a replacement. I bought this phone and got it hooked up to straight talk. I believe this to be on par with the 4s- as long as app selection and selfies aren't topping your list of must-have phone elements. Got it for $55 unlocked, and I pay $46 a month for unlimited everything. I'm not sure you're going to find a better deal.\", 'rating': 5.0, 'verified': True, 'author': 'Kindle Customer', 'helpful_votes': 0, 'publication_date': 20150129}, {'title': 'Nokia 635 quick review', 'text': \"This is a GREAT phone for the money, it does everything. I don't know how they can sell it soooo cheap, it's a pc in your pocket. The only bad thing is no front camera or flash and and doesn't blink as the Z998 does when you have any activity on the phone. I had a Nokia 520 and that was a great phone too, I still use it once in a while. I miss the tap screen the 520 had and the 635 doesn't. I guess for the money they can't give you everything on the 635. If you want a great buy for the money try the Nokia 635, you won't be sorry.\", 'rating': 5.0, 'verified': True, 'author': 'Leon r', 'helpful_votes': 0, 'publication_date': 20150216}, {'title': 'A great phone for very little money', 'text': 'A great phone for very little money. This, and a few other devices that have hit the market recently (like the Moto E 2nd Gen), have the power of \"Good Enough\". This phone can do everything you need, plus keep a few hundred dollars in your pocket (approximately $600 for a new iPhone). You are also not beholden to a wireless carrier for a contract or set number of payments (probably the best feature). The only drawback to this phone (and the Moto E) is the camera - both are just OK/average (and have no flash).', 'rating': 4.0, 'verified': True, 'author': 'Greg', 'helpful_votes': 0, 'publication_date': 20150323}, {'title': 'Great phone, fewer apps', 'text': \"Surprised how much I like this phone. Longtime blackberry (including Torch) and iPhone (4S, 5S) user, and I think I actually like the Windows operating system better. Really the only downside to this phone is that there are far fewer apps available; the biggies are here, but suggest you check the windows store if there's an app you must have (Uber has Windows app, Lyft doesn't, for example). Long battery life. Does take quite a while to fully charge if you're getting low (hint: put in airplane mode to have it charge at least twice as fast).\", 'rating': 4.0, 'verified': True, 'author': 'Kipper Snak', 'helpful_votes': 0, 'publication_date': 20150206}, {'title': 'MS Sux', 'text': \"crap! no support, app store is a joke, bing crashes constantly in mid search and resumes to original search results. Blocked numbers still get through, email is sometimes missing. If you don't care about that, phone quality is good, battery life long.\", 'rating': 2.0, 'verified': True, 'author': 'bob mcbober', 'helpful_votes': 0, 'publication_date': 20171112}, {'title': 'The auto volume to 13/30 was annoying. I used it as an iPod and at ...', 'text': \"Overall functions are adequate. There are just enough little things that I would not recomend it. No flash? I know it's a known fact so why hold it against them....who doesn't use their phone as a flash light from time to time anymore. I can't imagine that adding an led to the back would cost that much. The auto volume to 13/30 was annoying. I used it as an iPod and at random intervals it would drop the volume, and always when I was driving. I wish I could turn that off.\", 'rating': 3.0, 'verified': True, 'author': 'Stickx911', 'helpful_votes': 0, 'publication_date': 20150319}, {'title': 'Must buy data plan if replacing phone on your wireless plan.', 'text': \"Phone seems nice but watch out if you don't want to use it as a Smart Phone. I tried to just transfer my SIM card to a new phone but ATT requires a data plan if the phone is capable of one (even if you don't use it). I wanted this to replace a basic phone for our son that he uses for emergencies only. Not happy with forced data plan. Asked them to take it off or block it, but they won't.\", 'rating': 4.0, 'verified': True, 'author': 'Stork', 'helpful_votes': 0, 'publication_date': 20151021}, {'title': 'I would not buy this phone again or recommend to anyone', 'text': \"The phone works. It doesn't have a lot of apps you can install for an Iphone or Android since it's on the Windows platform. Surprisingly, there is no front facing camera so you can't take selfies, which is something my daughters pointed out to me. I would not buy this phone again or recommend to anyone.\", 'rating': 2.0, 'verified': True, 'author': 'Matt', 'helpful_votes': 0, 'publication_date': 20150917}, {'title': 'good phone for 60 bucks', 'text': \"It's simple, light, and despite a newish case it still holds up to Nokia toughness, kinda...I've dropped it plenty of times and it keeps going. Problems thought...most of the time watching youtube videos don't work out too well. When listening to visual voice mail you can't stop it or delete it til it's done playing all the way through unless you lock your phone and open it back up and delete it that way. Other than that...good phone for 60 bucks.\", 'rating': 4.0, 'verified': True, 'author': 'Dan', 'helpful_votes': 0, 'publication_date': 20150506}, {'title': 'Excellent product', 'text': 'Windows 8.1 is a delight to use. Cortana also provides lots of local news. Getting a choice of which news to review is also a nice touch. The phone works well as a phone. There are tons of apps (more than I will ever need). The camera does a good job and the pics that you take are presented as a slide show in one of the windows on the screen. Keyboard is a bit tight for big fingers, but the erase key is handy for the goofs.', 'rating': 5.0, 'verified': True, 'author': 'william mueller', 'helpful_votes': 0, 'publication_date': 20150425}, {'title': 'Perfect for the $$$', 'text': \"Couldn't resist the price. Switched the whole family to these phones and we absolutely love them. There is not a better smartphone for the price anywhere in the Northern Hemisphere! Easy to set up and transfer from our old iPhones and a million times the battery life! Wow, what a phone. Simple to use and it does everything we need a smartphone to do. It was a good phone at $119.00 when they first brought them out, but now? Boy what 40 bucks will get you these days. Great phone; could not be happier!\", 'rating': 5.0, 'verified': True, 'author': 'D Malsbury', 'helpful_votes': 0, 'publication_date': 20150909}, {'title': 'Great phone!', 'text': 'This is a great phone if you have network access at home with a decent security company that cleans the system for you. There are some cookies that can hurt the phone but if you have a respectable internet security company and clear the cookies out on a regular basis. You can get away with going with out a network for at least 3 months without worrying about malware, spyware, and all the bad things the internet has to offer. Stay away from windows 10 build 10536!!!', 'rating': 5.0, 'verified': True, 'author': 'Greeneyedbat', 'helpful_votes': 0, 'publication_date': 20150914}, {'title': 'Decent quality inexpensive phone', 'text': \"Very nice for a cheap phone. I think it's a cheap phone because the Windows store isn't that great, but if you primarily use your phone for a phone or a GPS or something-- don't have your face in an app constantly--this is really a decent phone. It doesn't have a data feature, so if you care and need it occasionally, you can get a little Straight Talk unit from Wmt with a data plan cost of about $15/mo.and up.\", 'rating': 5.0, 'verified': True, 'author': 'Kathy S', 'helpful_votes': 0, 'publication_date': 20160404}, {'title': 'The most important things to know are: You wont find a cheaper price. Windows 8.1 is identical to the PC version. **************', 'text': \"It's great except I was under the impression that it was capable of upgrading this version of windows to Win 10 immediately. 8.1 is not owned by google so we are good. No contract att phones work anywhere with wi fi all the time. You don't even have to activate it. Open package, insert sim card, and log on to internet at your fav wifi hotspot for free using an interface that you're already used to. Nothing beats Windows.\", 'rating': 5.0, 'verified': True, 'author': 'JAY', 'helpful_votes': 0, 'publication_date': 20150916}, {'title': 'Great phone!', 'text': 'This is my first 4G smart phone. I purchased this on Amazon Warehouse deals as used like new . When I opened the Amazon box, the phone was packaged as though it was brand new. I have activated it, and love, love, love it. Great product and awesome price point.', 'rating': 5.0, 'verified': True, 'author': 'n', 'helpful_votes': 0, 'publication_date': 20161013}, {'title': 'A Excellent Choice !', 'text': \"I can hardly believe how much quality I am getting for my money! Windows 8.1 works beautifully! I have always used a contract Android cell phone, tired of the contracts, tired of the supposedly great deals on the contract phones, do the math and your paying dearly for those phones, ( last contract phone I had was a Galaxy S3 ) this phone works great and I'm so glad I bought it! Not hard to switch from Android to 8.1 windows, same OS as your home PC. Try one you will be happy you did..\", 'rating': 5.0, 'verified': True, 'author': 'JG', 'helpful_votes': 0, 'publication_date': 20150320}, {'title': 'but for the price this phone is fantastic. It does what I need', 'text': \"I am not big into phones, but for the price this phone is fantastic. It does what I need, email, web browsing, and calling folks. The camera is better than I expected. Just don't expect Iphone quality pics. The battery is the longest lasting I have ever used. While I like android OS, Windows 8.1 is very easy to use. Their app store is limited, but I really don't care. I have my Google tablets for that stuff. Overall, it does what I need and would buy again.\", 'rating': 5.0, 'verified': True, 'author': 'JTaylor', 'helpful_votes': 0, 'publication_date': 20150420}, {'title': 'Great phone!', 'text': \"This is a great phone, I use it while travelling. Nokia offline maps are amazing when you dont want to use data in another country. It's got points of interests, walking and driving directions, estimated time and everything else you could ask for. Works great as a backup phone too!\", 'rating': 5.0, 'verified': True, 'author': 'Gary', 'helpful_votes': 0, 'publication_date': 20160316}, {'title': 'A deal at first but not worth it!', 'text': 'At first this phone worked okay, but it then got where I could not hear people when they called me, if I put it on speaker phone I could barely hear them. To me this phone is a paperweight now. I will be purchasing an android phone to replace it. I did a little research online to try to fix the problem, but found a lot of folks having the same problem with this phone.', 'rating': 1.0, 'verified': True, 'author': 'Joe & Laura', 'helpful_votes': 0, 'publication_date': 20160124}, {'title': 'This is one of the worst phones I ever owned', 'text': 'This is one of the worst phones I ever owned. The charger died less than 24 hrs after I set up the phone, Battery life is horrible drains rapidly even in airplane mode, phone charges very slowly when hooked up to Windows 10 PC via usb 2.0 and 3.0 ports. AT&T service is good and reasonably priced but I am going back to android. Microsoft needs to get there act together or this phone will fade from existence.', 'rating': 1.0, 'verified': True, 'author': 'James D.', 'helpful_votes': 0, 'publication_date': 20151213}, {'title': 'Great phone', 'text': \"Bought this phone for overseas visitors. Works great, took 10 minutes to set up phone with included mini SIMs card. Fast, responsive. Never had a windows 8 phone. Easy. The windows OS has similar issues to iOs. GPS doesn't require data service availability. Very nice phone ... and for <$50 ... insane! The reasonable service costs for this phone costs $45 per month (unlimited calls, texts and 1.5 GB data service bandwidth @ 4G LTE\", 'rating': 5.0, 'verified': True, 'author': 'TG', 'helpful_votes': 0, 'publication_date': 20150706}, {'title': 'Wow!! Awesome phone for a great price!!', 'text': \"I have only had this phone about 5 hours and it's already so much better than the Motorola atrix 2 I have been dealing with for almost a year. Some glitches with my windows login info but after that got straightened out(forgot my password lol) just downloading apps I use is so much faster!!! I look forward to further customizing it!! If you have a net10 bring your own number sum card(dual is best with this phone since it takes the mini SIM card) the att go phones work best with it! I am SO happy with this phone!!\", 'rating': 5.0, 'verified': True, 'author': 'Kstill', 'helpful_votes': 0, 'publication_date': 20140919}, {'title': 'Phone was Great', 'text': \"haha ok Microsoft. so i got this phone on its arrival date connected it to wifi and made simple updates....... so i thought.!! I updated the lumia 635 to windows 10 and it was slow and laggy and got a crazy error and then phone wouldn't work at all. I downloaded a recovery tool from via Microsoft and ran the downgrade program and nothing lumia 635 is now back to windows 8 but cant boot up its damaged.\", 'rating': 1.0, 'verified': True, 'author': 'kyle', 'helpful_votes': 0, 'publication_date': 20150925}, {'title': 'A Very Nice Phone, At a Great Price', 'text': \"This is a fantastic phone for such a low, entry-level price point. I have enjoyed using this phone so far. It runs very smoothly, and both images and text look sharp on it. I would have preferred a flash for the camera -- even a basic flash -- but I don't take photos nearly enough to dock a point for it. At $79.98 shipped to your door, this is an easy buy.\", 'rating': 5.0, 'verified': True, 'author': 'JD Penn', 'helpful_votes': 2, 'publication_date': 20141112}, {'title': 'We wi stick to the windows phones for her because they are very easy to navigate', 'text': \"I bought this phone for my mother after having the old Nokia lumina and she loves it.She's 58 and this phone is very simple for her to use.Big buttons and large screen.We wi stick to the windows phones for her because they are very easy to navigate.No crazy apps or settings.I would reccomend this for a reliable, durable simple phone.The screen is also very crisp and large\", 'rating': 4.0, 'verified': True, 'author': 'Amazon Customer', 'helpful_votes': 0, 'publication_date': 20160209}, {'title': 'Phone not unlocked', 'text': 'This phone is not unlocked... only works with ATT with their plans....After much calling of sales people... Do not expect to insert sim card and start calling.. This deceptive advertising...', 'rating': 1.0, 'verified': True, 'author': 'babs650', 'helpful_votes': 0, 'publication_date': 20190410}, {'title': 'Better than expected', 'text': \"I bought this to use as a Bluetooth MP3 player and it turned out to be so much more. I did not activate it. It comes with a sim card but I didn't want a cell phone. It also works great as a stand alone GPS navigation system once you have the maps downloaded. It was very easy to access the memory card I added to it too. (unlike my Dell tablet)\", 'rating': 5.0, 'verified': True, 'author': 'Kydex', 'helpful_votes': 2, 'publication_date': 20150310}, {'title': 'Bang for the Buck!!', 'text': \"It is a great phone to talk on. you can install and change out the battery. Very durable. Get phone if you don't care for a contract. You can go to a go phone or conventinal billing if let be. The phone takes descent pictures and videos, especially outside. You can put a giant mini SD card in this phone and store memorys for years. It is great if you are a bang for your buck kinda person. Go for it.\", 'rating': 4.0, 'verified': True, 'author': 'Randoman', 'helpful_votes': 2, 'publication_date': 20141111}, {'title': 'The camera takes amazing photos; the color is outstanding with amazing clarity', 'text': 'I bought this phone for my son and he loves it. It has Windows so he can sync things with our laptops. The camera takes amazing photos; the color is outstanding with amazing clarity. The only negative is no front facing camera but you can download an app that works very well.', 'rating': 5.0, 'verified': True, 'author': 'Donna E. Shubert', 'helpful_votes': 2, 'publication_date': 20141210}, {'title': 'best phone you can buy, for not to much money', 'text': \"this is the end all be all of affordable phones! It does everything you need it to do and does it well. the only thing it lacks is a front facing camera, to me that's no big deal. with the gophone no contract deal it's a no brainer, no contract, att fast speeds. Dont hesitate get one.\", 'rating': 5.0, 'verified': True, 'author': 'Jeff D Bean', 'helpful_votes': 0, 'publication_date': 20150505}, {'title': 'life saver', 'text': \"works great, my 1020 got bricked by win10 and I got this until the 940xl comes out... just put my standard sim in it and it worked no problem, you don't have to activate the prepaid sim and pay all that extra money, just put you standard sim in it and it works fine it's got a different build of 8.1 than the 102 and works great, ultra cheap at $40 for a 4.5 inch screen and decent camera.... great deal\", 'rating': 5.0, 'verified': True, 'author': 'primeguy', 'helpful_votes': 0, 'publication_date': 20150823}, {'title': 'Amazing phone for this amount of money', 'text': 'Amazing phone for this amount of money. Device is working fast, so far with no lagging. Phone ringer is loud as soon as you will peel off protective film from the back cover. Screen resolution is not bad. On negative side, there is no front (self) camera and the rear one is pretty bad especially in the low light condition. Windows store lucks even basic applications paid or free ones that available for Android and Apple phones. No app for chromecast stick. Yet for this amount of money is Okay, except luck of front camera. Would buy it again and would recommend to a friend.', 'rating': 4.0, 'verified': True, 'author': 'Uncle Ed', 'helpful_votes': 0, 'publication_date': 20150103}, {'title': 'It takes great pictures and great videos as well', 'text': 'Works perfectly with Consumer Cellular. All I had to do was to insert the SIM card from my old phone and added the \"Consumer Cell\" to the \"Cellular+SIM\" settings. My Windows \"NEST\" thermostat app doesn\\'t work as well as it did on the Android phone but I can manage it well enough. It takes great pictures and great videos as well. Battery lasts for two full days (unlike any Android phone I ever had).', 'rating': 5.0, 'verified': True, 'author': 'George Lollar', 'helpful_votes': 0, 'publication_date': 20150904}, {'title': 'jewel of a phone and only $49. 99. ...', 'text': \"jewel of a phone and only $49.99. why would anyone pay $600 or $700 for anything else. I've got a video/photo camera, unlimited talk/ text and internet with oodles of apps, games and cloud storage. only $35 monthly auto pay for all this .YES, I'M AS ECSTATIC AS I SOUND.\", 'rating': 5.0, 'verified': True, 'author': 'dolly pardons', 'helpful_votes': 3, 'publication_date': 20150604}, {'title': \"I'm totally surprised\", 'text': \"I must admit I was somewhat skeptical at first but now I love this phone. It's extremely fast and loud just the way I like it. Call quality is excellent and the speaker phone feature works exceptional. I'm use this phone daily and not my Samsung galaxy note 2. The phone size is just larger than the IPhone 5s. The battery is good all day even with heavy usage. It's the best cheap phone I've ever purchased!!!!\", 'rating': 5.0, 'verified': True, 'author': 'Curtis Moore', 'helpful_votes': 0, 'publication_date': 20150407}, {'title': 'Best phone for $40 or even anything under $100', 'text': \"Awesome phone have it synced with my windows 10 computer with one drive easy to share photos videos ect. It's pretty fast the video quality is great. Windows doesn't have as many apps as android but has enough for me. The battery life is good, Camera works great. Over all best phone under $100. Has a quadcore processor. I can read books watch movies/shows surf the web play games all fine. Call quality is fine same with texts. I recommend it.\", 'rating': 5.0, 'verified': True, 'author': 'J. Owenby', 'helpful_votes': 0, 'publication_date': 20151002}, {'title': 'quality is excellent. My first smart phone', 'text': \"For the price, quality is excellent. My first smart phone, so I'm still figuring things out. So far I'm happy with my purchase, especially love the camera. Haven't had any issues with the lack of flash. Biggest issue is AT&T's customer service to help switch from a basic messenger phone to the smartphone sim card, but that is no fault of Amazon's. Would buy this phone again and I do recommend it.\", 'rating': 5.0, 'verified': True, 'author': 'SusieM', 'helpful_votes': 0, 'publication_date': 20141129}, {'title': 'A step up.', 'text': \"This is a step up from my 520. I bought two and my dad bought two. We are all having great luck with them. The screen is really clear and easy to see. There is more apps available than ever but once in a while I still find something where one is not available. The windows program is very easy to use and my elderly parents are running them easy as a first smart phone. It works great with my computer and hot mail. The only issue we have is the SD card slot in my wife's phone is not working. It was well worth the money and we all keep finding new things on them.\", 'rating': 5.0, 'verified': True, 'author': 'JDH', 'helpful_votes': 0, 'publication_date': 20150326}, {'title': 'Great MP3 player!', 'text': 'my ipod touch bit the dust and i didnt want to spend $400 on new one. This one syncs with itunes, plays music as well as an ipod (I actually like the music app better) and costs only $40. Another $50 for a 128 gig microsd card and i saved $300. dont need to activate, other than message abut a missing sim when it boots up it doesnt need to be connected to a phone network.', 'rating': 5.0, 'verified': True, 'author': 'John Borges', 'helpful_votes': 0, 'publication_date': 20151010}, {'title': 'Loving my AT&T Nokia Lumia 635 phone', 'text': 'I really love my phone. When I ordered mine at such a great price, my husband wanted me to order him one also. We needed to replace our other phones and found this one to be just what we needed. Facebook and email or easy and quick to get to as well as other apps. The reviews I read before making the purchases were very helpful in making my decision to purchase the phone.', 'rating': 5.0, 'verified': True, 'author': 'Cheryl', 'helpful_votes': 0, 'publication_date': 20141220}, {'title': 'Great phone, even better price', 'text': 'First Windows phone, bought as an mp3 player, but after how well the phone works, and how good of a price it was, I have been convincing people to give it a go too. The phone itself is smooth, and comes with great software to really make it user friendly. WP may be replacing my android as a next main phone.', 'rating': 5.0, 'verified': True, 'author': 'Kamil', 'helpful_votes': 2, 'publication_date': 20150301}, {'title': 'Windows Guy', 'text': 'I am a Windows guy, I love the syncing with my computers and all the common apps that cross platforms (PC - Phone). This is why I went to a smartphone cause the ease of using and getting to know it fast. WILL NEVER BE a i phone or android guy, YES! ... Update 2016... I am now an android guy... Winphones not supported by my hobby stuff, so... bye bye win phone hello LG G Flex 2!', 'rating': 5.0, 'verified': True, 'author': 'Tim Van Deventer', 'helpful_votes': 0, 'publication_date': 20150209}, {'title': \"Great entry level phone. Clear screen, crisp loud sound, durable and solid feel. Camera not so great but get's the job done.\", 'text': \"I bought this phone for $40 no-contract during the time up to Xmas and it's been great. The performance is snappy, the screen clear, the sound crisp and loud and feels durable and solid. I like it better than my Nokia 920. The camera is of lower quality as you would expect for an entry level phone but get's the job done.\", 'rating': 5.0, 'verified': True, 'author': 'Amazon Customer', 'helpful_votes': 2, 'publication_date': 20150116}, {'title': 'Best Smart Phone for the Clumsy', 'text': \"This is the cheapest smart phone available. I switch to this after breaking a blackberry, loosing an iPhone and frustrated by the high prices of Google phones. There are few apps missing but there are substitutes. The ability to insert an SD card is hue, you instantly get 32GB. The browser is a bit strange, you can always go back but it doesn't give you the ability to go forward easily. Nevertheless great smart phone for $40. I am using it with ATT. THIS IS NOT A GO-PHONE ONLY YOU CAN USE IT WITH YOUR FAMILY PLAN.\", 'rating': 5.0, 'verified': True, 'author': 'Mus Tab', 'helpful_votes': 0, 'publication_date': 20150914}, {'title': 'I love this phone', 'text': \"I love this phone. It does everything I want it to do. Surf the web, take pictures, play music, and waste time on Facebook. Recommend this phone to anyone who isn't silly enough to pay $$$ for an expensive phone and the GoPhone rates are great and super cheap! No contracts!\", 'rating': 5.0, 'verified': True, 'author': 'Banalan', 'helpful_votes': 0, 'publication_date': 20151027}, {'title': 'Nokia phones', 'text': \"Wow I really love this phone! I'm new to smart phones but this seems easy to use because I'm used to computers. I'm 58 and don't like messing with phones, but I must say this was much easier than I ever thought. It seems to be a very good phone, hope this helps.\", 'rating': 5.0, 'verified': True, 'author': 'SherrieJTop Contributor: Fountain Pens', 'helpful_votes': 2, 'publication_date': 20150808}, {'title': 'LOVE, LOVE, LOVE the new Nokia 635!!', 'text': 'I love everything about this phone! Its FAST, it has so much memory with room for more. It sports a nice big screen with slim design. Its easy to use, easy to update and fit with hundreds of apps. This phone is replacing a google phone which I cant wait to smash into a million pieces when I finally get my service transferred over!', 'rating': 5.0, 'verified': True, 'author': 'Angie', 'helpful_votes': 0, 'publication_date': 20150301}, {'title': 'INFORMED DECISION', 'text': 'There needs to be more transparency with the items - the back falls off...I would be able to make a better-informed decision when purchasing the item.', 'rating': 3.0, 'verified': True, 'author': 'JEANETTE K.', 'helpful_votes': 0, 'publication_date': 20190714}, {'title': 'I actually like it. As a phone', 'text': 'This is used as a replacement phone for the landline with H2O pay as you go $10 plan. To my surprise, I actually like it. As a phone, it gets better sound quality than my HTC M8 and verizon fios landline. The UI is really nice and intuitive. I will seriously consider a WP when the current contract is over.', 'rating': 5.0, 'verified': True, 'author': 'honestly disagree', 'helpful_votes': 0, 'publication_date': 20150729}, {'title': 'Perfect phone', 'text': 'Great phone, does everything I can think of. It has gps for road travel without using data, fantastic apps, sound quality is great. I have owned this phone about a year with no problems', 'rating': 5.0, 'verified': True, 'author': 'Gary Carson', 'helpful_votes': 0, 'publication_date': 20151209}, {'title': 'Like it for the most part', 'text': \"Like it for the most part, my first smartphone, but has its faults: screen rotation very schizy; best not to count on it at all. Speakerphone doesn't have enough volume headroom. Fragile; it can shatter if dropped on a hard surface- my first one did. Order a flip cover with it. Decent for the price.\", 'rating': 3.0, 'verified': True, 'author': 'WW', 'helpful_votes': 0, 'publication_date': 20150803}, {'title': 'Great for Straight Talk', 'text': \"So far so GOOD! I have had trouble with cellphones in the past so I don't want to get too happy. This is the best Windows phone I have ever owned, I had other brands of Windows phones but I guess there is no substitute for the real thing and Nokia is the REAL DEAL. If you are looking for a phone that is compatible with Straight Talk then this one is for you.\", 'rating': 5.0, 'verified': True, 'author': 'Sierra13', 'helpful_votes': 0, 'publication_date': 20141213}, {'title': 'Excellent Basic Phone if you know how to use it', 'text': \"I purchased in 2014, but abandoned in 2018 for lack of support of apps and Microsoft stopped updates. Otherwise, it was an excellent phone with basic support and still I'm using this for browsing at home and can give it to kids when we go outside with Mobile Hotspot connection for browsing while in shopping at stores.\", 'rating': 4.0, 'verified': True, 'author': 'Manoj K.', 'helpful_votes': 0, 'publication_date': 20181231}, {'title': 'Disappointing - problems with texting and no support.', 'text': 'Its ok but having problem with texting / messaging. No user manual was included. Going on-line you were directed to AT&T\\'s page which had nothing. The seller / manufacturer merely quipped to \"read the manual\". Going to try to see if people in the AT&T store can help but so far disappointed. I know cheaper phones will have less bells and whistles, but simple texting between 2 people should not be so difficult.', 'rating': 2.0, 'verified': True, 'author': 'P Stats', 'helpful_votes': 0, 'publication_date': 20160111}, {'title': 'simple, easy, hard to kill', 'text': 'I am very happy with this phone. I like it simple, and this one has a simple layout and is very easy to use, compared to the other phones in my family. I had it for about a year and no problems with it, despite one accident which destroyed the screen protector but not the phone.', 'rating': 5.0, 'verified': True, 'author': 'YvMaNe', 'helpful_votes': 0, 'publication_date': 20160304}, {'title': 'love my windows phone', 'text': 'This is my second Lumia phone. I am personally a whole hearted windows lover and this phone is everything I could ever want. I love dropping it around my friends with android and iPhones and then indicating to everyone \"oh look. The screen didn\\'t crack. Oops. Did it again. Hmm...still works.\" They clutch their glass screened phones in their protective cases with discontent. It\\'s fun. Actually, my last windows phone survived a dog chewing on it, multiple drops on concrete and tile, and a plunge in the toilet. Good luck iPhones! I look forward to seeing what my new windows phone survives.', 'rating': 5.0, 'verified': True, 'author': 'Carly', 'helpful_votes': 0, 'publication_date': 20150412}, {'title': 'It’s a Windows phone', 'text': 'It’s a Windows phone. You either love it or hate it. Build quality is ok, but a little thick. The sound and picture sucks, so don’t expect much.', 'rating': 3.0, 'verified': True, 'author': 'Brian Oswald', 'helpful_votes': 0, 'publication_date': 20181104}, {'title': 'shipped fast in excellent condition when it arrived', 'text': \"The phone is just as described, shipped fast in excellent condition when it arrived. Took me a little time to get used to the phone but that is just a user problem nothing to do with the phone! I still haven't got used to all the features yet but my teenaged kids love it and would like to have one just like it.\", 'rating': 5.0, 'verified': True, 'author': 'donna d', 'helpful_votes': 0, 'publication_date': 20150424}, {'title': \"It's a good phone\", 'text': 'I use my Go Phone mostly only as a phone. It should do everything I need for quite some time.', 'rating': 4.0, 'verified': True, 'author': 'Joe', 'helpful_votes': 0, 'publication_date': 20160907}, {'title': 'Low cost, good touchscreen', 'text': \"Beautiful low cost phone. Bought this for my husband as his first touchscreen smartphone. It was a bit of a learning curve for him, but he's picked it up quickly and has begun adding his favorite apps easily. You don't have to have a phone plan for it at all, just use it on wifi for the apps/ease of access/mobility features.\", 'rating': 5.0, 'verified': True, 'author': 'HJK', 'helpful_votes': 0, 'publication_date': 20150111}, {'title': 'Hello I bought Nokia and I was pleased with it the shipping was fast and the phone ...', 'text': \"Hello I bought Nokia and I was pleased with it the shipping was fast and the phone was very worth the money. If your trying to spent less on a phone the gophone is right for you. I have 250 minutes and unlimited text for 25 a month. I gave it a four star because it doesn't have a front camera.\", 'rating': 4.0, 'verified': True, 'author': 'alberto', 'helpful_votes': 0, 'publication_date': 20150923}, {'title': 'Great phone, incredible price.', 'text': \"Great phone! I can't believe it's only $99. I ordered just to play around with the new Windows 8.1 and Cortana, but it has turned into my daily driver. Size is very similar to the iPhone 5, but it feels better in the hand. Pros: battery life is great so far. Screen is very good. Phone reception is great and speaker is very loud and clear. The only Con that I can find is that the screen doesn't seem to repel oil as much as I would like. Overall I am very impressed. I am buying two more for friends and family.\", 'rating': 5.0, 'verified': True, 'author': 'James K.', 'helpful_votes': 12, 'publication_date': 20140803}, {'title': 'Excellent phone at a GREAT price!', 'text': \"One of the best phones I have ever owned and the prices were great. I'm not a smartphone user really, but I decided to go with this phone being that it was one of the cheapest phones I could find to replace my defective phone which actually happened to be a flip phone that costed almost the same price. I am VERY happy with my purchase so far. It has all of the options I need plus some.\", 'rating': 5.0, 'verified': True, 'author': 'Will', 'helpful_votes': 0, 'publication_date': 20150911}, {'title': 'Great phone for the money', 'text': 'Great phone for the money. Screen is good, performance is good, call quality is great. Other than App store, which everybody knows by now how it is, I have no complains. Good things are the Nokia built quality, very good battery life and for me the ideal phone size. Not too small and not too big. Camera is actually not that bad honestly. All in all it is a great deal as of now.', 'rating': 5.0, 'verified': True, 'author': 'Seagulls', 'helpful_votes': 0, 'publication_date': 20150406}], 'product_meta': {'title': 'Nokia Lumia 635 AT&T (Black) - Carrier Locked to AT&T Wireless', 'description': 'Color:BlackPhone is locked to AT&T', 'rating': 4.1, 'feature_bullets': ['Carrier Locked to AT&T Wireless', '8 GB storage 512 MB RAM Expandable Memory', 'Beautiful 4.5 inch ClearBlack, IPS LCD Display 480x854 resolution 221 ppi', '5.0 MP Camera with 720p HD Video and Autofocus', '1.2 GHz MSM8x26 Quad core Processor'], 'specifications': {'Product Dimensions': '2.51 x 0.39 x 4.72 inches', 'Item Weight': '4.8 ounces', 'ASIN': 'B00LBFFSNM', 'Item model number': 'Lumia 635 GoPhone', 'Batteries': '1 Lithium Polymer batteries required.', 'Customer Reviews': '4.1 out of 5 stars2,598 ratings4.1 out of 5 stars', 'Is Discontinued By Manufacturer': 'No', 'RAM': '512 MB', 'Additional Features': 'Quad-core-processor', 'Display technology': 'LCD', 'Other display features': 'Wireless', 'Form Factor': 'Smartphone', 'Colour': 'Black', 'Phone Talk Time': '780 minutes', 'Phone Standy Time (with data)': '600 Hours', 'Included Components': 'Video Recorder, Camera', 'Department': 'Wireless', 'Manufacturer': 'Nokia', 'Date First Available': 'July 20, 2014'}, 'categories': ['Cell Phones & Accessories', 'Cell Phones', 'All Departments'], 'price': 85.99}}\n"
     ]
    }
   ],
   "source": [
    "train_data = read_json_from_folder(train_path)\n",
    "test_data = read_json_from_folder(test_path)\n",
    "valid_data = read_json_from_folder(valid_path)\n",
    "\n",
    "# Print a sample JSON file\n",
    "sample_file = list(train_data.keys())[0]\n",
    "print(f\"Sample file: {sample_file}\\nData:\\n\", train_data[sample_file])"
   ]
  },
  {
   "cell_type": "code",
   "execution_count": 6,
   "metadata": {
    "execution": {
     "iopub.execute_input": "2025-04-05T08:30:03.755021Z",
     "iopub.status.busy": "2025-04-05T08:30:03.754623Z",
     "iopub.status.idle": "2025-04-05T08:31:12.944659Z",
     "shell.execute_reply": "2025-04-05T08:31:12.943675Z",
     "shell.execute_reply.started": "2025-04-05T08:30:03.754993Z"
    },
    "trusted": true
   },
   "outputs": [
    {
     "name": "stderr",
     "output_type": "stream",
     "text": [
      "Processing /kaggle/input/amaa-sum/min_10_max_100_revs_filt_complete/train: 100%|██████████| 25203/25203 [00:44<00:00, 566.70it/s]\n",
      "Processing /kaggle/input/amaa-sum/min_10_max_100_revs_filt_complete/valid: 100%|██████████| 3114/3114 [00:05<00:00, 612.41it/s]\n",
      "Processing /kaggle/input/amaa-sum/min_10_max_100_revs_filt_complete/test: 100%|██████████| 3166/3166 [00:04<00:00, 686.17it/s]\n"
     ]
    }
   ],
   "source": [
    "import os\n",
    "import json\n",
    "import pandas as pd\n",
    "from tqdm import tqdm\n",
    "\n",
    "def prepare_dataset(folder_path):\n",
    "    \"\"\"Reads JSON files and prepares data for summarization, including pros and cons.\"\"\"\n",
    "    data_list = []\n",
    "    json_files = [f for f in os.listdir(folder_path) if f.endswith('.json')]\n",
    "\n",
    "    for json_file in tqdm(json_files, desc=f\"Processing {folder_path}\"):\n",
    "        file_path = os.path.join(folder_path, json_file)\n",
    "        with open(file_path, 'r', encoding='utf-8') as f:\n",
    "            data = json.load(f)\n",
    "\n",
    "            # Extract all customer reviews\n",
    "            reviews = []\n",
    "            if \"customer_reviews\" in data:\n",
    "                for review in data[\"customer_reviews\"]:\n",
    "                    reviews.append(review.get(\"text\", \"\"))\n",
    "\n",
    "            # Extract summary, pros, and cons\n",
    "            if \"website_summaries\" in data:\n",
    "                summary_data = data[\"website_summaries\"][0]  # First summary\n",
    "                summary = summary_data.get(\"verdict\", \"\")\n",
    "                pros = \", \".join(summary_data.get(\"pros\", []))  # Convert list to string\n",
    "                cons = \", \".join(summary_data.get(\"cons\", []))  # Convert list to string\n",
    "\n",
    "                if reviews and summary:\n",
    "                    combined_reviews = \" \".join(reviews)  # Merge all reviews\n",
    "                    data_list.append({\n",
    "                        \"reviews\": combined_reviews,\n",
    "                        \"pros\": pros,\n",
    "                        \"cons\": cons,\n",
    "                        \"summary\": summary\n",
    "                    })\n",
    "\n",
    "    return pd.DataFrame(data_list)\n",
    "\n",
    "# Define dataset paths\n",
    "dataset_path = \"/kaggle/input/amaa-sum/min_10_max_100_revs_filt_complete\"\n",
    "\n",
    "# Prepare Train, Validation, and Test Data\n",
    "train_df = prepare_dataset(os.path.join(dataset_path, \"train\"))\n",
    "valid_df = prepare_dataset(os.path.join(dataset_path, \"valid\"))\n",
    "test_df = prepare_dataset(os.path.join(dataset_path, \"test\"))\n",
    "\n",
    "# Save to CSV for later use\n",
    "train_df.to_csv(\"bart_train_data.csv\", index=False)\n",
    "valid_df.to_csv(\"bart_valid_data.csv\", index=False)\n",
    "test_df.to_csv(\"bart_test_data.csv\", index=False)\n",
    "\n",
    "\n"
   ]
  },
  {
   "cell_type": "code",
   "execution_count": 15,
   "metadata": {
    "execution": {
     "iopub.execute_input": "2025-04-05T06:02:55.098752Z",
     "iopub.status.busy": "2025-04-05T06:02:55.098428Z",
     "iopub.status.idle": "2025-04-05T06:02:55.121760Z",
     "shell.execute_reply": "2025-04-05T06:02:55.120951Z",
     "shell.execute_reply.started": "2025-04-05T06:02:55.098721Z"
    },
    "trusted": true
   },
   "outputs": [
    {
     "name": "stdout",
     "output_type": "stream",
     "text": [
      "Train Data Sample:\n",
      "As long as this is still available, this is the absolute best phone for the money in my opinion. I researched seemingly forever for a low priced full-featured phone, and this fits the bill. The Windows O.S. is seamless and easy to customize and navigate. I just bought two more for my wife and daughter, who were always \"borrowing\" mine. I just have to chuckle when I see everyone swooning over the latest exhorbitantly priced Apple phones, and paying the equvalent of a car payment to do the same things this phone does. And my $30/ month plan is adequate for my business calling, email checking and file sending needs, which is all I need it for. Effective July 31 2017 Microsoft no longer supports software on this phone. It took two hours at At&t to get contacts from old phone to this one. Only buy if you have a way to transfer your contacts and are a very knowledgeable Windows user. Design is poor as edges of screen are widest part of phone and not Gorilla glass, so any drops without a substantial case will result in cracked screen. I bought this for an older friend whose screen cracked and who had never used an Android phone and didn't want to learn a new operating system. Other reviewers have indicated that this phone can't be returned unless damaged in Shipping. Buyer beware! This is the second of this model phone I have owned and the first one (had it for three years and ended up physically breaking) was so much better. I suspect that even though it is listed as new it is a remanufactured phone. this phone does not have the sms option to block calls or texts. also on this particular phone the screen locks and the only way to unlock it is to reboot the phone. I would return this but since I have put personal information on it I do not trust sending it back to the seller even after being reset. I bought these a couple times when I was on a budget and I think I'm allowed to say they were pretty decent even tho the OS didn't have much Apps to offer. Seemed like it was going well on their path... I was mistaken. Windows Phone OS died. Nevertheless they should be decent phones for kids who'd use them for calls and texts and YouTube mostly. They are quick enough to response and are made of tough materials. This is a really great phone for the price. It does much of what any smartphone can do without having to pay hundreds of dollars. One thing that I really like is you can use it to facebook, scroll, google, load and read articles and it does not close the app out on you, something that drove me crazy with my old iphone! If you don't mind not having as big a selection of apps as google or apple and if your fine with no selfie camera, this phone is a great choice. The camera quality is good, thread messaging and calling sounds crystal clear. volume is good as far as ringtone sound and call quality. My wife and I have been using \"dumb\" phones until recently. I like purchasing the Go Phones for the simple reason that if you break one, all you have to do is throw your SIM card into a back up one and you're up and running again. I keep extras on hand. I've found the basic features to be user friendly and useful. I accidentally dropped this phone approximately 30 feet onto concrete. The back flew off, but the screen remained intact and the phone was still on when I got down it. A+. A year-and-a-half after purchasing, I FINALLY found the right settings so I can send and receive MMS messages! AT&T was NO help at all, even after more than two hours on the phone, but here are the CORRECT settings so you, too, can fully utilize your phone! [...] Very easy to use, would have received full marks if it hadn't taken so long, and tons of Internet trolling, to fix the stupid issue. Oh, and if you like selfies, this doesn't have a backward facing camera, but you can use the free Lumia Selfie app to take pics. WOO-HOO!!!!!! This phone cost about $20 more than the avail 2, and some other phones. The quality of this is like going from a regular car to a Cadillac.It works so easy,and has far more features,than one would want,and more than you'd expect from a phone at this price.Try it, you might like it! bougfht 2 for college age daughters who 'needed' (according to current trends, not my daughter's themselves) smart phones for college; SO MUCH cheaper than iPhones ( and we tend to be Mac people) and fewer glitches, according to my oldest girl who has an iPhone..... reasonable price, performs as needed. Awesome phone, very fast performance for the price. Phone is notably more responsive and faster than the newer Lumia 640. Minimal menu has kept me from switching to convoluted and confusing Android simply because I don't want to bother getting used to their interface. Only downside is the lack of snapchat and other popular games and apps. If you want to play games with your friends then stick to Android. You can download maps to this phone using Wi-Fi and view them any time for when you don't have service, data, or GPS. You can also insert a micro SDXC card to expand the built in memory and just jam it full of music or take tons of video. The basic features work great, including the GPS driving directions. The display is good but dim at medium brightest and has no auto-adjust. Turning up the brightness would make that better, but I did not test it. The is no front camera and the rear camera is mediocre. All the software works great. The OS is very fast and has lots of features. Battery life is great. The no-contract price was a completely unbelievable $30. The OS and all the basic software like MS Office and maps take up less that 4 Gigabytes. That leaves 4 Gigabytes for music making this the best value MP3 player ever. If you need more space, you can add any SD FLASH card made. For $50.00...this phone is pretty darn awesome...I don't care what anyone else writes about this phone. It's perfect for 90% of any one who purchased. Runs great, pretty fast, simple, inexpensive...it's a Nokia...and you can unlock before activation to use on T-Mobile, AT&T and Cricket without a hitch. Bought this phone for my mom and she loves it and she is horrible with technology. Get this phone! It's worth it for $50.00 even though it's been discontinued. Only bummer is no Front facing selfie camera. Plus...it's upgradeable to Windows Phone 10 when it comes out. Bought one of these in Oct. 2015 and it finally gave up the ghost a couple days ago. Just ordered a new one because it appears to be the cheapest alternative to the rest of the ones I have researched except for the fact that a year and a half ago it was $35 compared to the $58 price now. that sucks! I bought this phone for the Bluetooth as that feature on my Lumia 1520 has stopped connecting with several of my devices. I thought I could use this phone to fill in for music, fitness band, etc. But this phone is having the same problem as my 1520 -- pairing, but not staying connected, so it's useless to me. It might be a recent software update because I've had my 1520 almost two years and just started having this particular problem. When searching the problem online, I see it's a pretty widespread problem. If Bluetooth is not important to you, aside from the phone getting hot quickly, it's a good deal. Better than the 520, but not without its issues. This review is in direct comparison to the ATT Nokia 520. Pros Longer battery life. Larger screen Volume levels better. Bluetooth devices (earpiece/portable speaker) noticeably louder. Direct connect earbuds/head phones (3.5 mm jack) noticeably louder. Camera noticeably better. Con, Still no flash. Faster boot up/processing speed Cons Still somewhat buggy. Can lag when opening apps. Takes somewhat longer to charge. Pretty much a tradeoff for longer battery life. Microsoft still lacking in apps compared to Android/Google. A nice cheap Windows smartphone. Better than the 520 because it came preloaded with Windows 8.1 (previous one was upgraded), and so I seem to have fewer issues with the battery running down, etc... Has been quite reliable so far. I also like the lit up search, back, and home buttons (again, unlike the 520). This does all make the phone slightly bigger than the 520 (although the same amount of information is shown on the screen) One thing missing is a shutter button (on the 520, this could bring up the camera application without having to type in your pin). Sadly, this feature isn't there on the 635. For the price paid, I can't really complain much at all! It's a great product. I use this as a tablet, a media player and a personal navigation device. My 128 GB SD holds all the 800+ hours of mp3 music, 42 movies and thousands of photos. Great stuff for peanuts when compared to other phones. Awesome screen and very fast. It does take a long, long time to index the huge media library at first though. After that first time it works great. its getting me by ive had it for a few months definitely a huge downgrade, apps suck, web browser sucks(always crashing) idk i wouldn't recommend this to anyone, not even for a low budget find a better one. long live android! *Update: 6 months and its decided to take a dump. Never dropped it, kept it clean, kept it charged, stayed away from bad downloads, and never flooded the memory. Hopefully it's true that Windows won't make any more phone operating systems. Besides that companies never support Windows because they never listen to what the people want. I bought two. Replaced my 520 with one and keeping other as spare if my wife's 635 were to die (she must think phones love to swim). Seems as fast as my older broken 920, but of course the photo's are not as great, but the SD card slot works wonders! Some apps in the new Win8.1 after the updates can install to the SD card, others refuse to...but overall that will save me a lot of space on the phone. Glass smudges, but doesn't feel like the cheaper glass on a 520, but not as nice as the 920 screen was before I shattered it. Bought this for my son and it came with a free trial of phone time. The phone has great capability and he loves it. It does not have a forward facing camera and the picture quality is not that good but he barely ever has a desire to take pics so no big deal. He has all the games and apps he wants and we found a great case to protect it. Over all I would say this is a wonderful phone for the price and if he loses it or breaks it, we aren't out a buncha money and can replace it easily. This is a really great phone for the price. My flagship phablet broke so I picked one of these up until the Next Best Thing gets released. There are a few things that the 625 doesn't have that I am used to on other windows phones: front camera, LED flash, physical camera button. But for $50 it's hard to beat. The UI is still fluid, and the SD card slot resolves any storage issues. Maybe the 512mb RAM is a weak point, but I'm not a big phone gamer so that's not an issue for me. I caught this phone on sale for $30! I snapped it up since my family needed a second phone. I was a little skeptical since it got some bad reviews, but for $30 I couldn't pass it up. It's sturdy, has great sound, takes really awesome action pictures (Almost like a gif) with the built in app and we've had absolutely none of the issues that I was worried about. It took a little bit to get used to a Windows phone since we previously had other brands of OS. We also love the way the gophone service is set up. It's affordable and we can pay right from the phone itself. Bought a bunch of the 635 & 640's for people that work for me. Some adjustment to windows; about a day or two. Great screen, nice camera, FAST phone, good sound quality (IN & OUT). Long battery life. Seems to hold up a long time (I put simple cover on it, no screen guard). If you require certain games or apps, always check because some don't work on windows. I have been very happy with this phone for the price. I was using an unlocked Tmobile phone on att and had spotty reception after purchasing this phone it has improved significantly. I just transferred my sim card and the phone worked right away. This is my first time using a windows phone and so far I am happy (used for about 1 month now). I am not very tech savy and use my phone mainly for basic tasks (call, text, email, some internet use) and this phone has worked very well so far. This is the most user friendly phone Ever!!! It actually does almost everything for you. You can even speak your text messages! It has a microphone almost every where and a very helpful sidekick \"Cortana\" that takes your voice commands And Talks to you, making sure that your commands are correct. This is an unbelievable handheld computer, not just a cell phone!!! Operated by Microsoft Windows. Replacing a ZTE Maven - possibly the worst cell phone, ever -. There's no instructions, however, I discovered instructions on line. I had it a week and lost it! So new, I don't know the sound of the ring... AT&T subscriber for 20 years. It's very light. Has CORTANA. I'd like to know what phones have 'CORTANA\", I find the Google app not as user-friendly. I'm very pleased w/ this device, and still not believe in what I was able to get for the price I paid ($57.09 on 01/05/2015). For me the only drawback w/ this device is not have a front face camera (I love make selfies!). The Nokia Lumia 635 is my first Windows Smart Phone, and I'm kind of disappointed w/ the lack of apps available, however I'm really happy to be able to use some other features that windows operational system has to offer. I totally recommend the Nokia Lumia 635 Windows Smart Phone! I still miss my aged-out iPhone, but it had stopped syncing with my Windows desktop PC. This phone is fine. Still learning how to use its capabilities -- love the One-Note app -- and looking for more apps to cover the missing touchpoints. My only quibble: the camera. I don't care about selfies, but I do care about megapixels, and this camera's pretty weak-kneed compared to what I was used to. That being said, the price is right, and it functions well in all other ways. Not a heavy smart phone user--it fact I hardly ever use it as a phone, though it worked great the couple times I did. The screen is bright and clear, the sound is surprisingly loud and clear. The touch screen is very easy to use. Windows 8.1 is very well designed, intuitive and easy to use. The battery lasts all day easily. I downloaded a couple of e-reader apps from the Windows store, and now using it as a reader is the main thing I do with it. It's more than satisfactory for me, and a bargain at the price. this is the first smart phone I've owned and I have to say it's been a real struggle. it's been so hard to find anything-the little icons at the very bottom do not tell you which one you might want to get you to the right place. I do not enjoy searching and searching. I'm sure the actual phone works fine it's just the mechanics of how to work it. I'm just about to chuck it and go back to my simple but easy to use phone-and the screen isn't all gross with one touch. So, unless you've already experienced att smart phones, there might be a more user friendly one out there. I love windows phones and I had no issues with the Lumia 520; I just bought this one in December because I wanted a bigger phone. My mom had the typical restart issues with her 635 but I didn't however, in May my phone started sapping chargers left and right. I have been buying replacement chargers every two weeks. I'm feeling a little irate because I haven't even had this phone for a year. I don't know if anyone else is having the same issue? Don't forget to check out youtube videos for this one or any other phone. You can watch tons of videos to feel more comfortable with whatever phone you buy and how to use it. For this phone i entered in the search box, \"nokia lumia 635 how to\" .. and you'll get tons of choices to view. I think watching these helps me feel more comfortable with a new product I'm buying or viewing how-to for dummies. Also use  . A simple phone for simple needs. This phone has what my sister needs...a way to make phone calls, read emails and texts, and the basic needs of a product like this. It is cute and handy, although it is not up to date with the \"selfie world\". Lacking the front camera makes it less attractive for younger people, but luckily...my sister is not that young anymore, so no problem. I have had this phone for nearly a year now and really like it. I was able to upgrade from Windows 8.0 to 8.1 earlier this year, with no problems. The tiles are easy to customize and use. The camera works really well, though doesn't have a flash. Occasionally emails take a while to be delivered, though that hasn't been a problem. I use the radio a lot and appreciate the sound quality from this device. Overall, this phone is a good bargain for the price, and is easy to use. I recommend it. This phone is GREAT. Let us get the cons out the way. No front facing camera, and no flash. Also the rear camera is so-so. Now for the Goods. Removable battery and SD storage! Made by Nokia, so it is virtually indestructible. 4glte!! IT IS A 4G PHONE!! FOR 50$!!! No contract. I use it with h20 / cricket prepaid and it works GREAT. Great low price pre-paid phone. Slick little phone. Bought it to install Windows 10 preview. Camera not bad for 5M. Faster than my Nokia 1020. Will take an SD card, think I put a 16Gig in it. Have not installed a sim, just using as a mini-tablet and GPS. Too bad Windows Phones do not make the headlines. But, hey I was using cassettes while my schoolmates had 8 tracks. Cracked my iPhone 4s and had to find a replacement. I bought this phone and got it hooked up to straight talk. I believe this to be on par with the 4s- as long as app selection and selfies aren't topping your list of must-have phone elements. Got it for $55 unlocked, and I pay $46 a month for unlimited everything. I'm not sure you're going to find a better deal. This is a GREAT phone for the money, it does everything. I don't know how they can sell it soooo cheap, it's a pc in your pocket. The only bad thing is no front camera or flash and and doesn't blink as the Z998 does when you have any activity on the phone. I had a Nokia 520 and that was a great phone too, I still use it once in a while. I miss the tap screen the 520 had and the 635 doesn't. I guess for the money they can't give you everything on the 635. If you want a great buy for the money try the Nokia 635, you won't be sorry. A great phone for very little money. This, and a few other devices that have hit the market recently (like the Moto E 2nd Gen), have the power of \"Good Enough\". This phone can do everything you need, plus keep a few hundred dollars in your pocket (approximately $600 for a new iPhone). You are also not beholden to a wireless carrier for a contract or set number of payments (probably the best feature). The only drawback to this phone (and the Moto E) is the camera - both are just OK/average (and have no flash). Surprised how much I like this phone. Longtime blackberry (including Torch) and iPhone (4S, 5S) user, and I think I actually like the Windows operating system better. Really the only downside to this phone is that there are far fewer apps available; the biggies are here, but suggest you check the windows store if there's an app you must have (Uber has Windows app, Lyft doesn't, for example). Long battery life. Does take quite a while to fully charge if you're getting low (hint: put in airplane mode to have it charge at least twice as fast). crap! no support, app store is a joke, bing crashes constantly in mid search and resumes to original search results. Blocked numbers still get through, email is sometimes missing. If you don't care about that, phone quality is good, battery life long. Overall functions are adequate. There are just enough little things that I would not recomend it. No flash? I know it's a known fact so why hold it against them....who doesn't use their phone as a flash light from time to time anymore. I can't imagine that adding an led to the back would cost that much. The auto volume to 13/30 was annoying. I used it as an iPod and at random intervals it would drop the volume, and always when I was driving. I wish I could turn that off. Phone seems nice but watch out if you don't want to use it as a Smart Phone. I tried to just transfer my SIM card to a new phone but ATT requires a data plan if the phone is capable of one (even if you don't use it). I wanted this to replace a basic phone for our son that he uses for emergencies only. Not happy with forced data plan. Asked them to take it off or block it, but they won't. The phone works. It doesn't have a lot of apps you can install for an Iphone or Android since it's on the Windows platform. Surprisingly, there is no front facing camera so you can't take selfies, which is something my daughters pointed out to me. I would not buy this phone again or recommend to anyone. It's simple, light, and despite a newish case it still holds up to Nokia toughness, kinda...I've dropped it plenty of times and it keeps going. Problems thought...most of the time watching youtube videos don't work out too well. When listening to visual voice mail you can't stop it or delete it til it's done playing all the way through unless you lock your phone and open it back up and delete it that way. Other than that...good phone for 60 bucks. Windows 8.1 is a delight to use. Cortana also provides lots of local news. Getting a choice of which news to review is also a nice touch. The phone works well as a phone. There are tons of apps (more than I will ever need). The camera does a good job and the pics that you take are presented as a slide show in one of the windows on the screen. Keyboard is a bit tight for big fingers, but the erase key is handy for the goofs. Couldn't resist the price. Switched the whole family to these phones and we absolutely love them. There is not a better smartphone for the price anywhere in the Northern Hemisphere! Easy to set up and transfer from our old iPhones and a million times the battery life! Wow, what a phone. Simple to use and it does everything we need a smartphone to do. It was a good phone at $119.00 when they first brought them out, but now? Boy what 40 bucks will get you these days. Great phone; could not be happier! This is a great phone if you have network access at home with a decent security company that cleans the system for you. There are some cookies that can hurt the phone but if you have a respectable internet security company and clear the cookies out on a regular basis. You can get away with going with out a network for at least 3 months without worrying about malware, spyware, and all the bad things the internet has to offer. Stay away from windows 10 build 10536!!! Very nice for a cheap phone. I think it's a cheap phone because the Windows store isn't that great, but if you primarily use your phone for a phone or a GPS or something-- don't have your face in an app constantly--this is really a decent phone. It doesn't have a data feature, so if you care and need it occasionally, you can get a little Straight Talk unit from Wmt with a data plan cost of about $15/mo.and up. It's great except I was under the impression that it was capable of upgrading this version of windows to Win 10 immediately. 8.1 is not owned by google so we are good. No contract att phones work anywhere with wi fi all the time. You don't even have to activate it. Open package, insert sim card, and log on to internet at your fav wifi hotspot for free using an interface that you're already used to. Nothing beats Windows. This is my first 4G smart phone. I purchased this on Amazon Warehouse deals as used like new . When I opened the Amazon box, the phone was packaged as though it was brand new. I have activated it, and love, love, love it. Great product and awesome price point. I can hardly believe how much quality I am getting for my money! Windows 8.1 works beautifully! I have always used a contract Android cell phone, tired of the contracts, tired of the supposedly great deals on the contract phones, do the math and your paying dearly for those phones, ( last contract phone I had was a Galaxy S3 ) this phone works great and I'm so glad I bought it! Not hard to switch from Android to 8.1 windows, same OS as your home PC. Try one you will be happy you did.. I am not big into phones, but for the price this phone is fantastic. It does what I need, email, web browsing, and calling folks. The camera is better than I expected. Just don't expect Iphone quality pics. The battery is the longest lasting I have ever used. While I like android OS, Windows 8.1 is very easy to use. Their app store is limited, but I really don't care. I have my Google tablets for that stuff. Overall, it does what I need and would buy again. This is a great phone, I use it while travelling. Nokia offline maps are amazing when you dont want to use data in another country. It's got points of interests, walking and driving directions, estimated time and everything else you could ask for. Works great as a backup phone too! At first this phone worked okay, but it then got where I could not hear people when they called me, if I put it on speaker phone I could barely hear them. To me this phone is a paperweight now. I will be purchasing an android phone to replace it. I did a little research online to try to fix the problem, but found a lot of folks having the same problem with this phone. This is one of the worst phones I ever owned. The charger died less than 24 hrs after I set up the phone, Battery life is horrible drains rapidly even in airplane mode, phone charges very slowly when hooked up to Windows 10 PC via usb 2.0 and 3.0 ports. AT&T service is good and reasonably priced but I am going back to android. Microsoft needs to get there act together or this phone will fade from existence. Bought this phone for overseas visitors. Works great, took 10 minutes to set up phone with included mini SIMs card. Fast, responsive. Never had a windows 8 phone. Easy. The windows OS has similar issues to iOs. GPS doesn't require data service availability. Very nice phone ... and for <$50 ... insane! The reasonable service costs for this phone costs $45 per month (unlimited calls, texts and 1.5 GB data service bandwidth @ 4G LTE I have only had this phone about 5 hours and it's already so much better than the Motorola atrix 2 I have been dealing with for almost a year. Some glitches with my windows login info but after that got straightened out(forgot my password lol) just downloading apps I use is so much faster!!! I look forward to further customizing it!! If you have a net10 bring your own number sum card(dual is best with this phone since it takes the mini SIM card) the att go phones work best with it! I am SO happy with this phone!! haha ok Microsoft. so i got this phone on its arrival date connected it to wifi and made simple updates....... so i thought.!! I updated the lumia 635 to windows 10 and it was slow and laggy and got a crazy error and then phone wouldn't work at all. I downloaded a recovery tool from via Microsoft and ran the downgrade program and nothing lumia 635 is now back to windows 8 but cant boot up its damaged. This is a fantastic phone for such a low, entry-level price point. I have enjoyed using this phone so far. It runs very smoothly, and both images and text look sharp on it. I would have preferred a flash for the camera -- even a basic flash -- but I don't take photos nearly enough to dock a point for it. At $79.98 shipped to your door, this is an easy buy. I bought this phone for my mother after having the old Nokia lumina and she loves it.She's 58 and this phone is very simple for her to use.Big buttons and large screen.We wi stick to the windows phones for her because they are very easy to navigate.No crazy apps or settings.I would reccomend this for a reliable, durable simple phone.The screen is also very crisp and large This phone is not unlocked... only works with ATT with their plans....After much calling of sales people... Do not expect to insert sim card and start calling.. This deceptive advertising... I bought this to use as a Bluetooth MP3 player and it turned out to be so much more. I did not activate it. It comes with a sim card but I didn't want a cell phone. It also works great as a stand alone GPS navigation system once you have the maps downloaded. It was very easy to access the memory card I added to it too. (unlike my Dell tablet) It is a great phone to talk on. you can install and change out the battery. Very durable. Get phone if you don't care for a contract. You can go to a go phone or conventinal billing if let be. The phone takes descent pictures and videos, especially outside. You can put a giant mini SD card in this phone and store memorys for years. It is great if you are a bang for your buck kinda person. Go for it. I bought this phone for my son and he loves it. It has Windows so he can sync things with our laptops. The camera takes amazing photos; the color is outstanding with amazing clarity. The only negative is no front facing camera but you can download an app that works very well. this is the end all be all of affordable phones! It does everything you need it to do and does it well. the only thing it lacks is a front facing camera, to me that's no big deal. with the gophone no contract deal it's a no brainer, no contract, att fast speeds. Dont hesitate get one. works great, my 1020 got bricked by win10 and I got this until the 940xl comes out... just put my standard sim in it and it worked no problem, you don't have to activate the prepaid sim and pay all that extra money, just put you standard sim in it and it works fine it's got a different build of 8.1 than the 102 and works great, ultra cheap at $40 for a 4.5 inch screen and decent camera.... great deal Amazing phone for this amount of money. Device is working fast, so far with no lagging. Phone ringer is loud as soon as you will peel off protective film from the back cover. Screen resolution is not bad. On negative side, there is no front (self) camera and the rear one is pretty bad especially in the low light condition. Windows store lucks even basic applications paid or free ones that available for Android and Apple phones. No app for chromecast stick. Yet for this amount of money is Okay, except luck of front camera. Would buy it again and would recommend to a friend. Works perfectly with Consumer Cellular. All I had to do was to insert the SIM card from my old phone and added the \"Consumer Cell\" to the \"Cellular+SIM\" settings. My Windows \"NEST\" thermostat app doesn't work as well as it did on the Android phone but I can manage it well enough. It takes great pictures and great videos as well. Battery lasts for two full days (unlike any Android phone I ever had). jewel of a phone and only $49.99. why would anyone pay $600 or $700 for anything else. I've got a video/photo camera, unlimited talk/ text and internet with oodles of apps, games and cloud storage. only $35 monthly auto pay for all this .YES, I'M AS ECSTATIC AS I SOUND. I must admit I was somewhat skeptical at first but now I love this phone. It's extremely fast and loud just the way I like it. Call quality is excellent and the speaker phone feature works exceptional. I'm use this phone daily and not my Samsung galaxy note 2. The phone size is just larger than the IPhone 5s. The battery is good all day even with heavy usage. It's the best cheap phone I've ever purchased!!!! Awesome phone have it synced with my windows 10 computer with one drive easy to share photos videos ect. It's pretty fast the video quality is great. Windows doesn't have as many apps as android but has enough for me. The battery life is good, Camera works great. Over all best phone under $100. Has a quadcore processor. I can read books watch movies/shows surf the web play games all fine. Call quality is fine same with texts. I recommend it. For the price, quality is excellent. My first smart phone, so I'm still figuring things out. So far I'm happy with my purchase, especially love the camera. Haven't had any issues with the lack of flash. Biggest issue is AT&T's customer service to help switch from a basic messenger phone to the smartphone sim card, but that is no fault of Amazon's. Would buy this phone again and I do recommend it. This is a step up from my 520. I bought two and my dad bought two. We are all having great luck with them. The screen is really clear and easy to see. There is more apps available than ever but once in a while I still find something where one is not available. The windows program is very easy to use and my elderly parents are running them easy as a first smart phone. It works great with my computer and hot mail. The only issue we have is the SD card slot in my wife's phone is not working. It was well worth the money and we all keep finding new things on them. my ipod touch bit the dust and i didnt want to spend $400 on new one. This one syncs with itunes, plays music as well as an ipod (I actually like the music app better) and costs only $40. Another $50 for a 128 gig microsd card and i saved $300. dont need to activate, other than message abut a missing sim when it boots up it doesnt need to be connected to a phone network. I really love my phone. When I ordered mine at such a great price, my husband wanted me to order him one also. We needed to replace our other phones and found this one to be just what we needed. Facebook and email or easy and quick to get to as well as other apps. The reviews I read before making the purchases were very helpful in making my decision to purchase the phone. First Windows phone, bought as an mp3 player, but after how well the phone works, and how good of a price it was, I have been convincing people to give it a go too. The phone itself is smooth, and comes with great software to really make it user friendly. WP may be replacing my android as a next main phone. I am a Windows guy, I love the syncing with my computers and all the common apps that cross platforms (PC - Phone). This is why I went to a smartphone cause the ease of using and getting to know it fast. WILL NEVER BE a i phone or android guy, YES! ... Update 2016... I am now an android guy... Winphones not supported by my hobby stuff, so... bye bye win phone hello LG G Flex 2! I bought this phone for $40 no-contract during the time up to Xmas and it's been great. The performance is snappy, the screen clear, the sound crisp and loud and feels durable and solid. I like it better than my Nokia 920. The camera is of lower quality as you would expect for an entry level phone but get's the job done. This is the cheapest smart phone available. I switch to this after breaking a blackberry, loosing an iPhone and frustrated by the high prices of Google phones. There are few apps missing but there are substitutes. The ability to insert an SD card is hue, you instantly get 32GB. The browser is a bit strange, you can always go back but it doesn't give you the ability to go forward easily. Nevertheless great smart phone for $40. I am using it with ATT. THIS IS NOT A GO-PHONE ONLY YOU CAN USE IT WITH YOUR FAMILY PLAN. I love this phone. It does everything I want it to do. Surf the web, take pictures, play music, and waste time on Facebook. Recommend this phone to anyone who isn't silly enough to pay $$$ for an expensive phone and the GoPhone rates are great and super cheap! No contracts! Wow I really love this phone! I'm new to smart phones but this seems easy to use because I'm used to computers. I'm 58 and don't like messing with phones, but I must say this was much easier than I ever thought. It seems to be a very good phone, hope this helps. I love everything about this phone! Its FAST, it has so much memory with room for more. It sports a nice big screen with slim design. Its easy to use, easy to update and fit with hundreds of apps. This phone is replacing a google phone which I cant wait to smash into a million pieces when I finally get my service transferred over! There needs to be more transparency with the items - the back falls off...I would be able to make a better-informed decision when purchasing the item. This is used as a replacement phone for the landline with H2O pay as you go $10 plan. To my surprise, I actually like it. As a phone, it gets better sound quality than my HTC M8 and verizon fios landline. The UI is really nice and intuitive. I will seriously consider a WP when the current contract is over. Great phone, does everything I can think of. It has gps for road travel without using data, fantastic apps, sound quality is great. I have owned this phone about a year with no problems Like it for the most part, my first smartphone, but has its faults: screen rotation very schizy; best not to count on it at all. Speakerphone doesn't have enough volume headroom. Fragile; it can shatter if dropped on a hard surface- my first one did. Order a flip cover with it. Decent for the price. So far so GOOD! I have had trouble with cellphones in the past so I don't want to get too happy. This is the best Windows phone I have ever owned, I had other brands of Windows phones but I guess there is no substitute for the real thing and Nokia is the REAL DEAL. If you are looking for a phone that is compatible with Straight Talk then this one is for you. I purchased in 2014, but abandoned in 2018 for lack of support of apps and Microsoft stopped updates. Otherwise, it was an excellent phone with basic support and still I'm using this for browsing at home and can give it to kids when we go outside with Mobile Hotspot connection for browsing while in shopping at stores. Its ok but having problem with texting / messaging. No user manual was included. Going on-line you were directed to AT&T's page which had nothing. The seller / manufacturer merely quipped to \"read the manual\". Going to try to see if people in the AT&T store can help but so far disappointed. I know cheaper phones will have less bells and whistles, but simple texting between 2 people should not be so difficult. I am very happy with this phone. I like it simple, and this one has a simple layout and is very easy to use, compared to the other phones in my family. I had it for about a year and no problems with it, despite one accident which destroyed the screen protector but not the phone. This is my second Lumia phone. I am personally a whole hearted windows lover and this phone is everything I could ever want. I love dropping it around my friends with android and iPhones and then indicating to everyone \"oh look. The screen didn't crack. Oops. Did it again. Hmm...still works.\" They clutch their glass screened phones in their protective cases with discontent. It's fun. Actually, my last windows phone survived a dog chewing on it, multiple drops on concrete and tile, and a plunge in the toilet. Good luck iPhones! I look forward to seeing what my new windows phone survives. It’s a Windows phone. You either love it or hate it. Build quality is ok, but a little thick. The sound and picture sucks, so don’t expect much. The phone is just as described, shipped fast in excellent condition when it arrived. Took me a little time to get used to the phone but that is just a user problem nothing to do with the phone! I still haven't got used to all the features yet but my teenaged kids love it and would like to have one just like it. I use my Go Phone mostly only as a phone. It should do everything I need for quite some time. Beautiful low cost phone. Bought this for my husband as his first touchscreen smartphone. It was a bit of a learning curve for him, but he's picked it up quickly and has begun adding his favorite apps easily. You don't have to have a phone plan for it at all, just use it on wifi for the apps/ease of access/mobility features. Hello I bought Nokia and I was pleased with it the shipping was fast and the phone was very worth the money. If your trying to spent less on a phone the gophone is right for you. I have 250 minutes and unlimited text for 25 a month. I gave it a four star because it doesn't have a front camera. Great phone! I can't believe it's only $99. I ordered just to play around with the new Windows 8.1 and Cortana, but it has turned into my daily driver. Size is very similar to the iPhone 5, but it feels better in the hand. Pros: battery life is great so far. Screen is very good. Phone reception is great and speaker is very loud and clear. The only Con that I can find is that the screen doesn't seem to repel oil as much as I would like. Overall I am very impressed. I am buying two more for friends and family. One of the best phones I have ever owned and the prices were great. I'm not a smartphone user really, but I decided to go with this phone being that it was one of the cheapest phones I could find to replace my defective phone which actually happened to be a flip phone that costed almost the same price. I am VERY happy with my purchase so far. It has all of the options I need plus some. Great phone for the money. Screen is good, performance is good, call quality is great. Other than App store, which everybody knows by now how it is, I have no complains. Good things are the Nokia built quality, very good battery life and for me the ideal phone size. Not too small and not too big. Camera is actually not that bad honestly. All in all it is a great deal as of now.\n",
      "\n",
      "Validation Data Sample:\n",
      "If you are looking for an organic peanut butter with good taste and low salt, try this option.\n",
      "\n",
      "Test Data Sample:\n",
      "Set of 5 cars designed after the members of the Justice League: Superman, Batman, Cyborg, Aquaman, and Wonder Woman, High-end Hot Wheels cars, Great value\n",
      "Some cars may not be compatible with certain Hot Wheels playsets\n"
     ]
    }
   ],
   "source": [
    "# Display sample\n",
    "print(\"Train Data Sample:\")\n",
    "print(train_df['reviews'][0])\n",
    "print(\"\\nValidation Data Sample:\")\n",
    "print(valid_df['summary'][0])\n",
    "print(\"\\nTest Data Sample:\")\n",
    "print(test_df['pros'][0])\n",
    "print(test_df['cons'][0])"
   ]
  },
  {
   "cell_type": "code",
   "execution_count": 12,
   "metadata": {
    "execution": {
     "iopub.execute_input": "2025-03-21T14:31:51.174629Z",
     "iopub.status.busy": "2025-03-21T14:31:51.174341Z",
     "iopub.status.idle": "2025-03-21T14:31:58.906721Z",
     "shell.execute_reply": "2025-03-21T14:31:58.906044Z",
     "shell.execute_reply.started": "2025-03-21T14:31:51.174606Z"
    },
    "trusted": true
   },
   "outputs": [],
   "source": [
    "import pandas as pd\n",
    "a = pd.read_csv(\"bart_train_data.csv\")\n"
   ]
  },
  {
   "cell_type": "code",
   "execution_count": 13,
   "metadata": {
    "execution": {
     "iopub.execute_input": "2025-03-21T14:32:03.938622Z",
     "iopub.status.busy": "2025-03-21T14:32:03.938284Z",
     "iopub.status.idle": "2025-03-21T14:32:03.944599Z",
     "shell.execute_reply": "2025-03-21T14:32:03.943686Z",
     "shell.execute_reply.started": "2025-03-21T14:32:03.938590Z"
    },
    "trusted": true
   },
   "outputs": [
    {
     "data": {
      "text/plain": [
       "(25203, 4)"
      ]
     },
     "execution_count": 13,
     "metadata": {},
     "output_type": "execute_result"
    }
   ],
   "source": [
    "a.shape"
   ]
  },
  {
   "cell_type": "code",
   "execution_count": null,
   "metadata": {
    "trusted": true
   },
   "outputs": [],
   "source": []
  },
  {
   "cell_type": "code",
   "execution_count": 7,
   "metadata": {
    "execution": {
     "iopub.execute_input": "2025-04-05T08:31:29.918030Z",
     "iopub.status.busy": "2025-04-05T08:31:29.917699Z",
     "iopub.status.idle": "2025-04-05T08:39:01.548561Z",
     "shell.execute_reply": "2025-04-05T08:39:01.547606Z",
     "shell.execute_reply.started": "2025-04-05T08:31:29.918001Z"
    },
    "trusted": true
   },
   "outputs": [
    {
     "data": {
      "application/vnd.jupyter.widget-view+json": {
       "model_id": "558fa16c1790484484561489dbc3b1bd",
       "version_major": 2,
       "version_minor": 0
      },
      "text/plain": [
       "vocab.json:   0%|          | 0.00/899k [00:00<?, ?B/s]"
      ]
     },
     "metadata": {},
     "output_type": "display_data"
    },
    {
     "data": {
      "application/vnd.jupyter.widget-view+json": {
       "model_id": "760779e8264c4a0eb56feecfa9de78c4",
       "version_major": 2,
       "version_minor": 0
      },
      "text/plain": [
       "merges.txt:   0%|          | 0.00/456k [00:00<?, ?B/s]"
      ]
     },
     "metadata": {},
     "output_type": "display_data"
    },
    {
     "data": {
      "application/vnd.jupyter.widget-view+json": {
       "model_id": "e5aa711e2f634737bac1179c0a3abc6d",
       "version_major": 2,
       "version_minor": 0
      },
      "text/plain": [
       "tokenizer.json:   0%|          | 0.00/1.36M [00:00<?, ?B/s]"
      ]
     },
     "metadata": {},
     "output_type": "display_data"
    },
    {
     "data": {
      "application/vnd.jupyter.widget-view+json": {
       "model_id": "14d6dabe9fb44e3dbe92494c8fb3a308",
       "version_major": 2,
       "version_minor": 0
      },
      "text/plain": [
       "config.json:   0%|          | 0.00/1.58k [00:00<?, ?B/s]"
      ]
     },
     "metadata": {},
     "output_type": "display_data"
    },
    {
     "data": {
      "application/vnd.jupyter.widget-view+json": {
       "model_id": "730ae5ca25f3441d8f2d1275baf824e9",
       "version_major": 2,
       "version_minor": 0
      },
      "text/plain": [
       "Map:   0%|          | 0/10000 [00:00<?, ? examples/s]"
      ]
     },
     "metadata": {},
     "output_type": "display_data"
    },
    {
     "data": {
      "application/vnd.jupyter.widget-view+json": {
       "model_id": "238768915daf4fc7b510f99e0ef50192",
       "version_major": 2,
       "version_minor": 0
      },
      "text/plain": [
       "Map:   0%|          | 0/2500 [00:00<?, ? examples/s]"
      ]
     },
     "metadata": {},
     "output_type": "display_data"
    },
    {
     "data": {
      "application/vnd.jupyter.widget-view+json": {
       "model_id": "6e2b8003106647c9867ee5ad34da72c6",
       "version_major": 2,
       "version_minor": 0
      },
      "text/plain": [
       "Map:   0%|          | 0/1000 [00:00<?, ? examples/s]"
      ]
     },
     "metadata": {},
     "output_type": "display_data"
    },
    {
     "data": {
      "application/vnd.jupyter.widget-view+json": {
       "model_id": "0bd862a733ae4def9e85e5808257a2eb",
       "version_major": 2,
       "version_minor": 0
      },
      "text/plain": [
       "Saving the dataset (0/1 shards):   0%|          | 0/10000 [00:00<?, ? examples/s]"
      ]
     },
     "metadata": {},
     "output_type": "display_data"
    },
    {
     "data": {
      "application/vnd.jupyter.widget-view+json": {
       "model_id": "65d0655a658d48b8b8ec7cc5ced68422",
       "version_major": 2,
       "version_minor": 0
      },
      "text/plain": [
       "Saving the dataset (0/1 shards):   0%|          | 0/2500 [00:00<?, ? examples/s]"
      ]
     },
     "metadata": {},
     "output_type": "display_data"
    },
    {
     "data": {
      "application/vnd.jupyter.widget-view+json": {
       "model_id": "cbe6b6958fe146e89e57fcb513078b60",
       "version_major": 2,
       "version_minor": 0
      },
      "text/plain": [
       "Saving the dataset (0/1 shards):   0%|          | 0/1000 [00:00<?, ? examples/s]"
      ]
     },
     "metadata": {},
     "output_type": "display_data"
    },
    {
     "name": "stdout",
     "output_type": "stream",
     "text": [
      "{'reviews': 'If you have to deal with numbers, you need this pad for your laptop. Simple to use, just plug it into your usb port and go. I take the time to review purchases because I know that I rely on them myself and I like to try to help others make informed decisions. If my review was helpful to you, please click the \"Helpful\" button. Descent external 9 key keyboard, however it does not have a \"delete\" button (don\\'t get fooled by the \"Back Space\" button) which is why I really wanted the external keypad. It is a little thicker than expected. I returned it because it didn\\'t have a delete button. This keypad replaced a Belkin wireless keypad, which required a battery. I found that the battery was usually \"dead\" when I wanted to use it because it would turn on when a key was pressed. This was handy when preparing to use it, but a problem when traveling with it in a suitcase! The Satechi keypad plugs into my computer, so there\\'ll be no problem with dead batteries. I\\'ve only used it once with a spreadsheet on my MacBook pro, and it was very easy to use. I plugged it in, and began to work. The length of the cord is perfect--I attached it to my computer on the left side, and I\\'m right handed. I am not saying that this is a bad calculator or number pad but I did return it because I want a little bit more and a number pad. So I am planning to spend more money and buy one of the more expensive ones. But this is a very basic number pad which will serve you well if you are tired of entering numbers across the top of the keyboard in a straight line which I find very annoying. I just wanted more. My MacBookPro 2012 did not recognize this, but it allowed me to use it. Numbers seem to enter fine, so it will work for me. The tab takes you to the cell below the one you just typed and the bk sp, erases what you just typed. I had a bluetooth Satechi that also had a forward and backup (not erase) keys, but it sometimes worked and sometimes didn\\'t. That is why I bought this one with USB. 5 stars despite the plasticky built (which was openly disclosed, but the price matches that, so it deserves full rating). It has a nifty switch on the back for selecting the right mode (PC or Mac) which I have scotch-taped over since I only use it for Mac. I use this only when traveling and stationary, so it gets gentle and little use, thus my review is not based on hardcore use. 5 stars because it fits the price and fulfills its promises to me. Price wise, this thing is excellent. The quality is definitely slightly lacking. But for what you paid, it is what it is. Obviously this is not a aluminum casing as you might have dreamed of getting it for this cheap. The buttons aren\\'t as smooth as the macbook air I have. However, price, price, price!! You have to put in a consideration that this is a budget 10 key. I myself is very happy with it as it does what it is supposed to do. It\\'s ok. The picture shown does not show that it doesn\\'t match the real iMac keyboard. This number pad is taller and the prints on each number is much lighter than that on my iMac keyboard. And since it dont line up because its not the same size/height I can use the connect bar to attach it together as one looking unit. I wouldn\\'t have purchased it if I knew that.. But it works so I took off one star for being a little deceiving. I absolutely LOVE this! I really needed it for quicker data entry. The reason for the loss of one star - it\\'s annoying that the MacBook wants to set it up as a full keyboard every time you plug it in, but you can ignore that and it still works. Also, the little bump on the 5 is too subtle for my tastes. I bought some cheap adhesive gems for my daughter and used one to put in the middle of the 5 button and it works great. I bought this because I needed an extended keyboard to set up shortcuts within InDesign. Unfortunately this number pad won\\'t work because there is no number lock. Annoyingly there is no clear button either. Which would be helpful if you are using it as a calculator. The packaging was really tough to get into, I had to cut through the plastic to get it out. So I can\\'t return it. It was easy to set up with my MAC and as other reviewers said is plastic not aluminum. Amazon and Satechi helped resolve my issue, great work team, upgrading to 5 stars I really wanted to like this but the buttons stick. I tried \"mashing\" them a little to try and get them un-stuck but no luck. I threw away the packaging so I am out of luck from a return perspective. I would keep looking This keyboard is a great companion to the Apple keyboard that does not have the numeric keys on the side.......IF you are plugging it into your MacBook directly. I use a thunderbolt display and plug the usb directly into the Thunderbolt display. The keypad works initally, then will not work at all. I tested it by plugging directly to my MacBook Pro and it worked flawlessly. However, if you use a Thunderbolt display, you use that as a docking station and plug all your accessories there. Unfortunately, this keypad does not work in that fashion. Back it goes. I am a college student who is going into Accounting. I purchased this to use with my Mac computer. I really like the keypad and it works great for school. I wish that the numbers were black instead of grey, but that is okay. I can see them okay, they just seem a little faded. I\\'ve had no problems with the keypad so far, although I have not used it a whole lot yet. Ok, so last November, after having Windows and Linux laptops, I decided to seek out the \"Dark Side\" and try an Apple Mac Book Pro. While I really like the laptop, I was missing the numeric keypad that I had on both the other laptops. When doing any type of numeric data entry, this is a MUST! It is well-constructed yet lightweight and I wish I hadn\\'t waited so long to get this. I wasn\\'t sure when purchasing but decided to give it a try as I missed my side number keys that weren\\'t on my new laptop. It works great! The only thing I can\\'t figure out how to turn off the key sounds, they are very annoying. I’m so glad I googled for something I thought it didn’t even exist and found this amazing object. It literally takes me 20 minutes less to finish my math homework and it spares me the anger I incour in every time I had to use the linear number keyboard of my MacPro While not being finished off between the housing and the keys with the tight tolerances of a genuine Apple product this keypad looks right at home sitting next to my iMac and it works well. I have it plugged into my Anker usb hub and it has alway worked. The price was right and I would buy it again. I love this keyboard! I do my financials on my laptop and I hated not having a number pad. My first keypad popped the \"enter\" key about ten days after I received it, so I contacted the company. They sent me a replacement and a label to return the first one. I\\'m very happy with it and would buy it again. Nice but feels a little mushy after a few months of use. I think the coating on the keys wears off a little fast but they just don\\'t feel as nice as they did when they were new. I think this is a common thing for all products that aren\\'t the big L brand. Four stars because I had to change some computer settings before it worked, but now it\\'s working just fine. For Mac users: check your accessibility settings to make sure Sticky Keys is turned off and you have unchecked the \"ignore built-in trackpad when mouse or wireless trackpad is present.\" This number key pad is really nice. I had another one for years, and I got tired of the clunky feel - big keys that are hard and noisy to press. This one has a really nice touch. I\\'m glad I found it. Nice 10 key. The buttons are the perfect size for someone with larger hands. I\\'ve purchased others that were smaller and had a hard time just hitting one button. This works perfect for me. I go with the usb cord because I\\'ve had several problems with others that are wireless when connecting to my mac. This thing you just plug and go. No set up. Though this product was received in a timely manner and appeared to be a good product, after opening and hooking it up to my MacBook Pro it was apparent I had made a mistake in ordering and had to return. (Thanks Amazon for your great return policy.) If you\\'re like me and are looking for an \"accounting/calculator type keypad this is not it. There are no memory function, mode, send or clear keys. It is strictly a basic numeric keypad with only backspace/delete and tab key. A more appropriate option maybe the Satechi Bluetooth Wireless Smart Keypad for iMac, MacBook Air, MacBook Pro, MacBook, and Mac Mini. This certainly gets the job done, and looks nicer than the standard thick black keypad, but it is painted plastic and the keys differ slightly from a standard Apple keypad (double check if this is important to you). Best numeric keypad I have owned. I purchased a cheap one prior and it was a piece of junk. Not only does this one match the look and height of my iMac keyboard, the touch also matches. I tend to slide it away from the keyboard until I am doing numeric entry. Better than I had expected. In fact, I have purchase another identical keyboard to use at school with my Macbook Air. UPDATE: One of my two went bad. Outside of warranty. Contacted Satechi and they replaced it anyway (I had to ship the bad one back). Well bought this last year for school and never used it. Decided to use it and the dang number 1 key won’t work after 3 days of use. Disappointed It matches the Apple keyboard exactly in appearance. It worked immediately as soon as it was plugged in with no install procedure needed. The key press feeling is positive and a little longer throw than the alpha keyboard, which I like in a number key pad. I received it on the promised date. All told, an excellent value for the money. I have no reservation in recommending this key pad and I would feel good about ordering other products from Satechi. I bought this about 2 months ago, when I started working from home. I use a 10 key every day for work, but my laptop did not have one. This plugs into my USB port on my laptop. I really liked the sleek design, which would match my Macbook very well. It lays at an angle, which I prefer. However, after 2 months of use, the 1 is starting to rub off on the key itself. The key still works fine, but the finish is rubbing off. This is the reason I did not give it 5 starts Works great. However, I returned it and bought a wireless one that doubles as a calculator that i really love. Has the feel of the wireless keyboard. What I like is the \"enter\" key (return) on lower right - easier than Apple \"return\" key, especially since I use a PC with \"enter\" key part of the time. Good for us who \"hunt and peck\". I like this keypad for the most part but it doesn\\'t have a CLEAR button, so when I try to use it with my computer\\'s calculator, I have to move my hand back to the key board if I want to clear what I typed. The UNDO button doesn\\'t work with the calculator. I am using it with a MacBook Pro laptop. It was also a hassle trying to get my Macbook to recognize it using bluetooth. Part of the trick was simply to ignore some of the things the bluetooth menu said. I found the way to do it somewhere online but I don\\'t remember the web site. Sorry. Like the design, dislike the quality of the 10-key. It takes some effort to type each number: I have to press TWICE for some numbers to print. Wanted a silver keypad. Had better & more reliable ones (but those were black), and my laptop is silver... Still works for me. The only reason it doesn\\'t get 5 stars is because it is on the cheap side of quality and don\\'t know how long it will actually work. This review was asked for only 2 days after arrival. I normally like to offer a review a month after purchase for the obvious reasons. So far it is everything I expected and a great solution for a numeric keypad when on a tight budget. I am a librarian at a public high school and this has made my job so much easier. When you get 30 loud teenagers in a room and try to hear them to look up their names, it can be a challenge. With our library program, you can look up a student by their ID number. I have this on my desk and the kids can enter in their ID number. I then verify their name and scan the book they are checking out. Best $15 I have spent! Got this because my Mac doesn\\'t have a number pad next to the regular keyboard. Since I use Excel frequently, it got to be quite a nuisance using the number keys on top of the keyboard. This was just the thing I needed! Super easy, just plug in and it works like a charm! The buttons feel great, it works seamlessly, and it\\'s nice having the long-ish cord so I can place it wherever is convenient while I have other things laid out on the desk. Only have had it for a few weeks or so, but right now I couldn\\'t be happier. This pad is great. The only quirk is the “-“ is lower than it normally is on a 10-key and in the space where it normally is, there is a backspace key. So many times when entering data, I hit backspace rather than “-“. Otherwise it would be 5 stars. works great with my MacBook air. I do a lot of spreadsheet work and simply couldn\\'t go without a number keypad. Would give a 5 star. But a couple of the keys are sticky. If they loosen up a bit I\\'ll update my review. Bought this for my wife\\'s laptop. It stopped working after just a handful of uses. When plugged in it outputs random keys and is completely unusable. Took it apart to check if it was a loose connection, but that was not the case. Deserves 5 stars but I spent many hours trying to get it to work on my PC. No where in the documentation did it say there was a tiny switch on the bottom of the unit to set it to PC or MAC. Had I known that it would have set up a lot easier because it came set to MAC. On a laptop without a NumLock Key you still might have a little work to do. Other than that it deserves 5 stars. I purchased this 10-key pad to use with Pro Tools 12. It does respond when entering numbers; however, it does not respond when modifier keys (Like Command) are required in conjunction with a number. Seems very nice so far. I\\'m using this for a left hand keypad for Sibelius on an iMac, so I can use the mouse with my right, and I had to remap the top row of keys, since they don\\'t correspond exactly to the keys on a standard Macintosh keyboard. However, Karabiner was able to remap the keys without trouble. Otherwise, looks nice, feels solid, and works well. I have a Mac laptop, which does not have the ten key on the right. I really miss that when working with a lot of figures. It was hard to find an external 10 key that was comparable with the mac. This one is perfect. It arrived on time, and was a simple plug and play. It works great, sits at a slight angle, with the top being a bit higher than the bottom. Easy to keep up a good speed by feel. Works like it should. I really like that it matches my Apple keyboard so well. Looks like they could have been packaged together. Wish it had cost a little less! Arrived promptly, well packaged and exactly as presented. It functions great and matches up cosmetically well with my other aluminum finished accessories. I chose the corded version for the simplicity of the keyboard. I just did not need the other features of the Bluetooth offerings and wanted a minimal footprint. I use it for music notation input giving me numeric keypad options now at either end of my QWERTY keyboard so either hand can be on the midi keyboard. This is a great number pad and extremely easy set up. All I did was plug it in and began typing. I will recommend this product to anyone in need of a number pad. Really happy with this product. I plugged it in and it works perfectly. Of course, would be nice to have it wireless, but from what I saw on other reviews, wired works better. The look is not the same as the apple wireless keyboard, but close enough to look nice next to it (slightly less angled, key numbers are a lighter gray, slightly clunkier). But to add this functionality, at this price, I\\'m happy. Works great! My Macbook kept saying it doesn\\'t recognize the keyboard but i just ignored it and opened up a word document and it worked immediately. The only thing I wish I would have noticed is that it doesn\\'t have an equal (=) sign. As an Accounting major, it would have been nice to notice that to begin with but if you don\\'t mind jumping back and forth between this and the keyboard - it is excellent. Other than that - I am very happy with it. Good value for the price. The description says in addition to working with Macs that it also works with Windows Vista, 7 and 8. I mistakenly assumed it would work with Windows 10. It does work with my MacBookAir, but will not work with my Windows 10 HP laptop, and that is where I have Quicken and wanted to use it. Too bad. This number keypad is a very good product. Looks and feels very similar the the original Apple keyboard. The aluminum body feels very good. The keys are a bit taller and stiffer than in the original Apple full size usb keyboard, but not bad. Great number keypad if you have a Macbook and work a lot inputing numbers. It\\'s good, does its job. Pure plastic, the stainless steel look is fake. I like this product because it does the job. The keys are a little sticky, especially the “0” key. I actually have to take time to push down the key instead of just seamlessly pushing it. Bought this keypad to go with my new iMac - this is not a perfect match on the height of the new keyboards but it works well and it certainly looks a lot better than a black or white plastic. It would be nice if this keypad was backlit, if it were I would not hesitate to get it a 5 star review. Hooked right up to my Macbook Air. It\\'s really nice looking, and the keys are better than I thought. I thought they would be really soft, and hard to tell if you pressed them. They\\'re not. It\\'s extremely easy to tell when you\\'re pressing a button. So far, it\\'s perfect. I like how well it matches my Mac, but the only thing I don\\'t like about it is that I don\\'t think the key connections are very good. Sometimes I type some numbers and it doesn\\'t register that I\\'ve hit them so I have to go back and punch them in pretty hard. Does what it supposed to do, seems good quality, I like that it doesn’t need a battery or to be charged This is a great value. However, though in the pictures it looks like it will complement the Apple keyboard, it is not level. Also, it is made of plastic. It works great though. My Mac computer doesn’t have a 10 key so I ordered this. It works great and while it doesn’t exactly match my Mac keyboard, it’s close enough and the price was good. Overall, it\\'s a good product and works as expected. However, I find the \"enter\" key to be annoying. On my computer keys, the \"enter/return\" key will return to the beginning of the first cell that was initially selected in EXCEL, however when hitting the \"enter\" key on the numeric keypad, it only goes to the cell below it. I find this annoying when trying to enter several values in multiple columns in one row and need to do the same in the following row. As advertised. Works like a charm. Has good feel and looks like it came with my brand new iMac. Easy to hook up; pretty much, just plug it in. I can\\'t function without a 9 keypad, and my new apple magic keyboard doesn\\'t have one. I ordered this one and it has speeded me up on my input. I would have like it 5 stars except the size of the keys are larger than \"normal\" and that take a little off, but it works just great. I have just switched from a pc to a Macbook Pro. The Mac doesn\\'t come with a 10-key pad, so I bought this one. I kept books for many years and missed having a 10-key built into the laptop. Now, with this one, entering numbers is easy again. I\\'m very happy with it! (And it matches my Mac.) It\\'s a normal USB numeric keyboard that looks good next to your mac. But, once again, the buyer is subject to the \"mac tax\" because of it. It\\'s plastic. It\\'s not metal. In my opinion, it\\'s not worth the price. But it looks good... Love it. Arrived quickly and on time. The only complaint I have is that I can\\'t figure out how to turn the noises off! I have a Lenovo yoga and it\\'s great but every time I plug it in and go to type up a lab report, I get these annoying beeps when I press the keys. User error probably but it\\'s still annoying. Seems like a quality keypad. No num lock button which is great for me. This numpad solves the problem of Apple\\'s fool decision to remove numpad functionality from newer MacBook models. It works flawlessly and the typing feel is very similar to your MacBook keyboard, so it feels very natural. This is a great option for those not wanting to spring for a good BT model. I like that the keys have the same touch as my Mac keyboard (same pressure required to press the keys). It sits slightly higher than my keyboard, but not noticibly so; as far as use. It does look slightly different due to the difference in size. I know it seems silly, but with all the number crunching I have to do, my wirelss apple keyboard just doesnt cut it. Solidly built & works as expected. Easy to install, and it does what I need it to. I mainly use it for quickbooks and spreadsheets. Such a life saver! As an accountant (using a client\\'s Mac) this helped me speed up my work. Great quality. Just got it today. Plugged into Mac and started working perfectly right away I am a lefty and one makes a key pad on the left side. so now i can move it anywhere. love it, wished it would of been wireless, next one i get it will. Thanks you for a great product Viewed support forums and help online, and can\\'t make the \".\" point key work. It puts an \",\" instead. Very frustrating because the math operations don\\'t give correct results. My mac, which is only one month old had difficulty recognizing this keyboard. It kept confusing it with a lettered keyboard. Not sure how I did it, but after about 30 minutes of playing with the settings, I was able to get the computer to differentiate between the two keyboards. It is very nice in that it matches the other hardware. VERY fast shipping. Thank you! Works well with my 15\" 2016 MacBook Pro, and was ready to go as soon as I plugged it into the laptop. It requires an adapter to convert to USB C for the new MacBook Pros, but this doesn\\'t seem to interfere with functionality. I\\'m also happy with the tab button feature, which helps with shifting cells when using Microsoft Excel. Nice sleek keypad. Great size and the buttons press nicely. Did not work on my desktop running Chrome OS, though. Another comment confirms it didn\\'t work on their Chromebook either. I need a 10key to do my Accounting job. and when I was working from home on a laptop, I was very slow on the number keys. This product works really nicely and is good looking to boot. Would definitely recommend. I got this keypad for my Mac because I only have the small wireless keyboard that came with it. I\\'m an accounting major, so I needed it for homework. Bought this for my son (8) so he can type numbers in faster for his math exercises. The big buttons all in one location are helpful for his little hands. My job is the accounting, and I feel that now I can type numbers faster! Love this numeric keypad! I wanted something light, easy to use and compact. This keypad did the trick. It was super easy to set up (just plug in the usb) and worked great. If you are looking for a non complicated numeric keypad..... this is the one. “Yes, it is plastic and the keys feel different than an Apple keyboard but it does everything I want. It is inexpensive, connects automatically when I plug it in and speeds up entering grades. While it is taller than a wireless keyboard I have mine attached to my track pad with a MeshWe and it is exactly the same height.” It works perfect with my mac. I so needed this when adding numbers, it just much easier. Would definitely order again. Works great. Was easy to get up and running. Only wish it had arrow keys and that it was wireless but, for the price, it is awesome. Makes life a lot easier than hunting and pecking for number keys. As an ex-accountant, I missed my ten key. Works perfectly with my MAC. Works great. I previously had a \\'LMP Bluetooth Keypad WKP-1314\\' and it was awful, never stayed connected. Love that this one connects via USB, so easy to use, I don\\'t have to worry about it losing connection, or changing the batteries! This numeric keypad is easy to use and works very well. I\\'m using it with a MacBook Pro and I\\'m very satisfied with it. I have a laptop that I use for Quickbooks entry. What a pain that the keyboard doesn\\'t have a numeric keypad! But with this item I can fly through my work with ease. And it\\'s attractive at the same time. A good fit with my Apple keyboard and trackpad. It would fit better if it were a little thinner. Bluetooth would be even better... When I plugged it in my computer thought it was a letter keyboard, but just hit delete and it works great. The keypad plugs easily into any computer. I have a MacBook Pro with OS X Yosemite and it recognized the keypad immediately; I also use the keypad on Surface Tablets with Windows 8 at University and the keypad has no trouble switching between the two different operating systems. The buttons press very similarly to that of an Apple Keyboard. I have a glass desk in my room, and even when I am inputting entire financial documents for class, the keypad does not budge which is something I greatly appreciate. My only issue is that the keypad is only slightly more elevated than the Wireless Apple Keyboard that I use. Good value and looks good. Works well but for me the keys slightly higher and stiffer than I would like. Perhaps over time that will get better. Others may find it feels great to them. This does not work with a Mac when it is using Boot Camp. The description that says it works with Windows 7. The number keys do not work when you are using 7 on Boot Camp. Love it!! It works so well and the buttons are slightly raised so your fingers glide so easily over them. Great buy!! Works great the second you plug it in! No problems yet! keys were relatively sticky and did not mimic the quality of my macbook. it felt like i had to really push hard to use them after the flow of apple keys This works great on my Mac, and I also use it when I access my Microsoft remote server from my Pac. I had one problem with the Num lock turning on in my remote environment, but the tech support team was very responsive and helpful, and the issue was resolved in no time! Nice keypad. Plugged it in and it worked right off the bat. Have had no problems with it. Would definitely buy again. Worked fine, a bit sluggish after a time and takes some getting used to, but makes data entry so much faster... I will be returning this product. For some reason it would not work with my MacPro. I gave it three stars since the company reached out to try to reach a solution. Cable WAY too short to be used on a desk top. It works. Mine has to \"+\" signs on it but the top one was actually a \"-\" sign. I kept it because it worked & there was no need to send it back.', 'pros': 'Boasts easy set up via 36-inch USB cord, allowing users to use this 18-key device, Has handy bottom switch to indicate use with a “PC” or “Mac.” Works with myriad of operating systems', 'cons': 'May be taller than your standard Mac keyboard, No equal or clear keys', 'summary': 'Reliable numeric keypad that works with Macs and PCs. Easy to use, ideal for anyone who wants a keyboard with style.', 'input_text': 'If you have to deal with numbers, you need this pad for your laptop. Simple to use, just plug it into your usb port and go. I take the time to review purchases because I know that I rely on them myself and I like to try to help others make informed decisions. If my review was helpful to you, please click the \"Helpful\" button. Descent external 9 key keyboard, however it does not have a \"delete\" button (don\\'t get fooled by the \"Back Space\" button) which is why I really wanted the external keypad. It is a little thicker than expected. I returned it because it didn\\'t have a delete button. This keypad replaced a Belkin wireless keypad, which required a battery. I found that the battery was usually \"dead\" when I wanted to use it because it would turn on when a key was pressed. This was handy when preparing to use it, but a problem when traveling with it in a suitcase! The Satechi keypad plugs into my computer, so there\\'ll be no problem with dead batteries. I\\'ve only used it once with a spreadsheet on my MacBook pro, and it was very easy to use. I plugged it in, and began to work. The length of the cord is perfect--I attached it to my computer on the left side, and I\\'m right handed. I am not saying that this is a bad calculator or number pad but I did return it because I want a little bit more and a number pad. So I am planning to spend more money and buy one of the more expensive ones. But this is a very basic number pad which will serve you well if you are tired of entering numbers across the top of the keyboard in a straight line which I find very annoying. I just wanted more. My MacBookPro 2012 did not recognize this, but it allowed me to use it. Numbers seem to enter fine, so it will work for me. The tab takes you to the cell below the one you just typed and the bk sp, erases what you just typed. I had a bluetooth Satechi that also had a forward and backup (not erase) keys, but it sometimes worked and sometimes didn\\'t. That is why I bought this one with USB. 5 stars despite the plasticky built (which was openly disclosed, but the price matches that, so it deserves full rating). It has a nifty switch on the back for selecting the right mode (PC or Mac) which I have scotch-taped over since I only use it for Mac. I use this only when traveling and stationary, so it gets gentle and little use, thus my review is not based on hardcore use. 5 stars because it fits the price and fulfills its promises to me. Price wise, this thing is excellent. The quality is definitely slightly lacking. But for what you paid, it is what it is. Obviously this is not a aluminum casing as you might have dreamed of getting it for this cheap. The buttons aren\\'t as smooth as the macbook air I have. However, price, price, price!! You have to put in a consideration that this is a budget 10 key. I myself is very happy with it as it does what it is supposed to do. It\\'s ok. The picture shown does not show that it doesn\\'t match the real iMac keyboard. This number pad is taller and the prints on each number is much lighter than that on my iMac keyboard. And since it dont line up because its not the same size/height I can use the connect bar to attach it together as one looking unit. I wouldn\\'t have purchased it if I knew that.. But it works so I took off one star for being a little deceiving. I absolutely LOVE this! I really needed it for quicker data entry. The reason for the loss of one star - it\\'s annoying that the MacBook wants to set it up as a full keyboard every time you plug it in, but you can ignore that and it still works. Also, the little bump on the 5 is too subtle for my tastes. I bought some cheap adhesive gems for my daughter and used one to put in the middle of the 5 button and it works great. I bought this because I needed an extended keyboard to set up shortcuts within InDesign. Unfortunately this number pad won\\'t work because there is no number lock. Annoyingly there is no clear button either. Which would be helpful if you are using it as a calculator. The packaging was really tough to get into, I had to cut through the plastic to get it out. So I can\\'t return it. It was easy to set up with my MAC and as other reviewers said is plastic not aluminum. Amazon and Satechi helped resolve my issue, great work team, upgrading to 5 stars I really wanted to like this but the buttons stick. I tried \"mashing\" them a little to try and get them un-stuck but no luck. I threw away the packaging so I am out of luck from a return perspective. I would keep looking This keyboard is a great companion to the Apple keyboard that does not have the numeric keys on the side.......IF you are plugging it into your MacBook directly. I use a thunderbolt display and plug the usb directly into the Thunderbolt display. The keypad works initally, then will not work at all. I tested it by plugging directly to my MacBook Pro and it worked flawlessly. However, if you use a Thunderbolt display, you use that as a docking station and plug all your accessories there. Unfortunately, this keypad does not work in that fashion. Back it goes. I am a college student who is going into Accounting. I purchased this to use with my Mac computer. I really like the keypad and it works great for school. I wish that the numbers were black instead of grey, but that is okay. I can see them okay, they just seem a little faded. I\\'ve had no problems with the keypad so far, although I have not used it a whole lot yet. Ok, so last November, after having Windows and Linux laptops, I decided to seek out the \"Dark Side\" and try an Apple Mac Book Pro. While I really like the laptop, I was missing the numeric keypad that I had on both the other laptops. When doing any type of numeric data entry, this is a MUST! It is well-constructed yet lightweight and I wish I hadn\\'t waited so long to get this. I wasn\\'t sure when purchasing but decided to give it a try as I missed my side number keys that weren\\'t on my new laptop. It works great! The only thing I can\\'t figure out how to turn off the key sounds, they are very annoying. I’m so glad I googled for something I thought it didn’t even exist and found this amazing object. It literally takes me 20 minutes less to finish my math homework and it spares me the anger I incour in every time I had to use the linear number keyboard of my MacPro While not being finished off between the housing and the keys with the tight tolerances of a genuine Apple product this keypad looks right at home sitting next to my iMac and it works well. I have it plugged into my Anker usb hub and it has alway worked. The price was right and I would buy it again. I love this keyboard! I do my financials on my laptop and I hated not having a number pad. My first keypad popped the \"enter\" key about ten days after I received it, so I contacted the company. They sent me a replacement and a label to return the first one. I\\'m very happy with it and would buy it again. Nice but feels a little mushy after a few months of use. I think the coating on the keys wears off a little fast but they just don\\'t feel as nice as they did when they were new. I think this is a common thing for all products that aren\\'t the big L brand. Four stars because I had to change some computer settings before it worked, but now it\\'s working just fine. For Mac users: check your accessibility settings to make sure Sticky Keys is turned off and you have unchecked the \"ignore built-in trackpad when mouse or wireless trackpad is present.\" This number key pad is really nice. I had another one for years, and I got tired of the clunky feel - big keys that are hard and noisy to press. This one has a really nice touch. I\\'m glad I found it. Nice 10 key. The buttons are the perfect size for someone with larger hands. I\\'ve purchased others that were smaller and had a hard time just hitting one button. This works perfect for me. I go with the usb cord because I\\'ve had several problems with others that are wireless when connecting to my mac. This thing you just plug and go. No set up. Though this product was received in a timely manner and appeared to be a good product, after opening and hooking it up to my MacBook Pro it was apparent I had made a mistake in ordering and had to return. (Thanks Amazon for your great return policy.) If you\\'re like me and are looking for an \"accounting/calculator type keypad this is not it. There are no memory function, mode, send or clear keys. It is strictly a basic numeric keypad with only backspace/delete and tab key. A more appropriate option maybe the Satechi Bluetooth Wireless Smart Keypad for iMac, MacBook Air, MacBook Pro, MacBook, and Mac Mini. This certainly gets the job done, and looks nicer than the standard thick black keypad, but it is painted plastic and the keys differ slightly from a standard Apple keypad (double check if this is important to you). Best numeric keypad I have owned. I purchased a cheap one prior and it was a piece of junk. Not only does this one match the look and height of my iMac keyboard, the touch also matches. I tend to slide it away from the keyboard until I am doing numeric entry. Better than I had expected. In fact, I have purchase another identical keyboard to use at school with my Macbook Air. UPDATE: One of my two went bad. Outside of warranty. Contacted Satechi and they replaced it anyway (I had to ship the bad one back). Well bought this last year for school and never used it. Decided to use it and the dang number 1 key won’t work after 3 days of use. Disappointed It matches the Apple keyboard exactly in appearance. It worked immediately as soon as it was plugged in with no install procedure needed. The key press feeling is positive and a little longer throw than the alpha keyboard, which I like in a number key pad. I received it on the promised date. All told, an excellent value for the money. I have no reservation in recommending this key pad and I would feel good about ordering other products from Satechi. I bought this about 2 months ago, when I started working from home. I use a 10 key every day for work, but my laptop did not have one. This plugs into my USB port on my laptop. I really liked the sleek design, which would match my Macbook very well. It lays at an angle, which I prefer. However, after 2 months of use, the 1 is starting to rub off on the key itself. The key still works fine, but the finish is rubbing off. This is the reason I did not give it 5 starts Works great. However, I returned it and bought a wireless one that doubles as a calculator that i really love. Has the feel of the wireless keyboard. What I like is the \"enter\" key (return) on lower right - easier than Apple \"return\" key, especially since I use a PC with \"enter\" key part of the time. Good for us who \"hunt and peck\". I like this keypad for the most part but it doesn\\'t have a CLEAR button, so when I try to use it with my computer\\'s calculator, I have to move my hand back to the key board if I want to clear what I typed. The UNDO button doesn\\'t work with the calculator. I am using it with a MacBook Pro laptop. It was also a hassle trying to get my Macbook to recognize it using bluetooth. Part of the trick was simply to ignore some of the things the bluetooth menu said. I found the way to do it somewhere online but I don\\'t remember the web site. Sorry. Like the design, dislike the quality of the 10-key. It takes some effort to type each number: I have to press TWICE for some numbers to print. Wanted a silver keypad. Had better & more reliable ones (but those were black), and my laptop is silver... Still works for me. The only reason it doesn\\'t get 5 stars is because it is on the cheap side of quality and don\\'t know how long it will actually work. This review was asked for only 2 days after arrival. I normally like to offer a review a month after purchase for the obvious reasons. So far it is everything I expected and a great solution for a numeric keypad when on a tight budget. I am a librarian at a public high school and this has made my job so much easier. When you get 30 loud teenagers in a room and try to hear them to look up their names, it can be a challenge. With our library program, you can look up a student by their ID number. I have this on my desk and the kids can enter in their ID number. I then verify their name and scan the book they are checking out. Best $15 I have spent! Got this because my Mac doesn\\'t have a number pad next to the regular keyboard. Since I use Excel frequently, it got to be quite a nuisance using the number keys on top of the keyboard. This was just the thing I needed! Super easy, just plug in and it works like a charm! The buttons feel great, it works seamlessly, and it\\'s nice having the long-ish cord so I can place it wherever is convenient while I have other things laid out on the desk. Only have had it for a few weeks or so, but right now I couldn\\'t be happier. This pad is great. The only quirk is the “-“ is lower than it normally is on a 10-key and in the space where it normally is, there is a backspace key. So many times when entering data, I hit backspace rather than “-“. Otherwise it would be 5 stars. works great with my MacBook air. I do a lot of spreadsheet work and simply couldn\\'t go without a number keypad. Would give a 5 star. But a couple of the keys are sticky. If they loosen up a bit I\\'ll update my review. Bought this for my wife\\'s laptop. It stopped working after just a handful of uses. When plugged in it outputs random keys and is completely unusable. Took it apart to check if it was a loose connection, but that was not the case. Deserves 5 stars but I spent many hours trying to get it to work on my PC. No where in the documentation did it say there was a tiny switch on the bottom of the unit to set it to PC or MAC. Had I known that it would have set up a lot easier because it came set to MAC. On a laptop without a NumLock Key you still might have a little work to do. Other than that it deserves 5 stars. I purchased this 10-key pad to use with Pro Tools 12. It does respond when entering numbers; however, it does not respond when modifier keys (Like Command) are required in conjunction with a number. Seems very nice so far. I\\'m using this for a left hand keypad for Sibelius on an iMac, so I can use the mouse with my right, and I had to remap the top row of keys, since they don\\'t correspond exactly to the keys on a standard Macintosh keyboard. However, Karabiner was able to remap the keys without trouble. Otherwise, looks nice, feels solid, and works well. I have a Mac laptop, which does not have the ten key on the right. I really miss that when working with a lot of figures. It was hard to find an external 10 key that was comparable with the mac. This one is perfect. It arrived on time, and was a simple plug and play. It works great, sits at a slight angle, with the top being a bit higher than the bottom. Easy to keep up a good speed by feel. Works like it should. I really like that it matches my Apple keyboard so well. Looks like they could have been packaged together. Wish it had cost a little less! Arrived promptly, well packaged and exactly as presented. It functions great and matches up cosmetically well with my other aluminum finished accessories. I chose the corded version for the simplicity of the keyboard. I just did not need the other features of the Bluetooth offerings and wanted a minimal footprint. I use it for music notation input giving me numeric keypad options now at either end of my QWERTY keyboard so either hand can be on the midi keyboard. This is a great number pad and extremely easy set up. All I did was plug it in and began typing. I will recommend this product to anyone in need of a number pad. Really happy with this product. I plugged it in and it works perfectly. Of course, would be nice to have it wireless, but from what I saw on other reviews, wired works better. The look is not the same as the apple wireless keyboard, but close enough to look nice next to it (slightly less angled, key numbers are a lighter gray, slightly clunkier). But to add this functionality, at this price, I\\'m happy. Works great! My Macbook kept saying it doesn\\'t recognize the keyboard but i just ignored it and opened up a word document and it worked immediately. The only thing I wish I would have noticed is that it doesn\\'t have an equal (=) sign. As an Accounting major, it would have been nice to notice that to begin with but if you don\\'t mind jumping back and forth between this and the keyboard - it is excellent. Other than that - I am very happy with it. Good value for the price. The description says in addition to working with Macs that it also works with Windows Vista, 7 and 8. I mistakenly assumed it would work with Windows 10. It does work with my MacBookAir, but will not work with my Windows 10 HP laptop, and that is where I have Quicken and wanted to use it. Too bad. This number keypad is a very good product. Looks and feels very similar the the original Apple keyboard. The aluminum body feels very good. The keys are a bit taller and stiffer than in the original Apple full size usb keyboard, but not bad. Great number keypad if you have a Macbook and work a lot inputing numbers. It\\'s good, does its job. Pure plastic, the stainless steel look is fake. I like this product because it does the job. The keys are a little sticky, especially the “0” key. I actually have to take time to push down the key instead of just seamlessly pushing it. Bought this keypad to go with my new iMac - this is not a perfect match on the height of the new keyboards but it works well and it certainly looks a lot better than a black or white plastic. It would be nice if this keypad was backlit, if it were I would not hesitate to get it a 5 star review. Hooked right up to my Macbook Air. It\\'s really nice looking, and the keys are better than I thought. I thought they would be really soft, and hard to tell if you pressed them. They\\'re not. It\\'s extremely easy to tell when you\\'re pressing a button. So far, it\\'s perfect. I like how well it matches my Mac, but the only thing I don\\'t like about it is that I don\\'t think the key connections are very good. Sometimes I type some numbers and it doesn\\'t register that I\\'ve hit them so I have to go back and punch them in pretty hard. Does what it supposed to do, seems good quality, I like that it doesn’t need a battery or to be charged This is a great value. However, though in the pictures it looks like it will complement the Apple keyboard, it is not level. Also, it is made of plastic. It works great though. My Mac computer doesn’t have a 10 key so I ordered this. It works great and while it doesn’t exactly match my Mac keyboard, it’s close enough and the price was good. Overall, it\\'s a good product and works as expected. However, I find the \"enter\" key to be annoying. On my computer keys, the \"enter/return\" key will return to the beginning of the first cell that was initially selected in EXCEL, however when hitting the \"enter\" key on the numeric keypad, it only goes to the cell below it. I find this annoying when trying to enter several values in multiple columns in one row and need to do the same in the following row. As advertised. Works like a charm. Has good feel and looks like it came with my brand new iMac. Easy to hook up; pretty much, just plug it in. I can\\'t function without a 9 keypad, and my new apple magic keyboard doesn\\'t have one. I ordered this one and it has speeded me up on my input. I would have like it 5 stars except the size of the keys are larger than \"normal\" and that take a little off, but it works just great. I have just switched from a pc to a Macbook Pro. The Mac doesn\\'t come with a 10-key pad, so I bought this one. I kept books for many years and missed having a 10-key built into the laptop. Now, with this one, entering numbers is easy again. I\\'m very happy with it! (And it matches my Mac.) It\\'s a normal USB numeric keyboard that looks good next to your mac. But, once again, the buyer is subject to the \"mac tax\" because of it. It\\'s plastic. It\\'s not metal. In my opinion, it\\'s not worth the price. But it looks good... Love it. Arrived quickly and on time. The only complaint I have is that I can\\'t figure out how to turn the noises off! I have a Lenovo yoga and it\\'s great but every time I plug it in and go to type up a lab report, I get these annoying beeps when I press the keys. User error probably but it\\'s still annoying. Seems like a quality keypad. No num lock button which is great for me. This numpad solves the problem of Apple\\'s fool decision to remove numpad functionality from newer MacBook models. It works flawlessly and the typing feel is very similar to your MacBook keyboard, so it feels very natural. This is a great option for those not wanting to spring for a good BT model. I like that the keys have the same touch as my Mac keyboard (same pressure required to press the keys). It sits slightly higher than my keyboard, but not noticibly so; as far as use. It does look slightly different due to the difference in size. I know it seems silly, but with all the number crunching I have to do, my wirelss apple keyboard just doesnt cut it. Solidly built & works as expected. Easy to install, and it does what I need it to. I mainly use it for quickbooks and spreadsheets. Such a life saver! As an accountant (using a client\\'s Mac) this helped me speed up my work. Great quality. Just got it today. Plugged into Mac and started working perfectly right away I am a lefty and one makes a key pad on the left side. so now i can move it anywhere. love it, wished it would of been wireless, next one i get it will. Thanks you for a great product Viewed support forums and help online, and can\\'t make the \".\" point key work. It puts an \",\" instead. Very frustrating because the math operations don\\'t give correct results. My mac, which is only one month old had difficulty recognizing this keyboard. It kept confusing it with a lettered keyboard. Not sure how I did it, but after about 30 minutes of playing with the settings, I was able to get the computer to differentiate between the two keyboards. It is very nice in that it matches the other hardware. VERY fast shipping. Thank you! Works well with my 15\" 2016 MacBook Pro, and was ready to go as soon as I plugged it into the laptop. It requires an adapter to convert to USB C for the new MacBook Pros, but this doesn\\'t seem to interfere with functionality. I\\'m also happy with the tab button feature, which helps with shifting cells when using Microsoft Excel. Nice sleek keypad. Great size and the buttons press nicely. Did not work on my desktop running Chrome OS, though. Another comment confirms it didn\\'t work on their Chromebook either. I need a 10key to do my Accounting job. and when I was working from home on a laptop, I was very slow on the number keys. This product works really nicely and is good looking to boot. Would definitely recommend. I got this keypad for my Mac because I only have the small wireless keyboard that came with it. I\\'m an accounting major, so I needed it for homework. Bought this for my son (8) so he can type numbers in faster for his math exercises. The big buttons all in one location are helpful for his little hands. My job is the accounting, and I feel that now I can type numbers faster! Love this numeric keypad! I wanted something light, easy to use and compact. This keypad did the trick. It was super easy to set up (just plug in the usb) and worked great. If you are looking for a non complicated numeric keypad..... this is the one. “Yes, it is plastic and the keys feel different than an Apple keyboard but it does everything I want. It is inexpensive, connects automatically when I plug it in and speeds up entering grades. While it is taller than a wireless keyboard I have mine attached to my track pad with a MeshWe and it is exactly the same height.” It works perfect with my mac. I so needed this when adding numbers, it just much easier. Would definitely order again. Works great. Was easy to get up and running. Only wish it had arrow keys and that it was wireless but, for the price, it is awesome. Makes life a lot easier than hunting and pecking for number keys. As an ex-accountant, I missed my ten key. Works perfectly with my MAC. Works great. I previously had a \\'LMP Bluetooth Keypad WKP-1314\\' and it was awful, never stayed connected. Love that this one connects via USB, so easy to use, I don\\'t have to worry about it losing connection, or changing the batteries! This numeric keypad is easy to use and works very well. I\\'m using it with a MacBook Pro and I\\'m very satisfied with it. I have a laptop that I use for Quickbooks entry. What a pain that the keyboard doesn\\'t have a numeric keypad! But with this item I can fly through my work with ease. And it\\'s attractive at the same time. A good fit with my Apple keyboard and trackpad. It would fit better if it were a little thinner. Bluetooth would be even better... When I plugged it in my computer thought it was a letter keyboard, but just hit delete and it works great. The keypad plugs easily into any computer. I have a MacBook Pro with OS X Yosemite and it recognized the keypad immediately; I also use the keypad on Surface Tablets with Windows 8 at University and the keypad has no trouble switching between the two different operating systems. The buttons press very similarly to that of an Apple Keyboard. I have a glass desk in my room, and even when I am inputting entire financial documents for class, the keypad does not budge which is something I greatly appreciate. My only issue is that the keypad is only slightly more elevated than the Wireless Apple Keyboard that I use. Good value and looks good. Works well but for me the keys slightly higher and stiffer than I would like. Perhaps over time that will get better. Others may find it feels great to them. This does not work with a Mac when it is using Boot Camp. The description that says it works with Windows 7. The number keys do not work when you are using 7 on Boot Camp. Love it!! It works so well and the buttons are slightly raised so your fingers glide so easily over them. Great buy!! Works great the second you plug it in! No problems yet! keys were relatively sticky and did not mimic the quality of my macbook. it felt like i had to really push hard to use them after the flow of apple keys This works great on my Mac, and I also use it when I access my Microsoft remote server from my Pac. I had one problem with the Num lock turning on in my remote environment, but the tech support team was very responsive and helpful, and the issue was resolved in no time! Nice keypad. Plugged it in and it worked right off the bat. Have had no problems with it. Would definitely buy again. Worked fine, a bit sluggish after a time and takes some getting used to, but makes data entry so much faster... I will be returning this product. For some reason it would not work with my MacPro. I gave it three stars since the company reached out to try to reach a solution. Cable WAY too short to be used on a desk top. It works. Mine has to \"+\" signs on it but the top one was actually a \"-\" sign. I kept it because it worked & there was no need to send it back.', 'target_text': 'Boasts easy set up via 36-inch USB cord, allowing users to use this 18-key device, Has handy bottom switch to indicate use with a “PC” or “Mac.” Works with myriad of operating systems. May be taller than your standard Mac keyboard, No equal or clear keys', 'input_ids': [0, 1106, 47, 33, 7, 432, 19, 1530, 6, 47, 240, 42, 11212, 13, 110, 9972, 4, 21375, 7, 304, 6, 95, 10242, 24, 88, 110, 49030, 4103, 8, 213, 4, 38, 185, 5, 86, 7, 1551, 5935, 142, 38, 216, 14, 38, 5864, 15, 106, 2185, 8, 38, 101, 7, 860, 7, 244, 643, 146, 3978, 2390, 4, 318, 127, 1551, 21, 7163, 7, 47, 6, 2540, 3753, 5, 22, 28780, 2650, 113, 6148, 4, 4762, 6342, 6731, 361, 762, 12722, 6, 959, 24, 473, 45, 33, 10, 22, 46888, 113, 6148, 36, 7254, 75, 120, 31952, 30, 5, 22, 19085, 5374, 113, 6148, 43, 61, 16, 596, 38, 269, 770, 5, 6731, 762, 19320, 4, 85, 16, 10, 410, 33997, 87, 421, 4, 38, 1835, 24, 142, 24, 399, 75, 33, 10, 17462, 6148, 4, 152, 762, 19320, 4209, 10, 4231, 4245, 6955, 762, 19320, 6, 61, 1552, 10, 3822, 4, 38, 303, 14, 5, 3822, 21, 2333, 22, 18758, 113, 77, 38, 770, 7, 304, 24, 142, 24, 74, 1004, 15, 77, 10, 762, 21, 11224, 4, 152, 21, 14732, 77, 4568, 7, 304, 24, 6, 53, 10, 936, 77, 5796, 19, 24, 11, 10, 28441, 328, 20, 208, 877, 7930, 762, 19320, 36148, 88, 127, 3034, 6, 98, 89, 581, 28, 117, 936, 19, 1462, 10535, 4, 38, 348, 129, 341, 24, 683, 19, 10, 37510, 15, 127, 20450, 1759, 6, 8, 24, 21, 182, 1365, 7, 304, 4, 38, 30251, 24, 11, 6, 8, 880, 7, 173, 4, 20, 5933, 9, 5, 13051, 16, 1969, 5579, 100, 7391, 24, 7, 127, 3034, 15, 5, 314, 526, 6, 8, 38, 437, 235, 4507, 4, 38, 524, 45, 584, 14, 42, 16, 10, 1099, 37024, 50, 346, 11212, 53, 38, 222, 671, 24, 142, 38, 236, 10, 410, 828, 55, 8, 10, 346, 11212, 4, 407, 38, 524, 1884, 7, 1930, 55, 418, 8, 907, 65, 9, 5, 55, 3214, 1980, 4, 125, 42, 16, 10, 182, 3280, 346, 11212, 61, 40, 1807, 47, 157, 114, 47, 32, 7428, 9, 4201, 1530, 420, 5, 299, 9, 5, 12722, 11, 10, 1359, 516, 61, 38, 465, 182, 19887, 4, 38, 95, 770, 55, 4, 1308, 20450, 10653, 1125, 222, 45, 5281, 42, 6, 53, 24, 1220, 162, 7, 304, 24, 4, 31415, 2045, 7, 2914, 2051, 6, 98, 24, 40, 173, 13, 162, 4, 20, 12207, 1239, 47, 7, 5, 3551, 874, 5, 65, 47, 95, 39990, 8, 5, 741, 330, 2292, 6, 3335, 9354, 99, 47, 95, 39990, 4, 38, 56, 10, 42034, 44969, 208, 877, 7930, 14, 67, 56, 10, 556, 8, 8010, 36, 3654, 24300, 43, 10654, 6, 53, 24, 2128, 1006, 8, 2128, 399, 75, 4, 280, 16, 596, 38, 2162, 42, 65, 19, 10478, 4, 195, 2690, 1135, 5, 2968, 1988, 14963, 1490, 36, 5488, 21, 9142, 4638, 6, 53, 5, 425, 2856, 14, 6, 98, 24, 8613, 455, 691, 322, 85, 34, 10, 37161, 5405, 15, 5, 124, 13, 18099, 5, 235, 5745, 36, 4794, 50, 1775, 43, 61, 38, 33, 2850, 1242, 2], 'attention_mask': [1, 1, 1, 1, 1, 1, 1, 1, 1, 1, 1, 1, 1, 1, 1, 1, 1, 1, 1, 1, 1, 1, 1, 1, 1, 1, 1, 1, 1, 1, 1, 1, 1, 1, 1, 1, 1, 1, 1, 1, 1, 1, 1, 1, 1, 1, 1, 1, 1, 1, 1, 1, 1, 1, 1, 1, 1, 1, 1, 1, 1, 1, 1, 1, 1, 1, 1, 1, 1, 1, 1, 1, 1, 1, 1, 1, 1, 1, 1, 1, 1, 1, 1, 1, 1, 1, 1, 1, 1, 1, 1, 1, 1, 1, 1, 1, 1, 1, 1, 1, 1, 1, 1, 1, 1, 1, 1, 1, 1, 1, 1, 1, 1, 1, 1, 1, 1, 1, 1, 1, 1, 1, 1, 1, 1, 1, 1, 1, 1, 1, 1, 1, 1, 1, 1, 1, 1, 1, 1, 1, 1, 1, 1, 1, 1, 1, 1, 1, 1, 1, 1, 1, 1, 1, 1, 1, 1, 1, 1, 1, 1, 1, 1, 1, 1, 1, 1, 1, 1, 1, 1, 1, 1, 1, 1, 1, 1, 1, 1, 1, 1, 1, 1, 1, 1, 1, 1, 1, 1, 1, 1, 1, 1, 1, 1, 1, 1, 1, 1, 1, 1, 1, 1, 1, 1, 1, 1, 1, 1, 1, 1, 1, 1, 1, 1, 1, 1, 1, 1, 1, 1, 1, 1, 1, 1, 1, 1, 1, 1, 1, 1, 1, 1, 1, 1, 1, 1, 1, 1, 1, 1, 1, 1, 1, 1, 1, 1, 1, 1, 1, 1, 1, 1, 1, 1, 1, 1, 1, 1, 1, 1, 1, 1, 1, 1, 1, 1, 1, 1, 1, 1, 1, 1, 1, 1, 1, 1, 1, 1, 1, 1, 1, 1, 1, 1, 1, 1, 1, 1, 1, 1, 1, 1, 1, 1, 1, 1, 1, 1, 1, 1, 1, 1, 1, 1, 1, 1, 1, 1, 1, 1, 1, 1, 1, 1, 1, 1, 1, 1, 1, 1, 1, 1, 1, 1, 1, 1, 1, 1, 1, 1, 1, 1, 1, 1, 1, 1, 1, 1, 1, 1, 1, 1, 1, 1, 1, 1, 1, 1, 1, 1, 1, 1, 1, 1, 1, 1, 1, 1, 1, 1, 1, 1, 1, 1, 1, 1, 1, 1, 1, 1, 1, 1, 1, 1, 1, 1, 1, 1, 1, 1, 1, 1, 1, 1, 1, 1, 1, 1, 1, 1, 1, 1, 1, 1, 1, 1, 1, 1, 1, 1, 1, 1, 1, 1, 1, 1, 1, 1, 1, 1, 1, 1, 1, 1, 1, 1, 1, 1, 1, 1, 1, 1, 1, 1, 1, 1, 1, 1, 1, 1, 1, 1, 1, 1, 1, 1, 1, 1, 1, 1, 1, 1, 1, 1, 1, 1, 1, 1, 1, 1, 1, 1, 1, 1, 1, 1, 1, 1, 1, 1, 1, 1, 1, 1, 1, 1, 1, 1, 1, 1, 1, 1, 1, 1, 1, 1, 1, 1, 1, 1, 1, 1, 1, 1, 1, 1, 1, 1, 1, 1, 1, 1, 1, 1, 1, 1, 1, 1, 1, 1, 1, 1, 1, 1, 1, 1, 1, 1, 1, 1, 1], 'labels': [0, 18935, 13651, 1365, 278, 62, 1241, 2491, 12, 3796, 10478, 13051, 6, 2455, 1434, 7, 304, 42, 504, 12, 5282, 2187, 6, 6233, 14732, 2576, 5405, 7, 6364, 304, 19, 10, 44, 48, 4794, 17, 46, 50, 44, 48, 17049, 4, 17, 46, 9478, 19, 19539, 9, 1633, 1743, 4, 392, 28, 26647, 87, 110, 2526, 1775, 12722, 6, 440, 3871, 50, 699, 10654, 2, 1, 1, 1, 1, 1, 1, 1, 1, 1, 1, 1, 1, 1, 1, 1, 1, 1, 1, 1, 1, 1, 1, 1, 1, 1, 1, 1, 1, 1, 1, 1, 1, 1, 1, 1, 1, 1, 1, 1, 1, 1, 1, 1, 1, 1, 1, 1, 1, 1, 1, 1, 1, 1, 1, 1, 1, 1, 1, 1, 1, 1, 1, 1, 1, 1, 1, 1, 1, 1, 1, 1, 1, 1, 1, 1, 1, 1, 1, 1, 1, 1, 1, 1, 1, 1, 1, 1, 1, 1, 1, 1, 1, 1, 1, 1, 1, 1, 1, 1, 1, 1, 1, 1, 1, 1, 1, 1, 1, 1, 1, 1, 1, 1, 1, 1, 1, 1, 1, 1, 1, 1, 1, 1, 1, 1, 1, 1, 1, 1, 1, 1, 1, 1, 1, 1, 1, 1, 1, 1, 1, 1, 1, 1, 1, 1, 1, 1, 1, 1, 1, 1, 1, 1, 1, 1, 1, 1, 1, 1, 1, 1, 1, 1, 1, 1, 1, 1, 1, 1, 1, 1, 1, 1, 1, 1, 1, 1, 1, 1, 1, 1, 1, 1, 1, 1, 1, 1, 1, 1, 1]}\n"
     ]
    }
   ],
   "source": [
    "import pandas as pd\n",
    "from datasets import Dataset\n",
    "from transformers import BartTokenizer\n",
    "from tqdm import tqdm\n",
    "\n",
    "# Load CSV data with controlled size\n",
    "def load_data(file_path, num_samples):\n",
    "    df = pd.read_csv(file_path)\n",
    "    df = df.sample(n=num_samples, random_state=42).reset_index(drop=True)  # Shuffle and take subset\n",
    "    df[\"input_text\"] = df[\"reviews\"]  # BART does not need \"summarize:\" prefix\n",
    "    df[\"target_text\"] = df[\"pros\"] + \". \" + df[\"cons\"]\n",
    "    return Dataset.from_pandas(df)\n",
    "\n",
    "# Load dataset paths\n",
    "train_path = \"bart_train_data.csv\"\n",
    "valid_path = \"bart_valid_data.csv\"\n",
    "test_path = \"bart_test_data.csv\"\n",
    "\n",
    "# Load specific number of samples\n",
    "train_dataset = load_data(train_path, 10000)\n",
    "valid_dataset = load_data(valid_path, 2500)\n",
    "test_dataset = load_data(test_path, 1000)\n",
    "\n",
    "# Load BART tokenizer\n",
    "model_name = \"facebook/bart-large-cnn\"\n",
    "tokenizer = BartTokenizer.from_pretrained(model_name)\n",
    "\n",
    "# Tokenization function\n",
    "def tokenize_function(examples):\n",
    "    model_inputs = tokenizer(\n",
    "        examples[\"input_text\"], padding=\"max_length\", truncation=True, max_length=512\n",
    "    )\n",
    "    labels = tokenizer(\n",
    "        examples[\"target_text\"], padding=\"max_length\", truncation=True, max_length=256\n",
    "    )\n",
    "    model_inputs[\"labels\"] = labels[\"input_ids\"]  # Correcting label assignment\n",
    "    return model_inputs\n",
    "\n",
    "# Tokenizing datasets\n",
    "train_dataset = train_dataset.map(tokenize_function, batched=True)\n",
    "valid_dataset = valid_dataset.map(tokenize_function, batched=True)\n",
    "test_dataset = test_dataset.map(tokenize_function, batched=True)\n",
    "\n",
    "# Save tokenized datasets to disk\n",
    "train_dataset.save_to_disk(\"tokenized_train_dataset\")\n",
    "valid_dataset.save_to_disk(\"tokenized_valid_dataset\")\n",
    "test_dataset.save_to_disk(\"tokenized_test_dataset\")\n",
    "\n",
    "# Print first sample to verify\n",
    "print(train_dataset[0])\n"
   ]
  },
  {
   "cell_type": "code",
   "execution_count": 19,
   "metadata": {
    "execution": {
     "iopub.execute_input": "2025-04-05T06:13:06.554831Z",
     "iopub.status.busy": "2025-04-05T06:13:06.554483Z",
     "iopub.status.idle": "2025-04-05T06:13:06.577890Z",
     "shell.execute_reply": "2025-04-05T06:13:06.577161Z",
     "shell.execute_reply.started": "2025-04-05T06:13:06.554803Z"
    },
    "trusted": true
   },
   "outputs": [
    {
     "name": "stdout",
     "output_type": "stream",
     "text": [
      "60-piece set includes 4 large squares, 24 small squares, 18 small triangles, 8 medium triangles and 6 large triangles, Compatible with other PicassoTiles sets. Tiles can come apart, spilling magnets on the floor, so keep away from babies and young toddlers\n"
     ]
    }
   ],
   "source": [
    "from datasets import load_from_disk\n",
    "test_dataset = load_from_disk(\"tokenized_train_dataset\")\n",
    "print(test_dataset['target_text'][1])"
   ]
  },
  {
   "cell_type": "code",
   "execution_count": 26,
   "metadata": {
    "execution": {
     "iopub.execute_input": "2025-03-21T09:03:51.509396Z",
     "iopub.status.busy": "2025-03-21T09:03:51.509057Z",
     "iopub.status.idle": "2025-03-21T09:03:51.516083Z",
     "shell.execute_reply": "2025-03-21T09:03:51.515190Z",
     "shell.execute_reply.started": "2025-03-21T09:03:51.509368Z"
    },
    "trusted": true
   },
   "outputs": [
    {
     "name": "stdout",
     "output_type": "stream",
     "text": [
      "True\n",
      "2\n",
      "Tesla T4\n",
      "2.941657543182373 GB Allocated\n",
      "3.736328125 GB Reserved\n"
     ]
    }
   ],
   "source": [
    "import torch\n",
    "print(torch.cuda.is_available())  # Should return True if GPU is detected\n",
    "print(torch.cuda.device_count())  # Number of GPUs available\n",
    "print(torch.cuda.get_device_name(0))  # Name of the GPU\n",
    "print(torch.cuda.memory_allocated() / 1024**3, \"GB Allocated\")  # Memory used\n",
    "print(torch.cuda.memory_reserved() / 1024**3, \"GB Reserved\")  # Memory reserved\n"
   ]
  },
  {
   "cell_type": "code",
   "execution_count": 24,
   "metadata": {
    "execution": {
     "iopub.execute_input": "2025-03-21T09:03:39.115479Z",
     "iopub.status.busy": "2025-03-21T09:03:39.115185Z",
     "iopub.status.idle": "2025-03-21T09:03:39.119788Z",
     "shell.execute_reply": "2025-03-21T09:03:39.118816Z",
     "shell.execute_reply.started": "2025-03-21T09:03:39.115456Z"
    },
    "trusted": true
   },
   "outputs": [],
   "source": [
    "import torch\n",
    "torch.cuda.empty_cache()\n"
   ]
  },
  {
   "cell_type": "code",
   "execution_count": 25,
   "metadata": {
    "execution": {
     "iopub.execute_input": "2025-03-21T09:03:44.113458Z",
     "iopub.status.busy": "2025-03-21T09:03:44.113183Z",
     "iopub.status.idle": "2025-03-21T09:03:44.773606Z",
     "shell.execute_reply": "2025-03-21T09:03:44.772702Z",
     "shell.execute_reply.started": "2025-03-21T09:03:44.113438Z"
    },
    "trusted": true
   },
   "outputs": [],
   "source": [
    "import gc\n",
    "gc.collect()\n",
    "torch.cuda.empty_cache()\n"
   ]
  },
  {
   "cell_type": "code",
   "execution_count": 20,
   "metadata": {
    "execution": {
     "iopub.execute_input": "2025-04-05T06:13:28.822174Z",
     "iopub.status.busy": "2025-04-05T06:13:28.821833Z",
     "iopub.status.idle": "2025-04-05T06:13:34.420012Z",
     "shell.execute_reply": "2025-04-05T06:13:34.419144Z",
     "shell.execute_reply.started": "2025-04-05T06:13:28.822152Z"
    },
    "trusted": true
   },
   "outputs": [
    {
     "name": "stdout",
     "output_type": "stream",
     "text": [
      "Requirement already satisfied: transformers in /usr/local/lib/python3.10/dist-packages (4.47.0)\n",
      "Requirement already satisfied: datasets in /usr/local/lib/python3.10/dist-packages (3.3.1)\n",
      "Requirement already satisfied: torch in /usr/local/lib/python3.10/dist-packages (2.5.1+cu121)\n",
      "Requirement already satisfied: tqdm in /usr/local/lib/python3.10/dist-packages (4.67.1)\n",
      "Requirement already satisfied: filelock in /usr/local/lib/python3.10/dist-packages (from transformers) (3.17.0)\n",
      "Requirement already satisfied: huggingface-hub<1.0,>=0.24.0 in /usr/local/lib/python3.10/dist-packages (from transformers) (0.29.0)\n",
      "Requirement already satisfied: numpy>=1.17 in /usr/local/lib/python3.10/dist-packages (from transformers) (1.26.4)\n",
      "Requirement already satisfied: packaging>=20.0 in /usr/local/lib/python3.10/dist-packages (from transformers) (24.2)\n",
      "Requirement already satisfied: pyyaml>=5.1 in /usr/local/lib/python3.10/dist-packages (from transformers) (6.0.2)\n",
      "Requirement already satisfied: regex!=2019.12.17 in /usr/local/lib/python3.10/dist-packages (from transformers) (2024.11.6)\n",
      "Requirement already satisfied: requests in /usr/local/lib/python3.10/dist-packages (from transformers) (2.32.3)\n",
      "Requirement already satisfied: tokenizers<0.22,>=0.21 in /usr/local/lib/python3.10/dist-packages (from transformers) (0.21.0)\n",
      "Requirement already satisfied: safetensors>=0.4.1 in /usr/local/lib/python3.10/dist-packages (from transformers) (0.4.5)\n",
      "Requirement already satisfied: pyarrow>=15.0.0 in /usr/local/lib/python3.10/dist-packages (from datasets) (19.0.1)\n",
      "Requirement already satisfied: dill<0.3.9,>=0.3.0 in /usr/local/lib/python3.10/dist-packages (from datasets) (0.3.8)\n",
      "Requirement already satisfied: pandas in /usr/local/lib/python3.10/dist-packages (from datasets) (2.2.3)\n",
      "Requirement already satisfied: xxhash in /usr/local/lib/python3.10/dist-packages (from datasets) (3.5.0)\n",
      "Requirement already satisfied: multiprocess<0.70.17 in /usr/local/lib/python3.10/dist-packages (from datasets) (0.70.16)\n",
      "Requirement already satisfied: fsspec<=2024.12.0,>=2023.1.0 in /usr/local/lib/python3.10/dist-packages (from fsspec[http]<=2024.12.0,>=2023.1.0->datasets) (2024.12.0)\n",
      "Requirement already satisfied: aiohttp in /usr/local/lib/python3.10/dist-packages (from datasets) (3.11.12)\n",
      "Requirement already satisfied: typing-extensions>=4.8.0 in /usr/local/lib/python3.10/dist-packages (from torch) (4.12.2)\n",
      "Requirement already satisfied: networkx in /usr/local/lib/python3.10/dist-packages (from torch) (3.4.2)\n",
      "Requirement already satisfied: jinja2 in /usr/local/lib/python3.10/dist-packages (from torch) (3.1.4)\n",
      "Requirement already satisfied: sympy==1.13.1 in /usr/local/lib/python3.10/dist-packages (from torch) (1.13.1)\n",
      "Requirement already satisfied: mpmath<1.4,>=1.1.0 in /usr/local/lib/python3.10/dist-packages (from sympy==1.13.1->torch) (1.3.0)\n",
      "Requirement already satisfied: aiohappyeyeballs>=2.3.0 in /usr/local/lib/python3.10/dist-packages (from aiohttp->datasets) (2.4.6)\n",
      "Requirement already satisfied: aiosignal>=1.1.2 in /usr/local/lib/python3.10/dist-packages (from aiohttp->datasets) (1.3.2)\n",
      "Requirement already satisfied: async-timeout<6.0,>=4.0 in /usr/local/lib/python3.10/dist-packages (from aiohttp->datasets) (5.0.1)\n",
      "Requirement already satisfied: attrs>=17.3.0 in /usr/local/lib/python3.10/dist-packages (from aiohttp->datasets) (25.1.0)\n",
      "Requirement already satisfied: frozenlist>=1.1.1 in /usr/local/lib/python3.10/dist-packages (from aiohttp->datasets) (1.5.0)\n",
      "Requirement already satisfied: multidict<7.0,>=4.5 in /usr/local/lib/python3.10/dist-packages (from aiohttp->datasets) (6.1.0)\n",
      "Requirement already satisfied: propcache>=0.2.0 in /usr/local/lib/python3.10/dist-packages (from aiohttp->datasets) (0.2.1)\n",
      "Requirement already satisfied: yarl<2.0,>=1.17.0 in /usr/local/lib/python3.10/dist-packages (from aiohttp->datasets) (1.18.3)\n",
      "Requirement already satisfied: mkl_fft in /usr/local/lib/python3.10/dist-packages (from numpy>=1.17->transformers) (1.3.8)\n",
      "Requirement already satisfied: mkl_random in /usr/local/lib/python3.10/dist-packages (from numpy>=1.17->transformers) (1.2.4)\n",
      "Requirement already satisfied: mkl_umath in /usr/local/lib/python3.10/dist-packages (from numpy>=1.17->transformers) (0.1.1)\n",
      "Requirement already satisfied: mkl in /usr/local/lib/python3.10/dist-packages (from numpy>=1.17->transformers) (2025.0.1)\n",
      "Requirement already satisfied: tbb4py in /usr/local/lib/python3.10/dist-packages (from numpy>=1.17->transformers) (2022.0.0)\n",
      "Requirement already satisfied: mkl-service in /usr/local/lib/python3.10/dist-packages (from numpy>=1.17->transformers) (2.4.1)\n",
      "Requirement already satisfied: charset-normalizer<4,>=2 in /usr/local/lib/python3.10/dist-packages (from requests->transformers) (3.4.1)\n",
      "Requirement already satisfied: idna<4,>=2.5 in /usr/local/lib/python3.10/dist-packages (from requests->transformers) (3.10)\n",
      "Requirement already satisfied: urllib3<3,>=1.21.1 in /usr/local/lib/python3.10/dist-packages (from requests->transformers) (2.3.0)\n",
      "Requirement already satisfied: certifi>=2017.4.17 in /usr/local/lib/python3.10/dist-packages (from requests->transformers) (2025.1.31)\n",
      "Requirement already satisfied: MarkupSafe>=2.0 in /usr/local/lib/python3.10/dist-packages (from jinja2->torch) (3.0.2)\n",
      "Requirement already satisfied: python-dateutil>=2.8.2 in /usr/local/lib/python3.10/dist-packages (from pandas->datasets) (2.9.0.post0)\n",
      "Requirement already satisfied: pytz>=2020.1 in /usr/local/lib/python3.10/dist-packages (from pandas->datasets) (2025.1)\n",
      "Requirement already satisfied: tzdata>=2022.7 in /usr/local/lib/python3.10/dist-packages (from pandas->datasets) (2025.1)\n",
      "Requirement already satisfied: six>=1.5 in /usr/local/lib/python3.10/dist-packages (from python-dateutil>=2.8.2->pandas->datasets) (1.17.0)\n",
      "Requirement already satisfied: intel-openmp>=2024 in /usr/local/lib/python3.10/dist-packages (from mkl->numpy>=1.17->transformers) (2024.2.0)\n",
      "Requirement already satisfied: tbb==2022.* in /usr/local/lib/python3.10/dist-packages (from mkl->numpy>=1.17->transformers) (2022.0.0)\n",
      "Requirement already satisfied: tcmlib==1.* in /usr/local/lib/python3.10/dist-packages (from tbb==2022.*->mkl->numpy>=1.17->transformers) (1.2.0)\n",
      "Requirement already satisfied: intel-cmplr-lib-rt in /usr/local/lib/python3.10/dist-packages (from mkl_umath->numpy>=1.17->transformers) (2024.2.0)\n",
      "Requirement already satisfied: intel-cmplr-lib-ur==2024.2.0 in /usr/local/lib/python3.10/dist-packages (from intel-openmp>=2024->mkl->numpy>=1.17->transformers) (2024.2.0)\n",
      "Note: you may need to restart the kernel to use updated packages.\n"
     ]
    }
   ],
   "source": [
    "pip install transformers datasets torch tqdm\n"
   ]
  },
  {
   "cell_type": "code",
   "execution_count": 8,
   "metadata": {
    "execution": {
     "iopub.execute_input": "2025-04-05T08:49:50.509742Z",
     "iopub.status.busy": "2025-04-05T08:49:50.509377Z",
     "iopub.status.idle": "2025-04-05T09:55:57.660445Z",
     "shell.execute_reply": "2025-04-05T09:55:57.659580Z",
     "shell.execute_reply.started": "2025-04-05T08:49:50.509717Z"
    },
    "trusted": true
   },
   "outputs": [
    {
     "data": {
      "application/vnd.jupyter.widget-view+json": {
       "model_id": "06b285479e47459796a4d3df119b49db",
       "version_major": 2,
       "version_minor": 0
      },
      "text/plain": [
       "model.safetensors:   0%|          | 0.00/1.63G [00:00<?, ?B/s]"
      ]
     },
     "metadata": {},
     "output_type": "display_data"
    },
    {
     "data": {
      "application/vnd.jupyter.widget-view+json": {
       "model_id": "dd217db21fd445fd879df06d8162b9b9",
       "version_major": 2,
       "version_minor": 0
      },
      "text/plain": [
       "generation_config.json:   0%|          | 0.00/363 [00:00<?, ?B/s]"
      ]
     },
     "metadata": {},
     "output_type": "display_data"
    },
    {
     "name": "stderr",
     "output_type": "stream",
     "text": [
      "/usr/local/lib/python3.10/dist-packages/transformers/training_args.py:1575: FutureWarning: `evaluation_strategy` is deprecated and will be removed in version 4.46 of 🤗 Transformers. Use `eval_strategy` instead\n",
      "  warnings.warn(\n",
      "/usr/local/lib/python3.10/dist-packages/torch/nn/parallel/_functions.py:71: UserWarning: Was asked to gather along dimension 0, but all input tensors were scalars; will instead unsqueeze and return a vector.\n",
      "  warnings.warn(\n"
     ]
    },
    {
     "data": {
      "text/html": [
       "\n",
       "    <div>\n",
       "      \n",
       "      <progress value='1250' max='1250' style='width:300px; height:20px; vertical-align: middle;'></progress>\n",
       "      [1250/1250 1:05:29, Epoch 2/2]\n",
       "    </div>\n",
       "    <table border=\"1\" class=\"dataframe\">\n",
       "  <thead>\n",
       " <tr style=\"text-align: left;\">\n",
       "      <th>Epoch</th>\n",
       "      <th>Training Loss</th>\n",
       "      <th>Validation Loss</th>\n",
       "    </tr>\n",
       "  </thead>\n",
       "  <tbody>\n",
       "    <tr>\n",
       "      <td>1</td>\n",
       "      <td>1.095300</td>\n",
       "      <td>0.808296</td>\n",
       "    </tr>\n",
       "    <tr>\n",
       "      <td>2</td>\n",
       "      <td>0.753900</td>\n",
       "      <td>0.794872</td>\n",
       "    </tr>\n",
       "  </tbody>\n",
       "</table><p>"
      ],
      "text/plain": [
       "<IPython.core.display.HTML object>"
      ]
     },
     "metadata": {},
     "output_type": "display_data"
    },
    {
     "name": "stderr",
     "output_type": "stream",
     "text": [
      "/usr/local/lib/python3.10/dist-packages/transformers/modeling_utils.py:2817: UserWarning: Moving the following attributes in the config to the generation config: {'max_length': 142, 'min_length': 56, 'early_stopping': True, 'num_beams': 4, 'length_penalty': 2.0, 'no_repeat_ngram_size': 3, 'forced_bos_token_id': 0}. You are seeing this warning because you've set generation parameters in the model config, as opposed to in the generation config.\n",
      "  warnings.warn(\n",
      "/usr/local/lib/python3.10/dist-packages/torch/nn/parallel/_functions.py:71: UserWarning: Was asked to gather along dimension 0, but all input tensors were scalars; will instead unsqueeze and return a vector.\n",
      "  warnings.warn(\n",
      "/usr/local/lib/python3.10/dist-packages/torch/nn/parallel/_functions.py:71: UserWarning: Was asked to gather along dimension 0, but all input tensors were scalars; will instead unsqueeze and return a vector.\n",
      "  warnings.warn(\n",
      "There were missing keys in the checkpoint model loaded: ['model.encoder.embed_tokens.weight', 'model.decoder.embed_tokens.weight', 'lm_head.weight'].\n"
     ]
    },
    {
     "data": {
      "text/plain": [
       "('./best_bart_model/tokenizer_config.json',\n",
       " './best_bart_model/special_tokens_map.json',\n",
       " './best_bart_model/vocab.json',\n",
       " './best_bart_model/merges.txt',\n",
       " './best_bart_model/added_tokens.json')"
      ]
     },
     "execution_count": 8,
     "metadata": {},
     "output_type": "execute_result"
    }
   ],
   "source": [
    "import torch\n",
    "from transformers import BartForConditionalGeneration, BartTokenizer, Trainer, TrainingArguments\n",
    "from datasets import load_from_disk\n",
    "\n",
    "# Load tokenized datasets\n",
    "train_dataset = load_from_disk(\"tokenized_train_dataset\")\n",
    "valid_dataset = load_from_disk(\"tokenized_valid_dataset\")\n",
    "\n",
    "# Load model and tokenizer\n",
    "model_name = \"facebook/bart-large-cnn\"\n",
    "tokenizer = BartTokenizer.from_pretrained(model_name)\n",
    "model = BartForConditionalGeneration.from_pretrained(model_name)\n",
    "\n",
    "# Define training arguments\n",
    "training_args = TrainingArguments(\n",
    "    output_dir=\"./bart-finetuned\",\n",
    "    evaluation_strategy=\"epoch\",\n",
    "    save_strategy=\"epoch\",\n",
    "    save_total_limit=2,  # Keep only the best two models\n",
    "    load_best_model_at_end=True,\n",
    "    metric_for_best_model=\"eval_loss\",\n",
    "    greater_is_better=False,\n",
    "    per_device_train_batch_size=8,\n",
    "    per_device_eval_batch_size=8,\n",
    "    num_train_epochs=2,\n",
    "    weight_decay=0.01,\n",
    "    logging_dir=\"./logs\",\n",
    "    logging_steps=500,\n",
    "    save_steps=1000,\n",
    "    eval_steps=1000,\n",
    "    report_to=\"none\",\n",
    ")\n",
    "\n",
    "# Define trainer\n",
    "trainer = Trainer(\n",
    "    model=model,\n",
    "    args=training_args,\n",
    "    train_dataset=train_dataset,\n",
    "    eval_dataset=valid_dataset,\n",
    ")\n",
    "\n",
    "# Train model\n",
    "trainer.train()\n",
    "\n",
    "# Save best model\n",
    "trainer.save_model(\"./best_bart_model\")\n",
    "tokenizer.save_pretrained(\"./best_bart_model\")\n"
   ]
  },
  {
   "cell_type": "code",
   "execution_count": 9,
   "metadata": {
    "execution": {
     "iopub.execute_input": "2025-04-05T10:01:47.945005Z",
     "iopub.status.busy": "2025-04-05T10:01:47.944194Z",
     "iopub.status.idle": "2025-04-05T10:01:52.661489Z",
     "shell.execute_reply": "2025-04-05T10:01:52.660533Z",
     "shell.execute_reply.started": "2025-04-05T10:01:47.944967Z"
    },
    "trusted": true
   },
   "outputs": [
    {
     "data": {
      "text/plain": [
       "('best_bart_model/tokenizer_config.json',\n",
       " 'best_bart_model/special_tokens_map.json',\n",
       " 'best_bart_model/vocab.json',\n",
       " 'best_bart_model/merges.txt',\n",
       " 'best_bart_model/added_tokens.json')"
      ]
     },
     "execution_count": 9,
     "metadata": {},
     "output_type": "execute_result"
    }
   ],
   "source": [
    "\n",
    "model.save_pretrained(\"best_bart_model\")\n",
    "tokenizer.save_pretrained(\"best_bart_model\")\n"
   ]
  },
  {
   "cell_type": "code",
   "execution_count": 10,
   "metadata": {
    "execution": {
     "iopub.execute_input": "2025-04-05T10:02:08.460018Z",
     "iopub.status.busy": "2025-04-05T10:02:08.459679Z",
     "iopub.status.idle": "2025-04-05T10:03:27.865059Z",
     "shell.execute_reply": "2025-04-05T10:03:27.864333Z",
     "shell.execute_reply.started": "2025-04-05T10:02:08.459987Z"
    },
    "trusted": true
   },
   "outputs": [
    {
     "data": {
      "text/plain": [
       "'/kaggle/working/best_bart_model.zip'"
      ]
     },
     "execution_count": 10,
     "metadata": {},
     "output_type": "execute_result"
    }
   ],
   "source": [
    "import shutil\n",
    "\n",
    "# Zip the model directory\n",
    "shutil.make_archive(\"best_bart_model\", 'zip', \"best_bart_model\")\n"
   ]
  },
  {
   "cell_type": "code",
   "execution_count": 11,
   "metadata": {
    "execution": {
     "iopub.execute_input": "2025-04-05T10:03:51.562367Z",
     "iopub.status.busy": "2025-04-05T10:03:51.562049Z",
     "iopub.status.idle": "2025-04-05T10:03:51.567791Z",
     "shell.execute_reply": "2025-04-05T10:03:51.567126Z",
     "shell.execute_reply.started": "2025-04-05T10:03:51.562340Z"
    },
    "trusted": true
   },
   "outputs": [
    {
     "data": {
      "text/html": [
       "<a href='best_bart_model.zip' target='_blank'>best_bart_model.zip</a><br>"
      ],
      "text/plain": [
       "/kaggle/working/best_bart_model.zip"
      ]
     },
     "execution_count": 11,
     "metadata": {},
     "output_type": "execute_result"
    }
   ],
   "source": [
    "from IPython.display import FileLink\n",
    "\n",
    "FileLink(r'best_bart_model.zip')\n",
    "\n"
   ]
  },
  {
   "cell_type": "code",
   "execution_count": 12,
   "metadata": {
    "execution": {
     "iopub.execute_input": "2025-04-05T10:08:04.140657Z",
     "iopub.status.busy": "2025-04-05T10:08:04.140263Z",
     "iopub.status.idle": "2025-04-05T10:08:05.876478Z",
     "shell.execute_reply": "2025-04-05T10:08:05.875549Z",
     "shell.execute_reply.started": "2025-04-05T10:08:04.140632Z"
    },
    "trusted": true
   },
   "outputs": [
    {
     "name": "stderr",
     "output_type": "stream",
     "text": [
      "/usr/local/lib/python3.10/dist-packages/transformers/models/bart/configuration_bart.py:176: UserWarning: Please make sure the config includes `forced_bos_token_id=0` in future versions. The config can simply be saved and uploaded again to be fixed.\n",
      "  warnings.warn(\n"
     ]
    },
    {
     "data": {
      "text/plain": [
       "BartForConditionalGeneration(\n",
       "  (model): BartModel(\n",
       "    (shared): BartScaledWordEmbedding(50264, 1024, padding_idx=1)\n",
       "    (encoder): BartEncoder(\n",
       "      (embed_tokens): BartScaledWordEmbedding(50264, 1024, padding_idx=1)\n",
       "      (embed_positions): BartLearnedPositionalEmbedding(1026, 1024)\n",
       "      (layers): ModuleList(\n",
       "        (0-11): 12 x BartEncoderLayer(\n",
       "          (self_attn): BartSdpaAttention(\n",
       "            (k_proj): Linear(in_features=1024, out_features=1024, bias=True)\n",
       "            (v_proj): Linear(in_features=1024, out_features=1024, bias=True)\n",
       "            (q_proj): Linear(in_features=1024, out_features=1024, bias=True)\n",
       "            (out_proj): Linear(in_features=1024, out_features=1024, bias=True)\n",
       "          )\n",
       "          (self_attn_layer_norm): LayerNorm((1024,), eps=1e-05, elementwise_affine=True)\n",
       "          (activation_fn): GELUActivation()\n",
       "          (fc1): Linear(in_features=1024, out_features=4096, bias=True)\n",
       "          (fc2): Linear(in_features=4096, out_features=1024, bias=True)\n",
       "          (final_layer_norm): LayerNorm((1024,), eps=1e-05, elementwise_affine=True)\n",
       "        )\n",
       "      )\n",
       "      (layernorm_embedding): LayerNorm((1024,), eps=1e-05, elementwise_affine=True)\n",
       "    )\n",
       "    (decoder): BartDecoder(\n",
       "      (embed_tokens): BartScaledWordEmbedding(50264, 1024, padding_idx=1)\n",
       "      (embed_positions): BartLearnedPositionalEmbedding(1026, 1024)\n",
       "      (layers): ModuleList(\n",
       "        (0-11): 12 x BartDecoderLayer(\n",
       "          (self_attn): BartSdpaAttention(\n",
       "            (k_proj): Linear(in_features=1024, out_features=1024, bias=True)\n",
       "            (v_proj): Linear(in_features=1024, out_features=1024, bias=True)\n",
       "            (q_proj): Linear(in_features=1024, out_features=1024, bias=True)\n",
       "            (out_proj): Linear(in_features=1024, out_features=1024, bias=True)\n",
       "          )\n",
       "          (activation_fn): GELUActivation()\n",
       "          (self_attn_layer_norm): LayerNorm((1024,), eps=1e-05, elementwise_affine=True)\n",
       "          (encoder_attn): BartSdpaAttention(\n",
       "            (k_proj): Linear(in_features=1024, out_features=1024, bias=True)\n",
       "            (v_proj): Linear(in_features=1024, out_features=1024, bias=True)\n",
       "            (q_proj): Linear(in_features=1024, out_features=1024, bias=True)\n",
       "            (out_proj): Linear(in_features=1024, out_features=1024, bias=True)\n",
       "          )\n",
       "          (encoder_attn_layer_norm): LayerNorm((1024,), eps=1e-05, elementwise_affine=True)\n",
       "          (fc1): Linear(in_features=1024, out_features=4096, bias=True)\n",
       "          (fc2): Linear(in_features=4096, out_features=1024, bias=True)\n",
       "          (final_layer_norm): LayerNorm((1024,), eps=1e-05, elementwise_affine=True)\n",
       "        )\n",
       "      )\n",
       "      (layernorm_embedding): LayerNorm((1024,), eps=1e-05, elementwise_affine=True)\n",
       "    )\n",
       "  )\n",
       "  (lm_head): Linear(in_features=1024, out_features=50264, bias=False)\n",
       ")"
      ]
     },
     "execution_count": 12,
     "metadata": {},
     "output_type": "execute_result"
    }
   ],
   "source": [
    "import torch\n",
    "from transformers import BartForConditionalGeneration, BartTokenizer\n",
    "from datasets import load_from_disk\n",
    "\n",
    "# Load fine-tuned BART model and tokenizer\n",
    "model_path = \"/kaggle/working/best_bart_model\"  # Replace with the path to your fine-tuned BART model\n",
    "model = BartForConditionalGeneration.from_pretrained(model_path)\n",
    "tokenizer = BartTokenizer.from_pretrained(model_path)\n",
    "\n",
    "# Load tokenized test dataset\n",
    "test_dataset = load_from_disk(\"tokenized_test_dataset\")\n",
    "\n",
    "# Convert to PyTorch format\n",
    "# For BART, usually [\"input_ids\", \"attention_mask\", \"labels\"] are enough\n",
    "test_dataset.set_format(type=\"torch\", columns=[\"input_ids\", \"attention_mask\", \"labels\"])\n",
    "\n",
    "# Move model to GPU if available\n",
    "device = torch.device(\"cuda\" if torch.cuda.is_available() else \"cpu\")\n",
    "model.to(device)\n"
   ]
  },
  {
   "cell_type": "code",
   "execution_count": 13,
   "metadata": {
    "execution": {
     "iopub.execute_input": "2025-04-05T10:08:13.390236Z",
     "iopub.status.busy": "2025-04-05T10:08:13.389939Z",
     "iopub.status.idle": "2025-04-05T10:08:13.401894Z",
     "shell.execute_reply": "2025-04-05T10:08:13.401036Z",
     "shell.execute_reply.started": "2025-04-05T10:08:13.390211Z"
    },
    "trusted": true
   },
   "outputs": [
    {
     "name": "stdout",
     "output_type": "stream",
     "text": [
      "Well-made locks, Work well on zippers and small lockers, Company is responsive if you have problems with the locks, Locks come in orange or black. Setting the combination can be a little difficult, Some people have a hard time reopening their locks\n"
     ]
    }
   ],
   "source": [
    "print(test_dataset['target_text'][0])"
   ]
  },
  {
   "cell_type": "code",
   "execution_count": 14,
   "metadata": {
    "execution": {
     "iopub.execute_input": "2025-04-05T10:08:18.172223Z",
     "iopub.status.busy": "2025-04-05T10:08:18.171940Z",
     "iopub.status.idle": "2025-04-05T10:08:27.341980Z",
     "shell.execute_reply": "2025-04-05T10:08:27.341042Z",
     "shell.execute_reply.started": "2025-04-05T10:08:18.172200Z"
    },
    "trusted": true
   },
   "outputs": [
    {
     "name": "stdout",
     "output_type": "stream",
     "text": [
      "Collecting rouge-score\n",
      "  Downloading rouge_score-0.1.2.tar.gz (17 kB)\n",
      "  Preparing metadata (setup.py) ... \u001b[?25l\u001b[?25hdone\n",
      "Requirement already satisfied: absl-py in /usr/local/lib/python3.10/dist-packages (from rouge-score) (1.4.0)\n",
      "Requirement already satisfied: nltk in /usr/local/lib/python3.10/dist-packages (from rouge-score) (3.2.4)\n",
      "Requirement already satisfied: numpy in /usr/local/lib/python3.10/dist-packages (from rouge-score) (1.26.4)\n",
      "Requirement already satisfied: six>=1.14.0 in /usr/local/lib/python3.10/dist-packages (from rouge-score) (1.17.0)\n",
      "Requirement already satisfied: mkl_fft in /usr/local/lib/python3.10/dist-packages (from numpy->rouge-score) (1.3.8)\n",
      "Requirement already satisfied: mkl_random in /usr/local/lib/python3.10/dist-packages (from numpy->rouge-score) (1.2.4)\n",
      "Requirement already satisfied: mkl_umath in /usr/local/lib/python3.10/dist-packages (from numpy->rouge-score) (0.1.1)\n",
      "Requirement already satisfied: mkl in /usr/local/lib/python3.10/dist-packages (from numpy->rouge-score) (2025.0.1)\n",
      "Requirement already satisfied: tbb4py in /usr/local/lib/python3.10/dist-packages (from numpy->rouge-score) (2022.0.0)\n",
      "Requirement already satisfied: mkl-service in /usr/local/lib/python3.10/dist-packages (from numpy->rouge-score) (2.4.1)\n",
      "Requirement already satisfied: intel-openmp>=2024 in /usr/local/lib/python3.10/dist-packages (from mkl->numpy->rouge-score) (2024.2.0)\n",
      "Requirement already satisfied: tbb==2022.* in /usr/local/lib/python3.10/dist-packages (from mkl->numpy->rouge-score) (2022.0.0)\n",
      "Requirement already satisfied: tcmlib==1.* in /usr/local/lib/python3.10/dist-packages (from tbb==2022.*->mkl->numpy->rouge-score) (1.2.0)\n",
      "Requirement already satisfied: intel-cmplr-lib-rt in /usr/local/lib/python3.10/dist-packages (from mkl_umath->numpy->rouge-score) (2024.2.0)\n",
      "Requirement already satisfied: intel-cmplr-lib-ur==2024.2.0 in /usr/local/lib/python3.10/dist-packages (from intel-openmp>=2024->mkl->numpy->rouge-score) (2024.2.0)\n",
      "Building wheels for collected packages: rouge-score\n",
      "  Building wheel for rouge-score (setup.py) ... \u001b[?25l\u001b[?25hdone\n",
      "  Created wheel for rouge-score: filename=rouge_score-0.1.2-py3-none-any.whl size=24935 sha256=4cbac8f8922dcb2ae00e1e69f02380b6978bbee8d68c94dd01042d7726d28792\n",
      "  Stored in directory: /root/.cache/pip/wheels/5f/dd/89/461065a73be61a532ff8599a28e9beef17985c9e9c31e541b4\n",
      "Successfully built rouge-score\n",
      "Installing collected packages: rouge-score\n",
      "Successfully installed rouge-score-0.1.2\n",
      "Note: you may need to restart the kernel to use updated packages.\n"
     ]
    }
   ],
   "source": [
    "pip install rouge-score"
   ]
  },
  {
   "cell_type": "code",
   "execution_count": 15,
   "metadata": {
    "execution": {
     "iopub.execute_input": "2025-04-05T10:08:38.556874Z",
     "iopub.status.busy": "2025-04-05T10:08:38.556505Z",
     "iopub.status.idle": "2025-04-05T10:08:42.486603Z",
     "shell.execute_reply": "2025-04-05T10:08:42.485712Z",
     "shell.execute_reply.started": "2025-04-05T10:08:38.556841Z"
    },
    "trusted": true
   },
   "outputs": [
    {
     "name": "stdout",
     "output_type": "stream",
     "text": [
      "Collecting evaluate\n",
      "  Downloading evaluate-0.4.3-py3-none-any.whl.metadata (9.2 kB)\n",
      "Requirement already satisfied: datasets>=2.0.0 in /usr/local/lib/python3.10/dist-packages (from evaluate) (3.3.1)\n",
      "Requirement already satisfied: numpy>=1.17 in /usr/local/lib/python3.10/dist-packages (from evaluate) (1.26.4)\n",
      "Requirement already satisfied: dill in /usr/local/lib/python3.10/dist-packages (from evaluate) (0.3.8)\n",
      "Requirement already satisfied: pandas in /usr/local/lib/python3.10/dist-packages (from evaluate) (2.2.3)\n",
      "Requirement already satisfied: requests>=2.19.0 in /usr/local/lib/python3.10/dist-packages (from evaluate) (2.32.3)\n",
      "Requirement already satisfied: tqdm>=4.62.1 in /usr/local/lib/python3.10/dist-packages (from evaluate) (4.67.1)\n",
      "Requirement already satisfied: xxhash in /usr/local/lib/python3.10/dist-packages (from evaluate) (3.5.0)\n",
      "Requirement already satisfied: multiprocess in /usr/local/lib/python3.10/dist-packages (from evaluate) (0.70.16)\n",
      "Requirement already satisfied: fsspec>=2021.05.0 in /usr/local/lib/python3.10/dist-packages (from fsspec[http]>=2021.05.0->evaluate) (2024.12.0)\n",
      "Requirement already satisfied: huggingface-hub>=0.7.0 in /usr/local/lib/python3.10/dist-packages (from evaluate) (0.29.0)\n",
      "Requirement already satisfied: packaging in /usr/local/lib/python3.10/dist-packages (from evaluate) (24.2)\n",
      "Requirement already satisfied: filelock in /usr/local/lib/python3.10/dist-packages (from datasets>=2.0.0->evaluate) (3.17.0)\n",
      "Requirement already satisfied: pyarrow>=15.0.0 in /usr/local/lib/python3.10/dist-packages (from datasets>=2.0.0->evaluate) (19.0.1)\n",
      "Requirement already satisfied: aiohttp in /usr/local/lib/python3.10/dist-packages (from datasets>=2.0.0->evaluate) (3.11.12)\n",
      "Requirement already satisfied: pyyaml>=5.1 in /usr/local/lib/python3.10/dist-packages (from datasets>=2.0.0->evaluate) (6.0.2)\n",
      "Requirement already satisfied: typing-extensions>=3.7.4.3 in /usr/local/lib/python3.10/dist-packages (from huggingface-hub>=0.7.0->evaluate) (4.12.2)\n",
      "Requirement already satisfied: mkl_fft in /usr/local/lib/python3.10/dist-packages (from numpy>=1.17->evaluate) (1.3.8)\n",
      "Requirement already satisfied: mkl_random in /usr/local/lib/python3.10/dist-packages (from numpy>=1.17->evaluate) (1.2.4)\n",
      "Requirement already satisfied: mkl_umath in /usr/local/lib/python3.10/dist-packages (from numpy>=1.17->evaluate) (0.1.1)\n",
      "Requirement already satisfied: mkl in /usr/local/lib/python3.10/dist-packages (from numpy>=1.17->evaluate) (2025.0.1)\n",
      "Requirement already satisfied: tbb4py in /usr/local/lib/python3.10/dist-packages (from numpy>=1.17->evaluate) (2022.0.0)\n",
      "Requirement already satisfied: mkl-service in /usr/local/lib/python3.10/dist-packages (from numpy>=1.17->evaluate) (2.4.1)\n",
      "Requirement already satisfied: charset-normalizer<4,>=2 in /usr/local/lib/python3.10/dist-packages (from requests>=2.19.0->evaluate) (3.4.1)\n",
      "Requirement already satisfied: idna<4,>=2.5 in /usr/local/lib/python3.10/dist-packages (from requests>=2.19.0->evaluate) (3.10)\n",
      "Requirement already satisfied: urllib3<3,>=1.21.1 in /usr/local/lib/python3.10/dist-packages (from requests>=2.19.0->evaluate) (2.3.0)\n",
      "Requirement already satisfied: certifi>=2017.4.17 in /usr/local/lib/python3.10/dist-packages (from requests>=2.19.0->evaluate) (2025.1.31)\n",
      "Requirement already satisfied: python-dateutil>=2.8.2 in /usr/local/lib/python3.10/dist-packages (from pandas->evaluate) (2.9.0.post0)\n",
      "Requirement already satisfied: pytz>=2020.1 in /usr/local/lib/python3.10/dist-packages (from pandas->evaluate) (2025.1)\n",
      "Requirement already satisfied: tzdata>=2022.7 in /usr/local/lib/python3.10/dist-packages (from pandas->evaluate) (2025.1)\n",
      "Requirement already satisfied: aiohappyeyeballs>=2.3.0 in /usr/local/lib/python3.10/dist-packages (from aiohttp->datasets>=2.0.0->evaluate) (2.4.6)\n",
      "Requirement already satisfied: aiosignal>=1.1.2 in /usr/local/lib/python3.10/dist-packages (from aiohttp->datasets>=2.0.0->evaluate) (1.3.2)\n",
      "Requirement already satisfied: async-timeout<6.0,>=4.0 in /usr/local/lib/python3.10/dist-packages (from aiohttp->datasets>=2.0.0->evaluate) (5.0.1)\n",
      "Requirement already satisfied: attrs>=17.3.0 in /usr/local/lib/python3.10/dist-packages (from aiohttp->datasets>=2.0.0->evaluate) (25.1.0)\n",
      "Requirement already satisfied: frozenlist>=1.1.1 in /usr/local/lib/python3.10/dist-packages (from aiohttp->datasets>=2.0.0->evaluate) (1.5.0)\n",
      "Requirement already satisfied: multidict<7.0,>=4.5 in /usr/local/lib/python3.10/dist-packages (from aiohttp->datasets>=2.0.0->evaluate) (6.1.0)\n",
      "Requirement already satisfied: propcache>=0.2.0 in /usr/local/lib/python3.10/dist-packages (from aiohttp->datasets>=2.0.0->evaluate) (0.2.1)\n",
      "Requirement already satisfied: yarl<2.0,>=1.17.0 in /usr/local/lib/python3.10/dist-packages (from aiohttp->datasets>=2.0.0->evaluate) (1.18.3)\n",
      "Requirement already satisfied: six>=1.5 in /usr/local/lib/python3.10/dist-packages (from python-dateutil>=2.8.2->pandas->evaluate) (1.17.0)\n",
      "Requirement already satisfied: intel-openmp>=2024 in /usr/local/lib/python3.10/dist-packages (from mkl->numpy>=1.17->evaluate) (2024.2.0)\n",
      "Requirement already satisfied: tbb==2022.* in /usr/local/lib/python3.10/dist-packages (from mkl->numpy>=1.17->evaluate) (2022.0.0)\n",
      "Requirement already satisfied: tcmlib==1.* in /usr/local/lib/python3.10/dist-packages (from tbb==2022.*->mkl->numpy>=1.17->evaluate) (1.2.0)\n",
      "Requirement already satisfied: intel-cmplr-lib-rt in /usr/local/lib/python3.10/dist-packages (from mkl_umath->numpy>=1.17->evaluate) (2024.2.0)\n",
      "Requirement already satisfied: intel-cmplr-lib-ur==2024.2.0 in /usr/local/lib/python3.10/dist-packages (from intel-openmp>=2024->mkl->numpy>=1.17->evaluate) (2024.2.0)\n",
      "Downloading evaluate-0.4.3-py3-none-any.whl (84 kB)\n",
      "\u001b[2K   \u001b[90m━━━━━━━━━━━━━━━━━━━━━━━━━━━━━━━━━━━━━━━━\u001b[0m \u001b[32m84.0/84.0 kB\u001b[0m \u001b[31m2.4 MB/s\u001b[0m eta \u001b[36m0:00:00\u001b[0m\n",
      "\u001b[?25hInstalling collected packages: evaluate\n",
      "Successfully installed evaluate-0.4.3\n"
     ]
    }
   ],
   "source": [
    "!pip install evaluate\n"
   ]
  },
  {
   "cell_type": "code",
   "execution_count": 16,
   "metadata": {
    "execution": {
     "iopub.execute_input": "2025-04-05T10:09:28.541138Z",
     "iopub.status.busy": "2025-04-05T10:09:28.540786Z",
     "iopub.status.idle": "2025-04-05T10:36:56.306134Z",
     "shell.execute_reply": "2025-04-05T10:36:56.305256Z",
     "shell.execute_reply.started": "2025-04-05T10:09:28.541113Z"
    },
    "trusted": true
   },
   "outputs": [
    {
     "name": "stderr",
     "output_type": "stream",
     "text": [
      "Testing:   0%|          | 0/1000 [00:00<?, ?it/s]/usr/local/lib/python3.10/dist-packages/transformers/generation/utils.py:1527: UserWarning: You have modified the pretrained model configuration to control generation. This is a deprecated strategy to control generation and will be removed in v5. Please use and modify the model generation configuration (see https://huggingface.co/docs/transformers/generation_strategies#default-text-generation-configuration )\n",
      "  warnings.warn(\n",
      "Testing: 100%|██████████| 1000/1000 [27:25<00:00,  1.65s/it]"
     ]
    },
    {
     "name": "stdout",
     "output_type": "stream",
     "text": [
      "Test results saved to test_results.csv\n"
     ]
    },
    {
     "name": "stderr",
     "output_type": "stream",
     "text": [
      "\n"
     ]
    }
   ],
   "source": [
    "from transformers import BartForConditionalGeneration, BartTokenizer\n",
    "import torch\n",
    "from tqdm import tqdm\n",
    "from datasets import load_from_disk\n",
    "\n",
    "# Load best fine-tuned model\n",
    "model_path = \"/kaggle/working/best_bart_model\"\n",
    "tokenizer = BartTokenizer.from_pretrained(model_path)\n",
    "model = BartForConditionalGeneration.from_pretrained(model_path)\n",
    "model.eval()\n",
    "\n",
    "# Load tokenized test dataset\n",
    "test_dataset = load_from_disk(\"tokenized_test_dataset\")\n",
    "\n",
    "# Move model to GPU if available\n",
    "device = torch.device(\"cuda\" if torch.cuda.is_available() else \"cpu\")\n",
    "model.to(device)\n",
    "\n",
    "# Generate summaries\n",
    "def generate_summary(sample, max_length=150, num_beams=5):\n",
    "    inputs = {\n",
    "        \"input_ids\": torch.tensor(sample[\"input_ids\"]).unsqueeze(0).to(device),\n",
    "        \"attention_mask\": torch.tensor(sample[\"attention_mask\"]).unsqueeze(0).to(device),\n",
    "    }\n",
    "    summary_ids = model.generate(**inputs, max_length=max_length, num_beams=num_beams)\n",
    "    return tokenizer.decode(summary_ids[0], skip_special_tokens=True)\n",
    "\n",
    "# Generate summaries for the test set\n",
    "generated_summaries = []\n",
    "reference_summaries = []\n",
    "\n",
    "for i in tqdm(range(len(test_dataset)), desc=\"Testing\"):\n",
    "    sample = test_dataset[i]\n",
    "    generated_summaries.append(generate_summary(sample))\n",
    "    reference_summaries.append(tokenizer.decode(sample[\"labels\"], skip_special_tokens=True))\n",
    "\n",
    "# Save results\n",
    "import pandas as pd\n",
    "\n",
    "df = pd.DataFrame({\"Generated Summary\": generated_summaries, \"Reference Summary\": reference_summaries})\n",
    "df.to_csv(\"test_results.csv\", index=False)\n",
    "print(\"Test results saved to test_results.csv\")\n"
   ]
  },
  {
   "cell_type": "code",
   "execution_count": 17,
   "metadata": {
    "execution": {
     "iopub.execute_input": "2025-04-05T10:38:28.640503Z",
     "iopub.status.busy": "2025-04-05T10:38:28.640159Z",
     "iopub.status.idle": "2025-04-05T11:06:03.058028Z",
     "shell.execute_reply": "2025-04-05T11:06:03.057055Z",
     "shell.execute_reply.started": "2025-04-05T10:38:28.640477Z"
    },
    "trusted": true
   },
   "outputs": [
    {
     "name": "stderr",
     "output_type": "stream",
     "text": [
      "Evaluating ROUGE: 100%|██████████| 1000/1000 [27:33<00:00,  1.65s/it]"
     ]
    },
    {
     "name": "stdout",
     "output_type": "stream",
     "text": [
      "\n",
      "💡 ROUGE Evaluation Results:\n",
      "ROUGE-1: 0.0680\n",
      "ROUGE-2: 0.0113\n",
      "ROUGE-L: 0.0463\n"
     ]
    },
    {
     "name": "stderr",
     "output_type": "stream",
     "text": [
      "\n"
     ]
    }
   ],
   "source": [
    "from rouge_score import rouge_scorer\n",
    "import numpy as np\n",
    "\n",
    "# Initialize ROUGE scorer\n",
    "scorer = rouge_scorer.RougeScorer([\"rouge1\", \"rouge2\", \"rougeL\"], use_stemmer=True)\n",
    "\n",
    "# Store scores\n",
    "rouge1_scores = []\n",
    "rouge2_scores = []\n",
    "rougeL_scores = []\n",
    "\n",
    "# Evaluation loop\n",
    "for i in tqdm(range(len(test_dataset)), desc=\"Evaluating ROUGE\"):\n",
    "    sample = test_dataset[i]\n",
    "    \n",
    "    # Generate summary\n",
    "    generated_summary = generate_summary(sample)  \n",
    "    reference_summary = tokenizer.decode(sample[\"labels\"], skip_special_tokens=True)\n",
    "\n",
    "    # Compute ROUGE scores\n",
    "    scores = scorer.score(reference_summary, generated_summary)\n",
    "\n",
    "    rouge1_scores.append(scores[\"rouge1\"].fmeasure)\n",
    "    rouge2_scores.append(scores[\"rouge2\"].fmeasure)\n",
    "    rougeL_scores.append(scores[\"rougeL\"].fmeasure)\n",
    "\n",
    "# Compute average scores\n",
    "avg_rouge1 = np.mean(rouge1_scores)\n",
    "avg_rouge2 = np.mean(rouge2_scores)\n",
    "avg_rougeL = np.mean(rougeL_scores)\n",
    "\n",
    "# Print final results\n",
    "print(\"\\n💡 ROUGE Evaluation Results:\")\n",
    "print(f\"ROUGE-1: {avg_rouge1:.4f}\")\n",
    "print(f\"ROUGE-2: {avg_rouge2:.4f}\")\n",
    "print(f\"ROUGE-L: {avg_rougeL:.4f}\")\n"
   ]
  },
  {
   "cell_type": "code",
   "execution_count": 18,
   "metadata": {
    "execution": {
     "iopub.execute_input": "2025-04-05T11:07:21.198149Z",
     "iopub.status.busy": "2025-04-05T11:07:21.197790Z",
     "iopub.status.idle": "2025-04-05T11:07:21.603306Z",
     "shell.execute_reply": "2025-04-05T11:07:21.602578Z",
     "shell.execute_reply.started": "2025-04-05T11:07:21.198119Z"
    },
    "trusted": true
   },
   "outputs": [],
   "source": [
    "mooc_df = pd.read_csv(\"/kaggle/input/moocc-dataset/mooc_coursera_dataset.csv\")"
   ]
  },
  {
   "cell_type": "code",
   "execution_count": 19,
   "metadata": {
    "execution": {
     "iopub.execute_input": "2025-04-05T11:07:25.023215Z",
     "iopub.status.busy": "2025-04-05T11:07:25.022913Z",
     "iopub.status.idle": "2025-04-05T11:07:25.028569Z",
     "shell.execute_reply": "2025-04-05T11:07:25.027759Z",
     "shell.execute_reply.started": "2025-04-05T11:07:25.023190Z"
    },
    "trusted": true
   },
   "outputs": [
    {
     "data": {
      "text/plain": [
       "(45096, 6)"
      ]
     },
     "execution_count": 19,
     "metadata": {},
     "output_type": "execute_result"
    }
   ],
   "source": [
    "mooc_df.shape"
   ]
  },
  {
   "cell_type": "code",
   "execution_count": 20,
   "metadata": {
    "execution": {
     "iopub.execute_input": "2025-04-05T11:07:28.248076Z",
     "iopub.status.busy": "2025-04-05T11:07:28.247667Z",
     "iopub.status.idle": "2025-04-05T11:07:28.308430Z",
     "shell.execute_reply": "2025-04-05T11:07:28.307435Z",
     "shell.execute_reply.started": "2025-04-05T11:07:28.248042Z"
    },
    "trusted": true
   },
   "outputs": [],
   "source": [
    "mooc_df = mooc_df.drop_duplicates()"
   ]
  },
  {
   "cell_type": "code",
   "execution_count": 21,
   "metadata": {
    "execution": {
     "iopub.execute_input": "2025-04-05T11:07:32.378788Z",
     "iopub.status.busy": "2025-04-05T11:07:32.378420Z",
     "iopub.status.idle": "2025-04-05T11:07:32.397896Z",
     "shell.execute_reply": "2025-04-05T11:07:32.397005Z",
     "shell.execute_reply.started": "2025-04-05T11:07:32.378756Z"
    },
    "trusted": true
   },
   "outputs": [],
   "source": [
    "mooc_df = mooc_df.dropna(subset=[\"reviews\"])"
   ]
  },
  {
   "cell_type": "code",
   "execution_count": 22,
   "metadata": {
    "execution": {
     "iopub.execute_input": "2025-04-05T11:07:35.702837Z",
     "iopub.status.busy": "2025-04-05T11:07:35.702523Z",
     "iopub.status.idle": "2025-04-05T11:07:35.708022Z",
     "shell.execute_reply": "2025-04-05T11:07:35.706966Z",
     "shell.execute_reply.started": "2025-04-05T11:07:35.702813Z"
    },
    "trusted": true
   },
   "outputs": [
    {
     "data": {
      "text/plain": [
       "(17417, 6)"
      ]
     },
     "execution_count": 22,
     "metadata": {},
     "output_type": "execute_result"
    }
   ],
   "source": [
    "mooc_df.shape"
   ]
  },
  {
   "cell_type": "code",
   "execution_count": 23,
   "metadata": {
    "execution": {
     "iopub.execute_input": "2025-04-05T11:07:40.739594Z",
     "iopub.status.busy": "2025-04-05T11:07:40.739253Z",
     "iopub.status.idle": "2025-04-05T11:07:40.765111Z",
     "shell.execute_reply": "2025-04-05T11:07:40.764270Z",
     "shell.execute_reply.started": "2025-04-05T11:07:40.739563Z"
    },
    "trusted": true
   },
   "outputs": [
    {
     "name": "stdout",
     "output_type": "stream",
     "text": [
      "Agile with Atlassian Jira 807\n",
      "Become a CBRS Certified Professional Installer by Google 51\n",
      "Building Scalable Java Microservices with Spring Boot and Spring Cloud 206\n",
      "Business Metrics for Data-Driven Companies 273\n",
      "Data Analysis with Python 1474\n",
      "Data Science Methodology 1182\n",
      "Databases and SQL for Data Science 587\n",
      "Fundamentals of Project Planning and Management 1160\n",
      "Google Cloud Platform Big Data and Machine Learning Fundamentals 397\n",
      "Introduction to Data Science in Python 5052\n",
      "Introduction to User Experience Design 889\n",
      "Natural Language Processing in TensorFlow 707\n",
      "Operating Systems and You: Becoming a Power User 2631\n",
      "Programming Foundations with JavaScript, HTML and CSS 573\n",
      "Site Reliability Engineering: Measuring and Managing Reliability 163\n",
      "Supply Chain Principles 351\n",
      "The Social Context of Mental Health and Illness 92\n",
      "Visual Elements of User Interface Design 822\n"
     ]
    }
   ],
   "source": [
    "course_reviews_dict = mooc_df.groupby(\"course_title\")[\"reviews\"].apply(list).to_dict()\n",
    "for key,value in course_reviews_dict.items():\n",
    "  print(key,len(value))"
   ]
  },
  {
   "cell_type": "code",
   "execution_count": 39,
   "metadata": {
    "execution": {
     "iopub.execute_input": "2025-03-21T19:13:26.919388Z",
     "iopub.status.busy": "2025-03-21T19:13:26.919036Z",
     "iopub.status.idle": "2025-03-21T19:13:26.924900Z",
     "shell.execute_reply": "2025-03-21T19:13:26.923881Z",
     "shell.execute_reply.started": "2025-03-21T19:13:26.919354Z"
    },
    "trusted": true
   },
   "outputs": [
    {
     "name": "stdout",
     "output_type": "stream",
     "text": [
      "[\"Pretty dry, but I was able to pass with just two complete watches so I'm happy about that. As usual there were some questions on the final exam that were NO WHERE in the course, which is annoying but far better than many microsoft tests I have taken. Never found the suplimental material that the course references... but who cares... i passed!\", 'would be a better experience if the video and screen shots would sho on the side of the text that the instructor is going thru so that user does not have to go all the way to beginning of text to be able to view any slides instructor is showing.', 'Information was perfect! The program itself was a little annoying. I had to wait 30 to 45 minutes after watching the videos to to take the quiz. Other than that the information was perfect and passed the test with no issues!', 'A few grammatical mistakes on test made me do a double take but all in all not bad.', 'Excellent course and the training provided was very detailed and easy to follow.', 'Some of the quizzes contained material not explicitly covered in the course.', 'Solid presentation all the way through. I really appreciated the intermittent questions that popped up to check on learning as well the regular (but not needless) quizzing. There was visuals such as charts / .ppt for those of us more visually inclined as well as a transcript below the video that followed along with the presentation!', \"Probably the best certification course I've taken in this respect. The course is planned out carefully, and I believe gave me everything I needed to ace my exam the first time around. The trainer for the majority of the course was awesome. She delivered the material in a great, professional mannor, but was never boring or monotoned.\", 'The ProctorU.com system took 2 times the amount of time spent on this course over 3 days to complete. It is the worse production user system I have used in 20+ years of my IT career. You should switch to another vendor.', 'Covered all of the required information in an easy to understand way and WITH VIDEO! Great, easy way to learn. The exam process was a bit drawn out and more extensive then it needed to be, but over all a great experience', 'Great course, lectures were straight forward and easy to follow along. The course provided all the information necessary to pass the CPI examination for certification.', 'The course was straight forward and prepared me for the CPI exam. The course provided everything I needed to pass the exam. Thanks Google... thanks Coursera.', 'Pretty well designed course. Few things on the test werent covered, but if you read the provided resources you should be fine.', 'Great course, i have feedback about one question and learning item id like to give feedback on. related to OMNI antennas', 'The course was fine but I never received an email to download mt certificate, I have the password. Please contact me.', 'Well presented course material that takes you step by step through the required learning.', 'Course is easy enough if you have a basic background of installing wireless equipment.', 'The instructions were clear and concise. I enjoyed the learning process.', 'Easy to follow. Did a good job at teaching me the material.', 'Excellent Training, More than enough to pass the test.', 'very helpful informative course to get CPI certificate', 'Material covered well, and easy to use application.', 'Was able to knock it out in a day very good info.', 'easy to follow along with and understand', 'online learning was great', 'Very well explained.', 'Excellent course!', 'Great course.', 'Great course', 'Great course', 'Great course', 'Great Job!', 'WOOOO', 'A horrid end-to-end user experience. The videos are virtually worthless as the presenter reads the script way too fast. People for whom English is a second language will struggle trying to understand her. Just put her on mute. However, you need to take screen shots of the slides of the video, as that is the only way to have them available to study as they are not available for download! With the screen shots and provided transcript, you have basic study materials, which you need to augment using the Resources materials. There is more useful information on additional Winnforum docs. All in all a very user unfriendly and abusive learning experience. The pain doesn\\'t end there however. When you go to take the test, it is surprisingly revealed to you that your computer and test environment need to meet certain requirements.The whole ProctorU process is just awful. Especially if you do not have access to the proper type of computer (surprise for all you Google-centric people!), room and connectivity. Google should make this clear before you plunk down your money. I went through hell trying to accomplish that in our rural, underserved community, ironically just the kind of place where CBRS could be really useful in bridging the Digital Divide. The impetus for my taking this class is that we are working with community groups who want to set up and maintain their own FWA \"micro ISPs\". For instance, the ProctorU video system could not provide my video even though we had been on Teams and Meet calls quite seamlessly right before hand (I had to go over to a neighboring colleauge who had the \"right\" kind of computer but we guess the wrong level of connectivity). The ProctorU and Google support were useless.I finally had to drive to the next county, where the community college\\'s testing center figured out a way for me to take the ProctorU exam. Cost me another 25 bucks. They administer other online virtual proctoring systems and were amazed at how bad ProctorU was. The antiquated ProctorU system and it\\'s \"Proctor\" and \"Technician\" managed to screw up the set up process by restarting the computer and thus wiping out the session, so I had to figure out how to reconnect and had to go through the lengthy and awkward set up process all over again. I had to beg my new \"proctor\" not to restart the computer.As you may surmise, we will NOT be recommending this course to others we know who want to become actual CPI\\'s. There are people who are installers for things like satellite dishes who want to be part of these community efforts. And Google has moved way down the list of potential SAS providers if this is how they treat their customers. I can only assume that all the high ratings for this class came from Google employees and friends and family.By the way, it would be nice to know which questions you got wrong. I passed with a 92% score, but would like to know which 4 questions I got wrong.', 'Inside the course, it states that you will have access to the content indefinitely and will get updates as laws and regulations change.This is not the case. They remove access after 180 days.Also, for you linux or chromebook lovers out there, you will be unable to complete this course without getting access to a microsoft or apple computer for the proctored portion of the exam.', \"The course and the exam where of good quality. But several weks after the exam I have not recieved my CPI credentials.The process is supposed to be 'automated' but there's no support number or email anywhere, so it seems my time and money on the course was wasted.\", 'Exam is not working!!!!! Talked with ProctorU for an hour and was told there was nothing they could do to get my test/exam going..and told to look for an email.', 'Never received the .p12 certificate, after reaching out to confirm the status of my .p12, they resent me my CBRS_ID and closed the case.', 'I have taken the test And can not find a .p12 certificate please let me know where to go or send me the certificate', 'It says you can retake the exam after 7 days and but now its 365.', 'have to wait a whole year if you dont pass', 'impossible to talk to a human being', \"The Google content for the training is excellent. Everything was covered in clear video presentations with diagrams.The Coursera platform is sub-par. I expected more for a high-cost training. Rough edges like not being able to proceed to the next step without a browser refresh show a lack of competence and/or attention.The ProcterU test taking process is even worse. You don't find out until you start the test at the scheduled time that you have to download and run an executable from LogMeIn (Support-LogMeInRescue.exe) That file is identified as a threat by Windows (unsigned) and is blocked by corporate InfoSec policies. I had to move to a different computer to take the test. Furthermore, the ProcterU chat support is completely non-functional - it tells you to open a chat widget on the page that doesn't exist.\", 'The course was informational and I was able to pass the certification test, but I am extremely dissatisfied that I am not able to revisit this information even after I have paid for the materials and the certification test. There should NOT be a limit on how long I can view information that I paid for.', 'The course was OK and the difficulty level of the tests after each section was fair.The ProctorU exam at the end was technically the worst thing that happend to me since a long time. The process bad, a system check offered by ProctorU indicated compliance and at the login of the exam, a new download was required which failed. The person on the ProctorU side tried to configure the system compliant to the rules of ProctorU. It was a mess.', 'Had continuing issues where the next module would remain locked unless I reloaded the browser. Also had an issue where the test did not load the first time and when the proctor started the test again it counted as my second attempt. Fortunately I passed first try so it was not a significant issue.Course was very good but technical issues was a big distraction.', \"I like the presentation of the material but there was a lot not covered by your materials that I was asked about on the exam and I was disappointed that such an expensive course wasn't more complete.\", 'Good material and quality lecture videos. However, no slides available and lack of any support or update. Issues left unresolved for YEARs. Will file complaints to Winn Forum.', 'A lot of technical trouble with have things on my work computer and home computer that delayed taking this exam.', 'Instructor talked VERY fast, was hard to keep up. Otherwise, great course, easy to navigate.', 'The process for scheduling the exam was muddled and set me back 2 weeks.']\n"
     ]
    }
   ],
   "source": [
    "print(course_reviews_dict['Become a CBRS Certified Professional Installer by Google'])"
   ]
  },
  {
   "cell_type": "code",
   "execution_count": null,
   "metadata": {},
   "outputs": [],
   "source": [
    "import re\n",
    "from bs4 import BeautifulSoup\n",
    "import nltk\n",
    "from nltk.corpus import words\n",
    "from nltk.tokenize import word_tokenize\n",
    "import string\n",
    "\n",
    "# Download English word list if not already present\n",
    "nltk.download('punkt')\n",
    "nltk.download('words')\n",
    "english_words = set(words.words())\n",
    "\n",
    "def clean_text(text):\n",
    "    # Remove HTML tags\n",
    "    text = BeautifulSoup(str(text), \"html.parser\").get_text()\n",
    "\n",
    "    # Normalize multiple punctuation marks (e.g., !!! becomes !)\n",
    "    text = re.sub(r'([!?.]){2,}', r'\\1', text)\n",
    "\n",
    "    # Lowercase the text\n",
    "    text = text.lower()\n",
    "\n",
    "    # Remove URLs and hyperlinks\n",
    "    text = re.sub(r\"http\\S+|www\\S+|https\\S+\", '', text)\n",
    "\n",
    "    # Remove numbers\n",
    "    text = re.sub(r'\\d+', '', text)\n",
    "\n",
    "    # Remove punctuation (except spaces)\n",
    "    text = re.sub(f\"[{re.escape(string.punctuation)}]\", '', text)\n",
    "\n",
    "    # Tokenize the text\n",
    "    tokens = word_tokenize(text)\n",
    "\n",
    "    # Keep only valid English words\n",
    "    tokens = [word for word in tokens if word in english_words]\n",
    "\n",
    "    # Re-join tokens and remove extra spaces\n",
    "    cleaned_text = ' '.join(tokens)\n",
    "    cleaned_text = re.sub(r'\\s+', ' ', cleaned_text).strip()\n",
    "\n",
    "    return cleaned_text\n"
   ]
  },
  {
   "cell_type": "code",
   "execution_count": null,
   "metadata": {},
   "outputs": [],
   "source": [
    "for key, values in course_reviews_dict.items():\n",
    "    cleaned_reviews = [clean_text(review) for review in values]\n",
    "    course_reviews_dict[key] = cleaned_reviews"
   ]
  },
  {
   "cell_type": "code",
   "execution_count": 28,
   "metadata": {
    "execution": {
     "iopub.execute_input": "2025-04-05T11:11:39.325524Z",
     "iopub.status.busy": "2025-04-05T11:11:39.325226Z",
     "iopub.status.idle": "2025-04-05T11:12:08.410575Z",
     "shell.execute_reply": "2025-04-05T11:12:08.409799Z",
     "shell.execute_reply.started": "2025-04-05T11:11:39.325503Z"
    },
    "trusted": true
   },
   "outputs": [
    {
     "name": "stdout",
     "output_type": "stream",
     "text": [
      "Agile with Atlassian Jira cmplt\n",
      "Become a CBRS Certified Professional Installer by Google cmplt\n",
      "Building Scalable Java Microservices with Spring Boot and Spring Cloud cmplt\n",
      "Business Metrics for Data-Driven Companies cmplt\n",
      "Data Analysis with Python cmplt\n",
      "Data Science Methodology cmplt\n",
      "Databases and SQL for Data Science cmplt\n",
      "Fundamentals of Project Planning and Management cmplt\n",
      "Google Cloud Platform Big Data and Machine Learning Fundamentals cmplt\n",
      "Introduction to Data Science in Python cmplt\n",
      "Introduction to User Experience Design cmplt\n",
      "Natural Language Processing in TensorFlow cmplt\n",
      "Operating Systems and You: Becoming a Power User cmplt\n",
      "Programming Foundations with JavaScript, HTML and CSS cmplt\n",
      "Site Reliability Engineering: Measuring and Managing Reliability cmplt\n",
      "Supply Chain Principles cmplt\n",
      "The Social Context of Mental Health and Illness cmplt\n",
      "Visual Elements of User Interface Design cmplt\n"
     ]
    }
   ],
   "source": [
    "import torch\n",
    "from transformers import BartForConditionalGeneration, BartTokenizer\n",
    "\n",
    "# Load Pegasus model and tokenizer\n",
    "model_path = \"/kaggle/working/best_bart_model\"  # Your fine-tuned model directory\n",
    "tokenizer = BartTokenizer.from_pretrained(model_path)\n",
    "model = BartForConditionalGeneration.from_pretrained(model_path)\n",
    "model.eval()\n",
    "\n",
    "\n",
    "# Move model to GPU/CPU\n",
    "device = torch.device(\"cuda\" if torch.cuda.is_available() else \"cpu\")\n",
    "model.to(device)\n",
    "\n",
    "# Function to generate summary\n",
    "def generate_summary(text):\n",
    "    inputs = tokenizer(text, return_tensors=\"pt\", truncation=True, padding=\"max_length\", max_length=512)\n",
    "    inputs = {key: value.to(device) for key, value in inputs.items()}  # Move to GPU/CPU\n",
    "    summary_ids = model.generate(\n",
    "    **inputs,\n",
    "    max_length=256,  # Limit summary length\n",
    "    num_beams=5,  # Beam search for better summaries\n",
    "    early_stopping=True,  # Stop once summary makes sense\n",
    "    no_repeat_ngram_size=3,  # Prevent repeating phrases\n",
    "    length_penalty=1.5,  # Encourage concise summaries\n",
    "    repetition_penalty=2.0  # Reduce excessive repetitions\n",
    ")\n",
    "\n",
    "    summary = tokenizer.decode(summary_ids[0], skip_special_tokens=True)\n",
    "    return summary\n",
    "\n",
    "# Generate summaries for all courses\n",
    "summary_dict = {}\n",
    "for key,values in course_reviews_dict.items():\n",
    "    course_name = key\n",
    "    original_text = course_reviews_dict[course_name]\n",
    "    original_text = \" \".join(original_text)\n",
    "    gen_summ = generate_summary(original_text)\n",
    "    summary_dict[course_name] = [gen_summ]\n",
    "    print(course_name, \"cmplt\")\n",
    "\n",
    "# Save the results\n",
    "#summary_df = pd.DataFrame(list(course_summaries.items()), columns=[\"course_id\", \"generated_summary\"])\n",
    "#summary_df.to_csv(\"mooc_summaries.csv\", index=False)\n",
    "\n",
    "# Display some results\n",
    "\n"
   ]
  },
  {
   "cell_type": "code",
   "execution_count": 29,
   "metadata": {
    "execution": {
     "iopub.execute_input": "2025-04-05T11:13:36.200233Z",
     "iopub.status.busy": "2025-04-05T11:13:36.199880Z",
     "iopub.status.idle": "2025-04-05T11:13:36.217450Z",
     "shell.execute_reply": "2025-04-05T11:13:36.216383Z",
     "shell.execute_reply.started": "2025-04-05T11:13:36.200207Z"
    },
    "trusted": true
   },
   "outputs": [
    {
     "name": "stdout",
     "output_type": "stream",
     "text": [
      "Agile with Atlassian Jira :\n",
      "[\"This online course is designed to help you learn how to use Jira in a variety of ways, It focuses on the basics of using Jira as well as how to set up and use it effectively, Most of the content is free, so you don't have to pay for a subscription. Some of the topics are more technical than others, but most of the material is useful for those who want to get started with Jira right away\"] \n",
      "\n",
      "Become a CBRS Certified Professional Installer by Google :\n",
      "['Provides all the information you need to pass the CPI exam, including how to study for and prepare for the exam, as well as how to take the exam itself, Includes a lot of helpful online resources that are easy to follow, Works well for both beginners and advanced users. Some questions on the final exam were not covered in the course, which may make it more difficult for some to pass'] \n",
      "\n",
      "Building Scalable Java Microservices with Spring Boot and Spring Cloud :\n",
      "[\"A comprehensive online course that covers everything you need to know about the Google Cloud Platform, including how to set up and use your own cloud-based services, It's also a great choice for those who want to learn more about Spring Boot. Some of the material is too technical for some users, especially when it comes to testing in the lab environment, A few issues have been reported with test results not being accurate\"] \n",
      "\n",
      "Business Metrics for Data-Driven Companies :\n",
      "[\"This course is designed for those who want to learn more than just Excel and MYSQL, so it's a good choice for anyone who wants to expand their knowledge of the topics covered in this specialization, The online course is well-organized and easy to follow, with plenty of videos and interactive quizzes. Some of the questions are difficult to understand, and some of the content could be more engaging if the instructor provided more detail\"] \n",
      "\n",
      "Data Analysis with Python :\n",
      "[\"This is a 4-week course that focuses on the basics of data analysis and machine learning, It's also a great introduction to programming for those who want to learn more advanced concepts in the field, The online tutorials are easy to follow, and the content is well-organized. Some of the assignments can be difficult to understand, especially when it comes to how to use some of the tools used in the course\"] \n",
      "\n",
      "Data Science Methodology :\n",
      "['The IBM Data Science specialization is designed for those who want to learn more than just basic data science concepts, The course includes a lot of content that can be easily digestible and useful for anyone new to data science, as well as some advanced concepts. Some of the topics covered in the course are difficult to understand for people who don’t have a background in data science'] \n",
      "\n",
      "Databases and SQL for Data Science :\n",
      "['The IBM Data Science specialization is designed to help you understand the basics of data science, The course offers a good mix of theory and practice for those who are new to the field, as well as more advanced concepts. Some of the topics are difficult to understand, especially when it comes to how to connect to a database, A few issues with the cloud-based tutorials have been reported'] \n",
      "\n",
      "Fundamentals of Project Planning and Management :\n",
      "[\"A free online course that covers project management basics such as how to plan, organize, and manage projects, It's also a great introduction to project management for those who want to learn more about the subject area. Some of the questions are difficult to understand, and some of the content is hard to follow, The exam is easy to pass, but it doesn't provide much in the way of practice\"] \n",
      "\n",
      "Google Cloud Platform Big Data and Machine Learning Fundamentals :\n",
      "[\"The Google Cloud Platform course is designed to help you learn how to use the platform in a variety of different ways, including programming, testing, and more, It also includes lab exercises that can be used for both beginners and those who want to expand their knowledge of the platform's features, The online course is free and easy to use. Some of the assignments are time-consuming and require a lot of time to complete, especially if you're new to the platform\"] \n",
      "\n",
      "Introduction to Data Science in Python :\n",
      "[\"This is a 4-week course that focuses on the basics of data analysis and machine learning, It's also a great introduction to programming for those who want to learn more advanced concepts in the field, The online tutorials are easy to follow, and the content is well-organized. Some of the assignments can be difficult to understand, especially when it comes to how to use some of the tools used in the course\"] \n",
      "\n",
      "Introduction to User Experience Design :\n",
      "['The course is designed to help you understand the basics of user experience design, It also includes a focus group component that allows you to learn how to use your knowledge to improve your own design skills. The content could be better organized and presented in a more engaging way, Some of the videos are too long and boring for some students'] \n",
      "\n",
      "Natural Language Processing in TensorFlow :\n",
      "['A free online course that covers everything you need to know about TensorFlow, including how to use it in your own programming projects, The content is easy to understand and accessible for anyone who wants to learn more about the basics of machine learning. Some of the videos are very short, which may be a problem for those who want to watch several hours of video per week'] \n",
      "\n",
      "Operating Systems and You: Becoming a Power User :\n",
      "['The Qwiklabs lab system is easy to use, and the online labs are well-organized and easy to navigate, The course includes a lot of useful information for those who want to learn more than just basic computer science. Some of the questions are difficult to understand, and it can be confusing to find out how to complete some of the tasks in the labs'] \n",
      "\n",
      "Programming Foundations with JavaScript, HTML and CSS :\n",
      "[\"A comprehensive course that covers a wide range of programming concepts, including the basics of HTML, CSS, JavaScript, and more, It's also easy to learn how to use with BlueJ, which is an open-source version of the Java programming language. Some of the topics covered are difficult to understand for non-beginners, especially when it comes to data types and data structures, Less than half of the material is in English\"] \n",
      "\n",
      "Site Reliability Engineering: Measuring and Managing Reliability :\n",
      "['A comprehensive online course that covers everything you need to know to be a professional in the field of computer maintenance, The content is well-organized and easy to follow, with plenty of thought-provoking questions and exercises. Some of the topics are too broad for those who want to focus on specific areas of expertise'] \n",
      "\n",
      "Supply Chain Principles :\n",
      "['The online course is well-organized and easy to follow, It covers a wide range of topics, including the law of the sea, air travel, flight safety, and more, The content is accessible for both students and teachers. Some of the questions on the quizzes can be difficult to answer, and some of the readings are not as thorough as they should be'] \n",
      "\n",
      "The Social Context of Mental Health and Illness :\n",
      "['Provides a wealth of information on the history of mental health issues in Canada, as well as the current state of the art in terms of treatment and treatment options, Includes a variety of topics to help students understand the social context of mental illness in Canada. Some of the material is based on the DSM-IV, which has been updated several times since it was first published, so some of the information may be outdated'] \n",
      "\n",
      "Visual Elements of User Interface Design :\n",
      "['Provides a good overview of the basics of UI/UX design, as well as how to get started in the field, The course is easy to use and will help you develop your skills, We love that it uses peer-reviewing to help students understand their work better. Some of the topics are more technical than others, such as user interface design, but this is a minor concern for most users'] \n",
      "\n"
     ]
    }
   ],
   "source": [
    "for key,values in summary_dict.items():\n",
    "    print(key,\":\")\n",
    "    print(values, \"\\n\")"
   ]
  },
  {
   "cell_type": "code",
   "execution_count": 30,
   "metadata": {
    "execution": {
     "iopub.execute_input": "2025-04-05T11:13:49.939642Z",
     "iopub.status.busy": "2025-04-05T11:13:49.939335Z",
     "iopub.status.idle": "2025-04-05T11:14:08.416767Z",
     "shell.execute_reply": "2025-04-05T11:14:08.415769Z",
     "shell.execute_reply.started": "2025-04-05T11:13:49.939615Z"
    },
    "trusted": true
   },
   "outputs": [
    {
     "data": {
      "application/vnd.jupyter.widget-view+json": {
       "model_id": "747e6fbc3ba14832a5f140b9b5a6618e",
       "version_major": 2,
       "version_minor": 0
      },
      "text/plain": [
       "Batches:   0%|          | 0/1 [00:00<?, ?it/s]"
      ]
     },
     "metadata": {},
     "output_type": "display_data"
    },
    {
     "name": "stdout",
     "output_type": "stream",
     "text": [
      "Semantic Similarity Score of :Agile with Atlassian Jira is 0.73\n"
     ]
    },
    {
     "data": {
      "application/vnd.jupyter.widget-view+json": {
       "model_id": "9b0d29888b1d41f0be92d8f8eba1fab6",
       "version_major": 2,
       "version_minor": 0
      },
      "text/plain": [
       "Batches:   0%|          | 0/1 [00:00<?, ?it/s]"
      ]
     },
     "metadata": {},
     "output_type": "display_data"
    },
    {
     "name": "stdout",
     "output_type": "stream",
     "text": [
      "Semantic Similarity Score of :Become a CBRS Certified Professional Installer by Google is 0.37\n"
     ]
    },
    {
     "data": {
      "application/vnd.jupyter.widget-view+json": {
       "model_id": "3500b7f270e04254b46b19c41bb53e53",
       "version_major": 2,
       "version_minor": 0
      },
      "text/plain": [
       "Batches:   0%|          | 0/1 [00:00<?, ?it/s]"
      ]
     },
     "metadata": {},
     "output_type": "display_data"
    },
    {
     "name": "stdout",
     "output_type": "stream",
     "text": [
      "Semantic Similarity Score of :Building Scalable Java Microservices with Spring Boot and Spring Cloud is 0.62\n"
     ]
    },
    {
     "data": {
      "application/vnd.jupyter.widget-view+json": {
       "model_id": "dcad543dc0d743aaad5b403b25af8461",
       "version_major": 2,
       "version_minor": 0
      },
      "text/plain": [
       "Batches:   0%|          | 0/1 [00:00<?, ?it/s]"
      ]
     },
     "metadata": {},
     "output_type": "display_data"
    },
    {
     "name": "stdout",
     "output_type": "stream",
     "text": [
      "Semantic Similarity Score of :Business Metrics for Data-Driven Companies is 0.77\n"
     ]
    },
    {
     "data": {
      "application/vnd.jupyter.widget-view+json": {
       "model_id": "ab25d84caeb44bfcaa0313a1d3e3f527",
       "version_major": 2,
       "version_minor": 0
      },
      "text/plain": [
       "Batches:   0%|          | 0/1 [00:00<?, ?it/s]"
      ]
     },
     "metadata": {},
     "output_type": "display_data"
    },
    {
     "name": "stdout",
     "output_type": "stream",
     "text": [
      "Semantic Similarity Score of :Data Analysis with Python is 0.52\n"
     ]
    },
    {
     "data": {
      "application/vnd.jupyter.widget-view+json": {
       "model_id": "492d7bca00a544d59b77cffa25a51840",
       "version_major": 2,
       "version_minor": 0
      },
      "text/plain": [
       "Batches:   0%|          | 0/1 [00:00<?, ?it/s]"
      ]
     },
     "metadata": {},
     "output_type": "display_data"
    },
    {
     "name": "stdout",
     "output_type": "stream",
     "text": [
      "Semantic Similarity Score of :Data Science Methodology is 0.43\n"
     ]
    },
    {
     "data": {
      "application/vnd.jupyter.widget-view+json": {
       "model_id": "5a3f592084214a25a1c158dc818f930c",
       "version_major": 2,
       "version_minor": 0
      },
      "text/plain": [
       "Batches:   0%|          | 0/1 [00:00<?, ?it/s]"
      ]
     },
     "metadata": {},
     "output_type": "display_data"
    },
    {
     "name": "stdout",
     "output_type": "stream",
     "text": [
      "Semantic Similarity Score of :Databases and SQL for Data Science is 0.57\n"
     ]
    },
    {
     "data": {
      "application/vnd.jupyter.widget-view+json": {
       "model_id": "45c235fba53a46b3a87ee284b7b912d1",
       "version_major": 2,
       "version_minor": 0
      },
      "text/plain": [
       "Batches:   0%|          | 0/1 [00:00<?, ?it/s]"
      ]
     },
     "metadata": {},
     "output_type": "display_data"
    },
    {
     "name": "stdout",
     "output_type": "stream",
     "text": [
      "Semantic Similarity Score of :Fundamentals of Project Planning and Management is 0.64\n"
     ]
    },
    {
     "data": {
      "application/vnd.jupyter.widget-view+json": {
       "model_id": "7f7297df94bd4d0e856e4582ebc0cc78",
       "version_major": 2,
       "version_minor": 0
      },
      "text/plain": [
       "Batches:   0%|          | 0/1 [00:00<?, ?it/s]"
      ]
     },
     "metadata": {},
     "output_type": "display_data"
    },
    {
     "name": "stdout",
     "output_type": "stream",
     "text": [
      "Semantic Similarity Score of :Google Cloud Platform Big Data and Machine Learning Fundamentals is 0.65\n"
     ]
    },
    {
     "data": {
      "application/vnd.jupyter.widget-view+json": {
       "model_id": "ef6480ff013b4be38f0702f4c54bd9b4",
       "version_major": 2,
       "version_minor": 0
      },
      "text/plain": [
       "Batches:   0%|          | 0/1 [00:00<?, ?it/s]"
      ]
     },
     "metadata": {},
     "output_type": "display_data"
    },
    {
     "name": "stdout",
     "output_type": "stream",
     "text": [
      "Semantic Similarity Score of :Introduction to Data Science in Python is 0.52\n"
     ]
    },
    {
     "data": {
      "application/vnd.jupyter.widget-view+json": {
       "model_id": "95c551198e03412f8a78fe5c1ef1d798",
       "version_major": 2,
       "version_minor": 0
      },
      "text/plain": [
       "Batches:   0%|          | 0/1 [00:00<?, ?it/s]"
      ]
     },
     "metadata": {},
     "output_type": "display_data"
    },
    {
     "name": "stdout",
     "output_type": "stream",
     "text": [
      "Semantic Similarity Score of :Introduction to User Experience Design is 0.62\n"
     ]
    },
    {
     "data": {
      "application/vnd.jupyter.widget-view+json": {
       "model_id": "3932fcfff7ae443ea2340a5ec659b8eb",
       "version_major": 2,
       "version_minor": 0
      },
      "text/plain": [
       "Batches:   0%|          | 0/1 [00:00<?, ?it/s]"
      ]
     },
     "metadata": {},
     "output_type": "display_data"
    },
    {
     "name": "stdout",
     "output_type": "stream",
     "text": [
      "Semantic Similarity Score of :Natural Language Processing in TensorFlow is 0.56\n"
     ]
    },
    {
     "data": {
      "application/vnd.jupyter.widget-view+json": {
       "model_id": "ea0a83203da64a7a8fba3070b18ffffa",
       "version_major": 2,
       "version_minor": 0
      },
      "text/plain": [
       "Batches:   0%|          | 0/1 [00:00<?, ?it/s]"
      ]
     },
     "metadata": {},
     "output_type": "display_data"
    },
    {
     "name": "stdout",
     "output_type": "stream",
     "text": [
      "Semantic Similarity Score of :Operating Systems and You: Becoming a Power User is 0.56\n"
     ]
    },
    {
     "data": {
      "application/vnd.jupyter.widget-view+json": {
       "model_id": "ace77a54dbde4286b3ce059fb45fb14f",
       "version_major": 2,
       "version_minor": 0
      },
      "text/plain": [
       "Batches:   0%|          | 0/1 [00:00<?, ?it/s]"
      ]
     },
     "metadata": {},
     "output_type": "display_data"
    },
    {
     "name": "stdout",
     "output_type": "stream",
     "text": [
      "Semantic Similarity Score of :Programming Foundations with JavaScript, HTML and CSS is 0.62\n"
     ]
    },
    {
     "data": {
      "application/vnd.jupyter.widget-view+json": {
       "model_id": "39974af0440d452f94048db3c0531287",
       "version_major": 2,
       "version_minor": 0
      },
      "text/plain": [
       "Batches:   0%|          | 0/1 [00:00<?, ?it/s]"
      ]
     },
     "metadata": {},
     "output_type": "display_data"
    },
    {
     "name": "stdout",
     "output_type": "stream",
     "text": [
      "Semantic Similarity Score of :Site Reliability Engineering: Measuring and Managing Reliability is 0.42\n"
     ]
    },
    {
     "data": {
      "application/vnd.jupyter.widget-view+json": {
       "model_id": "5ea096dd31894c228c628a9b131a64ac",
       "version_major": 2,
       "version_minor": 0
      },
      "text/plain": [
       "Batches:   0%|          | 0/1 [00:00<?, ?it/s]"
      ]
     },
     "metadata": {},
     "output_type": "display_data"
    },
    {
     "name": "stdout",
     "output_type": "stream",
     "text": [
      "Semantic Similarity Score of :Supply Chain Principles is 0.48\n"
     ]
    },
    {
     "data": {
      "application/vnd.jupyter.widget-view+json": {
       "model_id": "507623b55ec543a8832d0d2b85089c89",
       "version_major": 2,
       "version_minor": 0
      },
      "text/plain": [
       "Batches:   0%|          | 0/1 [00:00<?, ?it/s]"
      ]
     },
     "metadata": {},
     "output_type": "display_data"
    },
    {
     "name": "stdout",
     "output_type": "stream",
     "text": [
      "Semantic Similarity Score of :The Social Context of Mental Health and Illness is 0.68\n"
     ]
    },
    {
     "data": {
      "application/vnd.jupyter.widget-view+json": {
       "model_id": "cd92f186d739413caabe7a78573a09c4",
       "version_major": 2,
       "version_minor": 0
      },
      "text/plain": [
       "Batches:   0%|          | 0/1 [00:00<?, ?it/s]"
      ]
     },
     "metadata": {},
     "output_type": "display_data"
    },
    {
     "name": "stdout",
     "output_type": "stream",
     "text": [
      "Semantic Similarity Score of :Visual Elements of User Interface Design is 0.50\n",
      "Average Semantic Similarity Score: 0.57\n"
     ]
    }
   ],
   "source": [
    "from sentence_transformers import SentenceTransformer\n",
    "from sklearn.metrics.pairwise import cosine_similarity\n",
    "\n",
    "def evaluate_semantic_similarity(original_text, generated_summary):\n",
    "    \"\"\"\n",
    "    Evaluates semantic similarity between the original text and the generated summary.\n",
    "\n",
    "    Args:\n",
    "    - original_text (str): The original input text.\n",
    "    - generated_summary (str): The generated summary.\n",
    "\n",
    "    Returns:\n",
    "    - float: Semantic similarity score (range 0 to 1).\n",
    "    \"\"\"\n",
    "    # Load pre-trained sentence transformer model\n",
    "    model = SentenceTransformer('all-MiniLM-L6-v2')\n",
    "\n",
    "    # Generate embeddings for original text and summary\n",
    "    embeddings = model.encode([original_text, generated_summary])\n",
    "\n",
    "    # Compute cosine similarity\n",
    "    similarity_score = cosine_similarity([embeddings[0]], [embeddings[1]])[0][0]\n",
    "    return similarity_score\n",
    "\n",
    "# Example Usage\n",
    "\n",
    "total_score = 0\n",
    "for key,values in course_reviews_dict.items():\n",
    "    \n",
    "    original_text = \" \".join(course_reviews_dict[key])\n",
    "    generated_summary = \" \".join(summary_dict[key])\n",
    "\n",
    "# Evaluate semantic similarity\n",
    "    similarity_score = evaluate_semantic_similarity(original_text, generated_summary)\n",
    "    total_score += similarity_score\n",
    "    print(f\"Semantic Similarity Score of :{key} is {similarity_score:.2f}\")\n",
    "    \n",
    "avg_score = total_score/len(course_reviews_dict)\n",
    "print(f\"Average Semantic Similarity Score: {avg_score:.2f}\")\n"
   ]
  },
  {
   "cell_type": "code",
   "execution_count": 32,
   "metadata": {
    "execution": {
     "iopub.execute_input": "2025-04-05T11:14:50.557509Z",
     "iopub.status.busy": "2025-04-05T11:14:50.557172Z",
     "iopub.status.idle": "2025-04-05T11:15:09.226796Z",
     "shell.execute_reply": "2025-04-05T11:15:09.226077Z",
     "shell.execute_reply.started": "2025-04-05T11:14:50.557479Z"
    },
    "trusted": true
   },
   "outputs": [
    {
     "data": {
      "application/vnd.jupyter.widget-view+json": {
       "model_id": "c854756d060b408ea5c0be8244dfe368",
       "version_major": 2,
       "version_minor": 0
      },
      "text/plain": [
       "Batches:   0%|          | 0/1 [00:00<?, ?it/s]"
      ]
     },
     "metadata": {},
     "output_type": "display_data"
    },
    {
     "name": "stdout",
     "output_type": "stream",
     "text": [
      "Coherence Score for Agile with Atlassian Jira: 0.69\n"
     ]
    },
    {
     "data": {
      "application/vnd.jupyter.widget-view+json": {
       "model_id": "75a368d1389a4794b7a18fbc0a389f98",
       "version_major": 2,
       "version_minor": 0
      },
      "text/plain": [
       "Batches:   0%|          | 0/1 [00:00<?, ?it/s]"
      ]
     },
     "metadata": {},
     "output_type": "display_data"
    },
    {
     "name": "stdout",
     "output_type": "stream",
     "text": [
      "Coherence Score for Become a CBRS Certified Professional Installer by Google: 0.32\n"
     ]
    },
    {
     "data": {
      "application/vnd.jupyter.widget-view+json": {
       "model_id": "df2f7d2145c5462491c10e12a5525c5d",
       "version_major": 2,
       "version_minor": 0
      },
      "text/plain": [
       "Batches:   0%|          | 0/1 [00:00<?, ?it/s]"
      ]
     },
     "metadata": {},
     "output_type": "display_data"
    },
    {
     "name": "stdout",
     "output_type": "stream",
     "text": [
      "Coherence Score for Building Scalable Java Microservices with Spring Boot and Spring Cloud: 0.05\n"
     ]
    },
    {
     "data": {
      "application/vnd.jupyter.widget-view+json": {
       "model_id": "4bb06ffd3f184775a66a2336af97cd25",
       "version_major": 2,
       "version_minor": 0
      },
      "text/plain": [
       "Batches:   0%|          | 0/1 [00:00<?, ?it/s]"
      ]
     },
     "metadata": {},
     "output_type": "display_data"
    },
    {
     "name": "stdout",
     "output_type": "stream",
     "text": [
      "Coherence Score for Business Metrics for Data-Driven Companies: 0.48\n"
     ]
    },
    {
     "data": {
      "application/vnd.jupyter.widget-view+json": {
       "model_id": "bb857ba64f224f15a92f883ae2fc7169",
       "version_major": 2,
       "version_minor": 0
      },
      "text/plain": [
       "Batches:   0%|          | 0/1 [00:00<?, ?it/s]"
      ]
     },
     "metadata": {},
     "output_type": "display_data"
    },
    {
     "name": "stdout",
     "output_type": "stream",
     "text": [
      "Coherence Score for Data Analysis with Python: 0.34\n"
     ]
    },
    {
     "data": {
      "application/vnd.jupyter.widget-view+json": {
       "model_id": "b12bf7bfded249c6bff62b7f66c1a09a",
       "version_major": 2,
       "version_minor": 0
      },
      "text/plain": [
       "Batches:   0%|          | 0/1 [00:00<?, ?it/s]"
      ]
     },
     "metadata": {},
     "output_type": "display_data"
    },
    {
     "name": "stdout",
     "output_type": "stream",
     "text": [
      "Coherence Score for Data Science Methodology: 0.66\n"
     ]
    },
    {
     "data": {
      "application/vnd.jupyter.widget-view+json": {
       "model_id": "24eff5aed2524f6e860b67b0e6cfc5f5",
       "version_major": 2,
       "version_minor": 0
      },
      "text/plain": [
       "Batches:   0%|          | 0/1 [00:00<?, ?it/s]"
      ]
     },
     "metadata": {},
     "output_type": "display_data"
    },
    {
     "name": "stdout",
     "output_type": "stream",
     "text": [
      "Coherence Score for Databases and SQL for Data Science: 0.40\n"
     ]
    },
    {
     "data": {
      "application/vnd.jupyter.widget-view+json": {
       "model_id": "b5f101c89352458d890e164ec33eba4a",
       "version_major": 2,
       "version_minor": 0
      },
      "text/plain": [
       "Batches:   0%|          | 0/1 [00:00<?, ?it/s]"
      ]
     },
     "metadata": {},
     "output_type": "display_data"
    },
    {
     "name": "stdout",
     "output_type": "stream",
     "text": [
      "Coherence Score for Fundamentals of Project Planning and Management: 0.15\n"
     ]
    },
    {
     "data": {
      "application/vnd.jupyter.widget-view+json": {
       "model_id": "24a03c3ec3cc445aafd162e15b00bd08",
       "version_major": 2,
       "version_minor": 0
      },
      "text/plain": [
       "Batches:   0%|          | 0/1 [00:00<?, ?it/s]"
      ]
     },
     "metadata": {},
     "output_type": "display_data"
    },
    {
     "name": "stdout",
     "output_type": "stream",
     "text": [
      "Coherence Score for Google Cloud Platform Big Data and Machine Learning Fundamentals: 0.34\n"
     ]
    },
    {
     "data": {
      "application/vnd.jupyter.widget-view+json": {
       "model_id": "e5254a0dab4a4a22b8d6ae836f71ce20",
       "version_major": 2,
       "version_minor": 0
      },
      "text/plain": [
       "Batches:   0%|          | 0/1 [00:00<?, ?it/s]"
      ]
     },
     "metadata": {},
     "output_type": "display_data"
    },
    {
     "name": "stdout",
     "output_type": "stream",
     "text": [
      "Coherence Score for Introduction to Data Science in Python: 0.34\n"
     ]
    },
    {
     "data": {
      "application/vnd.jupyter.widget-view+json": {
       "model_id": "9ac263a802e347ff854bcfbafe7d57be",
       "version_major": 2,
       "version_minor": 0
      },
      "text/plain": [
       "Batches:   0%|          | 0/1 [00:00<?, ?it/s]"
      ]
     },
     "metadata": {},
     "output_type": "display_data"
    },
    {
     "name": "stdout",
     "output_type": "stream",
     "text": [
      "Coherence Score for Introduction to User Experience Design: 0.29\n"
     ]
    },
    {
     "data": {
      "application/vnd.jupyter.widget-view+json": {
       "model_id": "34d557c34ad7457ca16841a4a8c9c884",
       "version_major": 2,
       "version_minor": 0
      },
      "text/plain": [
       "Batches:   0%|          | 0/1 [00:00<?, ?it/s]"
      ]
     },
     "metadata": {},
     "output_type": "display_data"
    },
    {
     "name": "stdout",
     "output_type": "stream",
     "text": [
      "Coherence Score for Natural Language Processing in TensorFlow: 0.09\n"
     ]
    },
    {
     "data": {
      "application/vnd.jupyter.widget-view+json": {
       "model_id": "8b4206fe85984e8fa578c8675e5d8800",
       "version_major": 2,
       "version_minor": 0
      },
      "text/plain": [
       "Batches:   0%|          | 0/1 [00:00<?, ?it/s]"
      ]
     },
     "metadata": {},
     "output_type": "display_data"
    },
    {
     "name": "stdout",
     "output_type": "stream",
     "text": [
      "Coherence Score for Operating Systems and You: Becoming a Power User: 0.40\n"
     ]
    },
    {
     "data": {
      "application/vnd.jupyter.widget-view+json": {
       "model_id": "c4f7df7e792e49b2ae2b89b7dd55b1b0",
       "version_major": 2,
       "version_minor": 0
      },
      "text/plain": [
       "Batches:   0%|          | 0/1 [00:00<?, ?it/s]"
      ]
     },
     "metadata": {},
     "output_type": "display_data"
    },
    {
     "name": "stdout",
     "output_type": "stream",
     "text": [
      "Coherence Score for Programming Foundations with JavaScript, HTML and CSS: 0.33\n"
     ]
    },
    {
     "data": {
      "application/vnd.jupyter.widget-view+json": {
       "model_id": "c4f83d730f244797858c36053fc83f5f",
       "version_major": 2,
       "version_minor": 0
      },
      "text/plain": [
       "Batches:   0%|          | 0/1 [00:00<?, ?it/s]"
      ]
     },
     "metadata": {},
     "output_type": "display_data"
    },
    {
     "name": "stdout",
     "output_type": "stream",
     "text": [
      "Coherence Score for Site Reliability Engineering: Measuring and Managing Reliability: 0.27\n"
     ]
    },
    {
     "data": {
      "application/vnd.jupyter.widget-view+json": {
       "model_id": "110a6a14ad254f369b94e3a122bd19cf",
       "version_major": 2,
       "version_minor": 0
      },
      "text/plain": [
       "Batches:   0%|          | 0/1 [00:00<?, ?it/s]"
      ]
     },
     "metadata": {},
     "output_type": "display_data"
    },
    {
     "name": "stdout",
     "output_type": "stream",
     "text": [
      "Coherence Score for Supply Chain Principles: 0.23\n"
     ]
    },
    {
     "data": {
      "application/vnd.jupyter.widget-view+json": {
       "model_id": "f5188908094c41799e182943689d0556",
       "version_major": 2,
       "version_minor": 0
      },
      "text/plain": [
       "Batches:   0%|          | 0/1 [00:00<?, ?it/s]"
      ]
     },
     "metadata": {},
     "output_type": "display_data"
    },
    {
     "name": "stdout",
     "output_type": "stream",
     "text": [
      "Coherence Score for The Social Context of Mental Health and Illness: 0.17\n"
     ]
    },
    {
     "data": {
      "application/vnd.jupyter.widget-view+json": {
       "model_id": "be898cd004eb49c4b1a409f62497cb37",
       "version_major": 2,
       "version_minor": 0
      },
      "text/plain": [
       "Batches:   0%|          | 0/1 [00:00<?, ?it/s]"
      ]
     },
     "metadata": {},
     "output_type": "display_data"
    },
    {
     "name": "stdout",
     "output_type": "stream",
     "text": [
      "Coherence Score for Visual Elements of User Interface Design: 0.41\n",
      "Average Coherence Score: 0.33\n"
     ]
    }
   ],
   "source": [
    "from sentence_transformers import SentenceTransformer\n",
    "from sklearn.metrics.pairwise import cosine_similarity\n",
    "import numpy as np\n",
    "\n",
    "def evaluate_coherence(text):\n",
    "    \"\"\"\n",
    "    Evaluates coherence by computing cosine similarity between consecutive sentence embeddings.\n",
    "\n",
    "    Args:\n",
    "    - text (str): The input text to evaluate.\n",
    "\n",
    "    Returns:\n",
    "    - float: Average coherence score (range 0 to 1).\n",
    "    \"\"\"\n",
    "    model = SentenceTransformer('all-MiniLM-L6-v2')\n",
    "    sentences = text.split(\". \")  # Simple sentence segmentation\n",
    "    embeddings = model.encode(sentences)\n",
    "    \n",
    "    if len(embeddings) < 2:\n",
    "        return 1.0  # If only one sentence, coherence is perfect\n",
    "    \n",
    "    similarities = [cosine_similarity([embeddings[i]], [embeddings[i+1]])[0][0] \n",
    "                    for i in range(len(embeddings) - 1)]\n",
    "    \n",
    "    return np.mean(similarities)\n",
    "\n",
    "# Example Usage\n",
    "total_coherence = 0\n",
    "for key, values in summary_dict.items():\n",
    "    generated_summary = \" \".join(values)\n",
    "    coherence_score = evaluate_coherence(generated_summary)\n",
    "    total_coherence += coherence_score\n",
    "    print(f\"Coherence Score for {key}: {coherence_score:.2f}\")\n",
    "\n",
    "avg_coherence = total_coherence / len(summary_dict)\n",
    "print(f\"Average Coherence Score: {avg_coherence:.2f}\")\n"
   ]
  },
  {
   "cell_type": "code",
   "execution_count": 31,
   "metadata": {
    "execution": {
     "iopub.execute_input": "2025-04-05T11:14:40.613444Z",
     "iopub.status.busy": "2025-04-05T11:14:40.613129Z",
     "iopub.status.idle": "2025-04-05T11:14:40.645089Z",
     "shell.execute_reply": "2025-04-05T11:14:40.644182Z",
     "shell.execute_reply.started": "2025-04-05T11:14:40.613418Z"
    },
    "trusted": true
   },
   "outputs": [
    {
     "name": "stdout",
     "output_type": "stream",
     "text": [
      "Agile with Atlassian Jira\n",
      "Length of the Original Text: 98084\n",
      "Length of the Summarized Text: 389\n",
      "Summary Ratio: 0.3965988336527874 %\n",
      "Become a CBRS Certified Professional Installer by Google\n",
      "Length of the Original Text: 10270\n",
      "Length of the Summarized Text: 385\n",
      "Summary Ratio: 3.7487828627069133 %\n",
      "Building Scalable Java Microservices with Spring Boot and Spring Cloud\n",
      "Length of the Original Text: 22370\n",
      "Length of the Summarized Text: 425\n",
      "Summary Ratio: 1.899865891819401 %\n",
      "Business Metrics for Data-Driven Companies\n",
      "Length of the Original Text: 63162\n",
      "Length of the Summarized Text: 438\n",
      "Summary Ratio: 0.693454925429847 %\n",
      "Data Analysis with Python\n",
      "Length of the Original Text: 525980\n",
      "Length of the Summarized Text: 408\n",
      "Summary Ratio: 0.07756948933419522 %\n",
      "Data Science Methodology\n",
      "Length of the Original Text: 200617\n",
      "Length of the Summarized Text: 388\n",
      "Summary Ratio: 0.19340335066320402 %\n",
      "Databases and SQL for Data Science\n",
      "Length of the Original Text: 118992\n",
      "Length of the Summarized Text: 390\n",
      "Summary Ratio: 0.32775312626058895 %\n",
      "Fundamentals of Project Planning and Management\n",
      "Length of the Original Text: 147764\n",
      "Length of the Summarized Text: 391\n",
      "Summary Ratio: 0.26461113667740455 %\n",
      "Google Cloud Platform Big Data and Machine Learning Fundamentals\n",
      "Length of the Original Text: 66149\n",
      "Length of the Summarized Text: 466\n",
      "Summary Ratio: 0.7044702111898895 %\n",
      "Introduction to Data Science in Python\n",
      "Length of the Original Text: 959003\n",
      "Length of the Summarized Text: 408\n",
      "Summary Ratio: 0.04254418390766244 %\n",
      "Introduction to User Experience Design\n",
      "Length of the Original Text: 136215\n",
      "Length of the Summarized Text: 347\n",
      "Summary Ratio: 0.2547443379950813 %\n",
      "Natural Language Processing in TensorFlow\n",
      "Length of the Original Text: 89946\n",
      "Length of the Summarized Text: 376\n",
      "Summary Ratio: 0.4180285949347386 %\n",
      "Operating Systems and You: Becoming a Power User\n",
      "Length of the Original Text: 357293\n",
      "Length of the Summarized Text: 348\n",
      "Summary Ratio: 0.0973990534379347 %\n",
      "Programming Foundations with JavaScript, HTML and CSS\n",
      "Length of the Original Text: 141535\n",
      "Length of the Summarized Text: 421\n",
      "Summary Ratio: 0.2974529268378846 %\n",
      "Site Reliability Engineering: Measuring and Managing Reliability\n",
      "Length of the Original Text: 31448\n",
      "Length of the Summarized Text: 328\n",
      "Summary Ratio: 1.0429916051895192 %\n",
      "Supply Chain Principles\n",
      "Length of the Original Text: 43049\n",
      "Length of the Summarized Text: 342\n",
      "Summary Ratio: 0.7944435410810937 %\n",
      "The Social Context of Mental Health and Illness\n",
      "Length of the Original Text: 18337\n",
      "Length of the Summarized Text: 427\n",
      "Summary Ratio: 2.3286251840540984 %\n",
      "Visual Elements of User Interface Design\n",
      "Length of the Original Text: 124127\n",
      "Length of the Summarized Text: 372\n",
      "Summary Ratio: 0.2996930563052358 %\n"
     ]
    }
   ],
   "source": [
    "for key,values in course_reviews_dict.items():\n",
    "    original_text_len = \" \".join(course_reviews_dict[key])\n",
    "    summary_len = \" \".join(summary_dict[key]) \n",
    "    print(key)\n",
    "    print('Length of the Original Text:', len(original_text_len))\n",
    "\n",
    "    print(\"Length of the Summarized Text:\", len(summary_len))\n",
    "    print(\"Summary Ratio:\", 100*(len(summary_len)/len(original_text_len)), \"%\")"
   ]
  }
 ],
 "metadata": {
  "kaggle": {
   "accelerator": "nvidiaTeslaT4",
   "dataSources": [
    {
     "datasetId": 7053362,
     "sourceId": 11281637,
     "sourceType": "datasetVersion"
    },
    {
     "datasetId": 7053389,
     "sourceId": 11281669,
     "sourceType": "datasetVersion"
    }
   ],
   "dockerImageVersionId": 30919,
   "isGpuEnabled": true,
   "isInternetEnabled": true,
   "language": "python",
   "sourceType": "notebook"
  },
  "kernelspec": {
   "display_name": "Python 3",
   "language": "python",
   "name": "python3"
  },
  "language_info": {
   "codemirror_mode": {
    "name": "ipython",
    "version": 3
   },
   "file_extension": ".py",
   "mimetype": "text/x-python",
   "name": "python",
   "nbconvert_exporter": "python",
   "pygments_lexer": "ipython3",
   "version": "3.10.12"
  }
 },
 "nbformat": 4,
 "nbformat_minor": 4
}
